{
 "cells": [
  {
   "cell_type": "markdown",
   "id": "540a9907",
   "metadata": {},
   "source": [
    "# EDA of MLB and Minor League Baseball Attendance Data\n",
    "* Part 1 looks at media markets\n",
    "* Part 2 looks at attendance and capacities of minor and major league teams\n",
    "* Primarily used data from 2014-2019 so as to avoid outliers due to COVID restrictions, which affect different states differently at different times.\n",
    "* EDA culminates with plot of the % of stadium capacity filled for MLB teams with poor attendance and Charlotte Knights."
   ]
  },
  {
   "cell_type": "code",
   "execution_count": null,
   "id": "274669b2",
   "metadata": {},
   "outputs": [],
   "source": [
    "pip install plotly==5.9.0"
   ]
  },
  {
   "cell_type": "code",
   "execution_count": 181,
   "id": "7d166c83",
   "metadata": {},
   "outputs": [],
   "source": [
    "import pandas as pd\n",
    "import numpy as np\n",
    "import plotly.express as px"
   ]
  },
  {
   "cell_type": "code",
   "execution_count": 182,
   "id": "e2dfd236",
   "metadata": {},
   "outputs": [],
   "source": [
    "link = 'https://en.wikipedia.org/wiki/Metropolitan_statistical_area'\n",
    "market_table = pd.read_html(link)"
   ]
  },
  {
   "cell_type": "code",
   "execution_count": 183,
   "id": "e58a71ae",
   "metadata": {},
   "outputs": [
    {
     "data": {
      "text/html": [
       "<div>\n",
       "<style scoped>\n",
       "    .dataframe tbody tr th:only-of-type {\n",
       "        vertical-align: middle;\n",
       "    }\n",
       "\n",
       "    .dataframe tbody tr th {\n",
       "        vertical-align: top;\n",
       "    }\n",
       "\n",
       "    .dataframe thead th {\n",
       "        text-align: right;\n",
       "    }\n",
       "</style>\n",
       "<table border=\"1\" class=\"dataframe\">\n",
       "  <thead>\n",
       "    <tr style=\"text-align: right;\">\n",
       "      <th></th>\n",
       "      <th>Rank</th>\n",
       "      <th>Metropolitan statistical area</th>\n",
       "      <th>2021 estimate</th>\n",
       "      <th>2020 Census</th>\n",
       "      <th>% change</th>\n",
       "      <th>Encompassing combined statistical area</th>\n",
       "    </tr>\n",
       "  </thead>\n",
       "  <tbody>\n",
       "    <tr>\n",
       "      <th>0</th>\n",
       "      <td>1</td>\n",
       "      <td>New York-Newark-Jersey City, NY-NJ-PA MSA</td>\n",
       "      <td>19768458</td>\n",
       "      <td>20140470.0</td>\n",
       "      <td>−1.85%</td>\n",
       "      <td>New York-Newark, NY-NJ-CT-PA CSA</td>\n",
       "    </tr>\n",
       "    <tr>\n",
       "      <th>1</th>\n",
       "      <td>2</td>\n",
       "      <td>Los Angeles-Long Beach-Anaheim, CA MSA</td>\n",
       "      <td>12997353</td>\n",
       "      <td>13200998.0</td>\n",
       "      <td>−1.54%</td>\n",
       "      <td>Los Angeles-Long Beach, CA CSA</td>\n",
       "    </tr>\n",
       "    <tr>\n",
       "      <th>2</th>\n",
       "      <td>3</td>\n",
       "      <td>Chicago-Naperville-Elgin, IL-IN-WI MSA</td>\n",
       "      <td>9509934</td>\n",
       "      <td>9618502.0</td>\n",
       "      <td>−1.13%</td>\n",
       "      <td>Chicago-Naperville, IL-IN-WI CSA</td>\n",
       "    </tr>\n",
       "    <tr>\n",
       "      <th>3</th>\n",
       "      <td>4</td>\n",
       "      <td>Dallas-Fort Worth-Arlington, TX MSA</td>\n",
       "      <td>7759615</td>\n",
       "      <td>7637387.0</td>\n",
       "      <td>+1.60%</td>\n",
       "      <td>Dallas-Fort Worth, TX-OK CSA</td>\n",
       "    </tr>\n",
       "    <tr>\n",
       "      <th>4</th>\n",
       "      <td>-</td>\n",
       "      <td>Seattle-Vancouver-Victoria, WA-BC CSA</td>\n",
       "      <td>7356801</td>\n",
       "      <td>NaN</td>\n",
       "      <td>NaN</td>\n",
       "      <td>Not applicable, metro is transborder and non-c...</td>\n",
       "    </tr>\n",
       "  </tbody>\n",
       "</table>\n",
       "</div>"
      ],
      "text/plain": [
       "  Rank              Metropolitan statistical area  2021 estimate  2020 Census  \\\n",
       "0    1  New York-Newark-Jersey City, NY-NJ-PA MSA       19768458   20140470.0   \n",
       "1    2     Los Angeles-Long Beach-Anaheim, CA MSA       12997353   13200998.0   \n",
       "2    3     Chicago-Naperville-Elgin, IL-IN-WI MSA        9509934    9618502.0   \n",
       "3    4        Dallas-Fort Worth-Arlington, TX MSA        7759615    7637387.0   \n",
       "4    -      Seattle-Vancouver-Victoria, WA-BC CSA        7356801          NaN   \n",
       "\n",
       "  % change             Encompassing combined statistical area  \n",
       "0   −1.85%                   New York-Newark, NY-NJ-CT-PA CSA  \n",
       "1   −1.54%                     Los Angeles-Long Beach, CA CSA  \n",
       "2   −1.13%                   Chicago-Naperville, IL-IN-WI CSA  \n",
       "3   +1.60%                       Dallas-Fort Worth, TX-OK CSA  \n",
       "4      NaN  Not applicable, metro is transborder and non-c...  "
      ]
     },
     "execution_count": 183,
     "metadata": {},
     "output_type": "execute_result"
    }
   ],
   "source": [
    "rank_table = market_table[1]\n",
    "rank_table.head()"
   ]
  },
  {
   "cell_type": "code",
   "execution_count": 184,
   "id": "f26dfd87",
   "metadata": {},
   "outputs": [
    {
     "data": {
      "text/html": [
       "<div>\n",
       "<style scoped>\n",
       "    .dataframe tbody tr th:only-of-type {\n",
       "        vertical-align: middle;\n",
       "    }\n",
       "\n",
       "    .dataframe tbody tr th {\n",
       "        vertical-align: top;\n",
       "    }\n",
       "\n",
       "    .dataframe thead th {\n",
       "        text-align: right;\n",
       "    }\n",
       "</style>\n",
       "<table border=\"1\" class=\"dataframe\">\n",
       "  <thead>\n",
       "    <tr style=\"text-align: right;\">\n",
       "      <th></th>\n",
       "      <th>Rank</th>\n",
       "      <th>Metropolitan statistical area</th>\n",
       "      <th>2021 estimate</th>\n",
       "      <th>2020 Census</th>\n",
       "      <th>% change</th>\n",
       "      <th>Encompassing combined statistical area</th>\n",
       "    </tr>\n",
       "  </thead>\n",
       "  <tbody>\n",
       "    <tr>\n",
       "      <th>25</th>\n",
       "      <td>22</td>\n",
       "      <td>Charlotte-Concord-Gastonia, NC-SC MSA</td>\n",
       "      <td>2701046</td>\n",
       "      <td>2660329.0</td>\n",
       "      <td>+1.53%</td>\n",
       "      <td>Charlotte-Concord, NC-SC CSA</td>\n",
       "    </tr>\n",
       "    <tr>\n",
       "      <th>26</th>\n",
       "      <td>23</td>\n",
       "      <td>Orlando-Kissimmee-Sanford, FL MSA</td>\n",
       "      <td>2691925</td>\n",
       "      <td>2673376.0</td>\n",
       "      <td>+0.69%</td>\n",
       "      <td>Orlando-Lakeland-Deltona, FL CSA</td>\n",
       "    </tr>\n",
       "    <tr>\n",
       "      <th>27</th>\n",
       "      <td>24</td>\n",
       "      <td>San Antonio-New Braunfels, TX MSA</td>\n",
       "      <td>2601788</td>\n",
       "      <td>2558143.0</td>\n",
       "      <td>+1.71%</td>\n",
       "      <td>San Antonio-New Braunfels-Pearsall, TX CSA</td>\n",
       "    </tr>\n",
       "    <tr>\n",
       "      <th>28</th>\n",
       "      <td>25</td>\n",
       "      <td>Portland-Vancouver-Hillsboro, OR-WA MSA</td>\n",
       "      <td>2511612</td>\n",
       "      <td>2512859.0</td>\n",
       "      <td>−0.05%</td>\n",
       "      <td>Portland-Vancouver–Salem, OR-WA CSA</td>\n",
       "    </tr>\n",
       "    <tr>\n",
       "      <th>31</th>\n",
       "      <td>28</td>\n",
       "      <td>Austin-Round Rock, TX MSA</td>\n",
       "      <td>2352426</td>\n",
       "      <td>2283371.0</td>\n",
       "      <td>+3.02%</td>\n",
       "      <td>NaN</td>\n",
       "    </tr>\n",
       "  </tbody>\n",
       "</table>\n",
       "</div>"
      ],
      "text/plain": [
       "   Rank            Metropolitan statistical area  2021 estimate  2020 Census  \\\n",
       "25   22    Charlotte-Concord-Gastonia, NC-SC MSA        2701046    2660329.0   \n",
       "26   23        Orlando-Kissimmee-Sanford, FL MSA        2691925    2673376.0   \n",
       "27   24        San Antonio-New Braunfels, TX MSA        2601788    2558143.0   \n",
       "28   25  Portland-Vancouver-Hillsboro, OR-WA MSA        2511612    2512859.0   \n",
       "31   28                Austin-Round Rock, TX MSA        2352426    2283371.0   \n",
       "\n",
       "   % change      Encompassing combined statistical area  \n",
       "25   +1.53%                Charlotte-Concord, NC-SC CSA  \n",
       "26   +0.69%            Orlando-Lakeland-Deltona, FL CSA  \n",
       "27   +1.71%  San Antonio-New Braunfels-Pearsall, TX CSA  \n",
       "28   −0.05%         Portland-Vancouver–Salem, OR-WA CSA  \n",
       "31   +3.02%                                         NaN  "
      ]
     },
     "execution_count": 184,
     "metadata": {},
     "output_type": "execute_result"
    }
   ],
   "source": [
    "new_cities = ['Charlotte-Concord-Gastonia, NC-SC MSA', 'Orlando-Kissimmee-Sanford, FL MSA', \n",
    "              'Nashville-Davidson–Murfreesboro–Franklin, TN MSA', 'Austin-Round Rock, TX MSA',\n",
    "              'Portland-Vancouver-Hillsboro, OR-WA MSA','San Antonio-New Braunfels, TX MSA',\n",
    "              'Raleigh-Cary, NC MSA'\n",
    "]\n",
    "potential_markets = rank_table.loc[rank_table['Metropolitan\\xa0statistical\\xa0area'].isin(new_cities)]\n",
    "potential_markets.head()"
   ]
  },
  {
   "cell_type": "code",
   "execution_count": 185,
   "id": "484c396c",
   "metadata": {},
   "outputs": [],
   "source": [
    "fig = px.bar(potential_markets, x='Metropolitan\\xa0statistical\\xa0area', y='2021 estimate')"
   ]
  },
  {
   "cell_type": "code",
   "execution_count": 186,
   "id": "f0c76612",
   "metadata": {},
   "outputs": [
    {
     "data": {
      "application/vnd.plotly.v1+json": {
       "config": {
        "plotlyServerURL": "https://plot.ly"
       },
       "data": [
        {
         "alignmentgroup": "True",
         "hovertemplate": "Metropolitan statistical area=%{x}<br>2021 estimate=%{y}<extra></extra>",
         "legendgroup": "",
         "marker": {
          "color": "#636efa",
          "pattern": {
           "shape": ""
          }
         },
         "name": "",
         "offsetgroup": "",
         "orientation": "v",
         "showlegend": false,
         "textposition": "auto",
         "type": "bar",
         "x": [
          "Charlotte-Concord-Gastonia, NC-SC MSA",
          "Orlando-Kissimmee-Sanford, FL MSA",
          "San Antonio-New Braunfels, TX MSA",
          "Portland-Vancouver-Hillsboro, OR-WA MSA",
          "Austin-Round Rock, TX MSA",
          "Nashville-Davidson–Murfreesboro–Franklin, TN MSA",
          "Raleigh-Cary, NC MSA"
         ],
         "xaxis": "x",
         "y": [
          2701046,
          2691925,
          2601788,
          2511612,
          2352426,
          2012476,
          1448411
         ],
         "yaxis": "y"
        }
       ],
       "layout": {
        "barmode": "relative",
        "legend": {
         "tracegroupgap": 0
        },
        "margin": {
         "t": 60
        },
        "template": {
         "data": {
          "bar": [
           {
            "error_x": {
             "color": "#2a3f5f"
            },
            "error_y": {
             "color": "#2a3f5f"
            },
            "marker": {
             "line": {
              "color": "#E5ECF6",
              "width": 0.5
             },
             "pattern": {
              "fillmode": "overlay",
              "size": 10,
              "solidity": 0.2
             }
            },
            "type": "bar"
           }
          ],
          "barpolar": [
           {
            "marker": {
             "line": {
              "color": "#E5ECF6",
              "width": 0.5
             },
             "pattern": {
              "fillmode": "overlay",
              "size": 10,
              "solidity": 0.2
             }
            },
            "type": "barpolar"
           }
          ],
          "carpet": [
           {
            "aaxis": {
             "endlinecolor": "#2a3f5f",
             "gridcolor": "white",
             "linecolor": "white",
             "minorgridcolor": "white",
             "startlinecolor": "#2a3f5f"
            },
            "baxis": {
             "endlinecolor": "#2a3f5f",
             "gridcolor": "white",
             "linecolor": "white",
             "minorgridcolor": "white",
             "startlinecolor": "#2a3f5f"
            },
            "type": "carpet"
           }
          ],
          "choropleth": [
           {
            "colorbar": {
             "outlinewidth": 0,
             "ticks": ""
            },
            "type": "choropleth"
           }
          ],
          "contour": [
           {
            "colorbar": {
             "outlinewidth": 0,
             "ticks": ""
            },
            "colorscale": [
             [
              0,
              "#0d0887"
             ],
             [
              0.1111111111111111,
              "#46039f"
             ],
             [
              0.2222222222222222,
              "#7201a8"
             ],
             [
              0.3333333333333333,
              "#9c179e"
             ],
             [
              0.4444444444444444,
              "#bd3786"
             ],
             [
              0.5555555555555556,
              "#d8576b"
             ],
             [
              0.6666666666666666,
              "#ed7953"
             ],
             [
              0.7777777777777778,
              "#fb9f3a"
             ],
             [
              0.8888888888888888,
              "#fdca26"
             ],
             [
              1,
              "#f0f921"
             ]
            ],
            "type": "contour"
           }
          ],
          "contourcarpet": [
           {
            "colorbar": {
             "outlinewidth": 0,
             "ticks": ""
            },
            "type": "contourcarpet"
           }
          ],
          "heatmap": [
           {
            "colorbar": {
             "outlinewidth": 0,
             "ticks": ""
            },
            "colorscale": [
             [
              0,
              "#0d0887"
             ],
             [
              0.1111111111111111,
              "#46039f"
             ],
             [
              0.2222222222222222,
              "#7201a8"
             ],
             [
              0.3333333333333333,
              "#9c179e"
             ],
             [
              0.4444444444444444,
              "#bd3786"
             ],
             [
              0.5555555555555556,
              "#d8576b"
             ],
             [
              0.6666666666666666,
              "#ed7953"
             ],
             [
              0.7777777777777778,
              "#fb9f3a"
             ],
             [
              0.8888888888888888,
              "#fdca26"
             ],
             [
              1,
              "#f0f921"
             ]
            ],
            "type": "heatmap"
           }
          ],
          "heatmapgl": [
           {
            "colorbar": {
             "outlinewidth": 0,
             "ticks": ""
            },
            "colorscale": [
             [
              0,
              "#0d0887"
             ],
             [
              0.1111111111111111,
              "#46039f"
             ],
             [
              0.2222222222222222,
              "#7201a8"
             ],
             [
              0.3333333333333333,
              "#9c179e"
             ],
             [
              0.4444444444444444,
              "#bd3786"
             ],
             [
              0.5555555555555556,
              "#d8576b"
             ],
             [
              0.6666666666666666,
              "#ed7953"
             ],
             [
              0.7777777777777778,
              "#fb9f3a"
             ],
             [
              0.8888888888888888,
              "#fdca26"
             ],
             [
              1,
              "#f0f921"
             ]
            ],
            "type": "heatmapgl"
           }
          ],
          "histogram": [
           {
            "marker": {
             "pattern": {
              "fillmode": "overlay",
              "size": 10,
              "solidity": 0.2
             }
            },
            "type": "histogram"
           }
          ],
          "histogram2d": [
           {
            "colorbar": {
             "outlinewidth": 0,
             "ticks": ""
            },
            "colorscale": [
             [
              0,
              "#0d0887"
             ],
             [
              0.1111111111111111,
              "#46039f"
             ],
             [
              0.2222222222222222,
              "#7201a8"
             ],
             [
              0.3333333333333333,
              "#9c179e"
             ],
             [
              0.4444444444444444,
              "#bd3786"
             ],
             [
              0.5555555555555556,
              "#d8576b"
             ],
             [
              0.6666666666666666,
              "#ed7953"
             ],
             [
              0.7777777777777778,
              "#fb9f3a"
             ],
             [
              0.8888888888888888,
              "#fdca26"
             ],
             [
              1,
              "#f0f921"
             ]
            ],
            "type": "histogram2d"
           }
          ],
          "histogram2dcontour": [
           {
            "colorbar": {
             "outlinewidth": 0,
             "ticks": ""
            },
            "colorscale": [
             [
              0,
              "#0d0887"
             ],
             [
              0.1111111111111111,
              "#46039f"
             ],
             [
              0.2222222222222222,
              "#7201a8"
             ],
             [
              0.3333333333333333,
              "#9c179e"
             ],
             [
              0.4444444444444444,
              "#bd3786"
             ],
             [
              0.5555555555555556,
              "#d8576b"
             ],
             [
              0.6666666666666666,
              "#ed7953"
             ],
             [
              0.7777777777777778,
              "#fb9f3a"
             ],
             [
              0.8888888888888888,
              "#fdca26"
             ],
             [
              1,
              "#f0f921"
             ]
            ],
            "type": "histogram2dcontour"
           }
          ],
          "mesh3d": [
           {
            "colorbar": {
             "outlinewidth": 0,
             "ticks": ""
            },
            "type": "mesh3d"
           }
          ],
          "parcoords": [
           {
            "line": {
             "colorbar": {
              "outlinewidth": 0,
              "ticks": ""
             }
            },
            "type": "parcoords"
           }
          ],
          "pie": [
           {
            "automargin": true,
            "type": "pie"
           }
          ],
          "scatter": [
           {
            "fillpattern": {
             "fillmode": "overlay",
             "size": 10,
             "solidity": 0.2
            },
            "type": "scatter"
           }
          ],
          "scatter3d": [
           {
            "line": {
             "colorbar": {
              "outlinewidth": 0,
              "ticks": ""
             }
            },
            "marker": {
             "colorbar": {
              "outlinewidth": 0,
              "ticks": ""
             }
            },
            "type": "scatter3d"
           }
          ],
          "scattercarpet": [
           {
            "marker": {
             "colorbar": {
              "outlinewidth": 0,
              "ticks": ""
             }
            },
            "type": "scattercarpet"
           }
          ],
          "scattergeo": [
           {
            "marker": {
             "colorbar": {
              "outlinewidth": 0,
              "ticks": ""
             }
            },
            "type": "scattergeo"
           }
          ],
          "scattergl": [
           {
            "marker": {
             "colorbar": {
              "outlinewidth": 0,
              "ticks": ""
             }
            },
            "type": "scattergl"
           }
          ],
          "scattermapbox": [
           {
            "marker": {
             "colorbar": {
              "outlinewidth": 0,
              "ticks": ""
             }
            },
            "type": "scattermapbox"
           }
          ],
          "scatterpolar": [
           {
            "marker": {
             "colorbar": {
              "outlinewidth": 0,
              "ticks": ""
             }
            },
            "type": "scatterpolar"
           }
          ],
          "scatterpolargl": [
           {
            "marker": {
             "colorbar": {
              "outlinewidth": 0,
              "ticks": ""
             }
            },
            "type": "scatterpolargl"
           }
          ],
          "scatterternary": [
           {
            "marker": {
             "colorbar": {
              "outlinewidth": 0,
              "ticks": ""
             }
            },
            "type": "scatterternary"
           }
          ],
          "surface": [
           {
            "colorbar": {
             "outlinewidth": 0,
             "ticks": ""
            },
            "colorscale": [
             [
              0,
              "#0d0887"
             ],
             [
              0.1111111111111111,
              "#46039f"
             ],
             [
              0.2222222222222222,
              "#7201a8"
             ],
             [
              0.3333333333333333,
              "#9c179e"
             ],
             [
              0.4444444444444444,
              "#bd3786"
             ],
             [
              0.5555555555555556,
              "#d8576b"
             ],
             [
              0.6666666666666666,
              "#ed7953"
             ],
             [
              0.7777777777777778,
              "#fb9f3a"
             ],
             [
              0.8888888888888888,
              "#fdca26"
             ],
             [
              1,
              "#f0f921"
             ]
            ],
            "type": "surface"
           }
          ],
          "table": [
           {
            "cells": {
             "fill": {
              "color": "#EBF0F8"
             },
             "line": {
              "color": "white"
             }
            },
            "header": {
             "fill": {
              "color": "#C8D4E3"
             },
             "line": {
              "color": "white"
             }
            },
            "type": "table"
           }
          ]
         },
         "layout": {
          "annotationdefaults": {
           "arrowcolor": "#2a3f5f",
           "arrowhead": 0,
           "arrowwidth": 1
          },
          "autotypenumbers": "strict",
          "coloraxis": {
           "colorbar": {
            "outlinewidth": 0,
            "ticks": ""
           }
          },
          "colorscale": {
           "diverging": [
            [
             0,
             "#8e0152"
            ],
            [
             0.1,
             "#c51b7d"
            ],
            [
             0.2,
             "#de77ae"
            ],
            [
             0.3,
             "#f1b6da"
            ],
            [
             0.4,
             "#fde0ef"
            ],
            [
             0.5,
             "#f7f7f7"
            ],
            [
             0.6,
             "#e6f5d0"
            ],
            [
             0.7,
             "#b8e186"
            ],
            [
             0.8,
             "#7fbc41"
            ],
            [
             0.9,
             "#4d9221"
            ],
            [
             1,
             "#276419"
            ]
           ],
           "sequential": [
            [
             0,
             "#0d0887"
            ],
            [
             0.1111111111111111,
             "#46039f"
            ],
            [
             0.2222222222222222,
             "#7201a8"
            ],
            [
             0.3333333333333333,
             "#9c179e"
            ],
            [
             0.4444444444444444,
             "#bd3786"
            ],
            [
             0.5555555555555556,
             "#d8576b"
            ],
            [
             0.6666666666666666,
             "#ed7953"
            ],
            [
             0.7777777777777778,
             "#fb9f3a"
            ],
            [
             0.8888888888888888,
             "#fdca26"
            ],
            [
             1,
             "#f0f921"
            ]
           ],
           "sequentialminus": [
            [
             0,
             "#0d0887"
            ],
            [
             0.1111111111111111,
             "#46039f"
            ],
            [
             0.2222222222222222,
             "#7201a8"
            ],
            [
             0.3333333333333333,
             "#9c179e"
            ],
            [
             0.4444444444444444,
             "#bd3786"
            ],
            [
             0.5555555555555556,
             "#d8576b"
            ],
            [
             0.6666666666666666,
             "#ed7953"
            ],
            [
             0.7777777777777778,
             "#fb9f3a"
            ],
            [
             0.8888888888888888,
             "#fdca26"
            ],
            [
             1,
             "#f0f921"
            ]
           ]
          },
          "colorway": [
           "#636efa",
           "#EF553B",
           "#00cc96",
           "#ab63fa",
           "#FFA15A",
           "#19d3f3",
           "#FF6692",
           "#B6E880",
           "#FF97FF",
           "#FECB52"
          ],
          "font": {
           "color": "#2a3f5f"
          },
          "geo": {
           "bgcolor": "white",
           "lakecolor": "white",
           "landcolor": "#E5ECF6",
           "showlakes": true,
           "showland": true,
           "subunitcolor": "white"
          },
          "hoverlabel": {
           "align": "left"
          },
          "hovermode": "closest",
          "mapbox": {
           "style": "light"
          },
          "paper_bgcolor": "white",
          "plot_bgcolor": "#E5ECF6",
          "polar": {
           "angularaxis": {
            "gridcolor": "white",
            "linecolor": "white",
            "ticks": ""
           },
           "bgcolor": "#E5ECF6",
           "radialaxis": {
            "gridcolor": "white",
            "linecolor": "white",
            "ticks": ""
           }
          },
          "scene": {
           "xaxis": {
            "backgroundcolor": "#E5ECF6",
            "gridcolor": "white",
            "gridwidth": 2,
            "linecolor": "white",
            "showbackground": true,
            "ticks": "",
            "zerolinecolor": "white"
           },
           "yaxis": {
            "backgroundcolor": "#E5ECF6",
            "gridcolor": "white",
            "gridwidth": 2,
            "linecolor": "white",
            "showbackground": true,
            "ticks": "",
            "zerolinecolor": "white"
           },
           "zaxis": {
            "backgroundcolor": "#E5ECF6",
            "gridcolor": "white",
            "gridwidth": 2,
            "linecolor": "white",
            "showbackground": true,
            "ticks": "",
            "zerolinecolor": "white"
           }
          },
          "shapedefaults": {
           "line": {
            "color": "#2a3f5f"
           }
          },
          "ternary": {
           "aaxis": {
            "gridcolor": "white",
            "linecolor": "white",
            "ticks": ""
           },
           "baxis": {
            "gridcolor": "white",
            "linecolor": "white",
            "ticks": ""
           },
           "bgcolor": "#E5ECF6",
           "caxis": {
            "gridcolor": "white",
            "linecolor": "white",
            "ticks": ""
           }
          },
          "title": {
           "x": 0.05
          },
          "xaxis": {
           "automargin": true,
           "gridcolor": "white",
           "linecolor": "white",
           "ticks": "",
           "title": {
            "standoff": 15
           },
           "zerolinecolor": "white",
           "zerolinewidth": 2
          },
          "yaxis": {
           "automargin": true,
           "gridcolor": "white",
           "linecolor": "white",
           "ticks": "",
           "title": {
            "standoff": 15
           },
           "zerolinecolor": "white",
           "zerolinewidth": 2
          }
         }
        },
        "xaxis": {
         "anchor": "y",
         "domain": [
          0,
          1
         ],
         "title": {
          "text": "Metropolitan statistical area"
         }
        },
        "yaxis": {
         "anchor": "x",
         "domain": [
          0,
          1
         ],
         "title": {
          "text": "2021 estimate"
         }
        }
       }
      },
      "text/html": [
       "<div>                            <div id=\"79fa14e4-f0d0-4e7e-8f22-9fdda69866d0\" class=\"plotly-graph-div\" style=\"height:525px; width:100%;\"></div>            <script type=\"text/javascript\">                require([\"plotly\"], function(Plotly) {                    window.PLOTLYENV=window.PLOTLYENV || {};                                    if (document.getElementById(\"79fa14e4-f0d0-4e7e-8f22-9fdda69866d0\")) {                    Plotly.newPlot(                        \"79fa14e4-f0d0-4e7e-8f22-9fdda69866d0\",                        [{\"alignmentgroup\":\"True\",\"hovertemplate\":\"Metropolitan\\u00a0statistical\\u00a0area=%{x}<br>2021 estimate=%{y}<extra></extra>\",\"legendgroup\":\"\",\"marker\":{\"color\":\"#636efa\",\"pattern\":{\"shape\":\"\"}},\"name\":\"\",\"offsetgroup\":\"\",\"orientation\":\"v\",\"showlegend\":false,\"textposition\":\"auto\",\"x\":[\"Charlotte-Concord-Gastonia, NC-SC MSA\",\"Orlando-Kissimmee-Sanford, FL MSA\",\"San Antonio-New Braunfels, TX MSA\",\"Portland-Vancouver-Hillsboro, OR-WA MSA\",\"Austin-Round Rock, TX MSA\",\"Nashville-Davidson\\u2013Murfreesboro\\u2013Franklin, TN MSA\",\"Raleigh-Cary, NC MSA\"],\"xaxis\":\"x\",\"y\":[2701046,2691925,2601788,2511612,2352426,2012476,1448411],\"yaxis\":\"y\",\"type\":\"bar\"}],                        {\"template\":{\"data\":{\"histogram2dcontour\":[{\"type\":\"histogram2dcontour\",\"colorbar\":{\"outlinewidth\":0,\"ticks\":\"\"},\"colorscale\":[[0.0,\"#0d0887\"],[0.1111111111111111,\"#46039f\"],[0.2222222222222222,\"#7201a8\"],[0.3333333333333333,\"#9c179e\"],[0.4444444444444444,\"#bd3786\"],[0.5555555555555556,\"#d8576b\"],[0.6666666666666666,\"#ed7953\"],[0.7777777777777778,\"#fb9f3a\"],[0.8888888888888888,\"#fdca26\"],[1.0,\"#f0f921\"]]}],\"choropleth\":[{\"type\":\"choropleth\",\"colorbar\":{\"outlinewidth\":0,\"ticks\":\"\"}}],\"histogram2d\":[{\"type\":\"histogram2d\",\"colorbar\":{\"outlinewidth\":0,\"ticks\":\"\"},\"colorscale\":[[0.0,\"#0d0887\"],[0.1111111111111111,\"#46039f\"],[0.2222222222222222,\"#7201a8\"],[0.3333333333333333,\"#9c179e\"],[0.4444444444444444,\"#bd3786\"],[0.5555555555555556,\"#d8576b\"],[0.6666666666666666,\"#ed7953\"],[0.7777777777777778,\"#fb9f3a\"],[0.8888888888888888,\"#fdca26\"],[1.0,\"#f0f921\"]]}],\"heatmap\":[{\"type\":\"heatmap\",\"colorbar\":{\"outlinewidth\":0,\"ticks\":\"\"},\"colorscale\":[[0.0,\"#0d0887\"],[0.1111111111111111,\"#46039f\"],[0.2222222222222222,\"#7201a8\"],[0.3333333333333333,\"#9c179e\"],[0.4444444444444444,\"#bd3786\"],[0.5555555555555556,\"#d8576b\"],[0.6666666666666666,\"#ed7953\"],[0.7777777777777778,\"#fb9f3a\"],[0.8888888888888888,\"#fdca26\"],[1.0,\"#f0f921\"]]}],\"heatmapgl\":[{\"type\":\"heatmapgl\",\"colorbar\":{\"outlinewidth\":0,\"ticks\":\"\"},\"colorscale\":[[0.0,\"#0d0887\"],[0.1111111111111111,\"#46039f\"],[0.2222222222222222,\"#7201a8\"],[0.3333333333333333,\"#9c179e\"],[0.4444444444444444,\"#bd3786\"],[0.5555555555555556,\"#d8576b\"],[0.6666666666666666,\"#ed7953\"],[0.7777777777777778,\"#fb9f3a\"],[0.8888888888888888,\"#fdca26\"],[1.0,\"#f0f921\"]]}],\"contourcarpet\":[{\"type\":\"contourcarpet\",\"colorbar\":{\"outlinewidth\":0,\"ticks\":\"\"}}],\"contour\":[{\"type\":\"contour\",\"colorbar\":{\"outlinewidth\":0,\"ticks\":\"\"},\"colorscale\":[[0.0,\"#0d0887\"],[0.1111111111111111,\"#46039f\"],[0.2222222222222222,\"#7201a8\"],[0.3333333333333333,\"#9c179e\"],[0.4444444444444444,\"#bd3786\"],[0.5555555555555556,\"#d8576b\"],[0.6666666666666666,\"#ed7953\"],[0.7777777777777778,\"#fb9f3a\"],[0.8888888888888888,\"#fdca26\"],[1.0,\"#f0f921\"]]}],\"surface\":[{\"type\":\"surface\",\"colorbar\":{\"outlinewidth\":0,\"ticks\":\"\"},\"colorscale\":[[0.0,\"#0d0887\"],[0.1111111111111111,\"#46039f\"],[0.2222222222222222,\"#7201a8\"],[0.3333333333333333,\"#9c179e\"],[0.4444444444444444,\"#bd3786\"],[0.5555555555555556,\"#d8576b\"],[0.6666666666666666,\"#ed7953\"],[0.7777777777777778,\"#fb9f3a\"],[0.8888888888888888,\"#fdca26\"],[1.0,\"#f0f921\"]]}],\"mesh3d\":[{\"type\":\"mesh3d\",\"colorbar\":{\"outlinewidth\":0,\"ticks\":\"\"}}],\"scatter\":[{\"fillpattern\":{\"fillmode\":\"overlay\",\"size\":10,\"solidity\":0.2},\"type\":\"scatter\"}],\"parcoords\":[{\"type\":\"parcoords\",\"line\":{\"colorbar\":{\"outlinewidth\":0,\"ticks\":\"\"}}}],\"scatterpolargl\":[{\"type\":\"scatterpolargl\",\"marker\":{\"colorbar\":{\"outlinewidth\":0,\"ticks\":\"\"}}}],\"bar\":[{\"error_x\":{\"color\":\"#2a3f5f\"},\"error_y\":{\"color\":\"#2a3f5f\"},\"marker\":{\"line\":{\"color\":\"#E5ECF6\",\"width\":0.5},\"pattern\":{\"fillmode\":\"overlay\",\"size\":10,\"solidity\":0.2}},\"type\":\"bar\"}],\"scattergeo\":[{\"type\":\"scattergeo\",\"marker\":{\"colorbar\":{\"outlinewidth\":0,\"ticks\":\"\"}}}],\"scatterpolar\":[{\"type\":\"scatterpolar\",\"marker\":{\"colorbar\":{\"outlinewidth\":0,\"ticks\":\"\"}}}],\"histogram\":[{\"marker\":{\"pattern\":{\"fillmode\":\"overlay\",\"size\":10,\"solidity\":0.2}},\"type\":\"histogram\"}],\"scattergl\":[{\"type\":\"scattergl\",\"marker\":{\"colorbar\":{\"outlinewidth\":0,\"ticks\":\"\"}}}],\"scatter3d\":[{\"type\":\"scatter3d\",\"line\":{\"colorbar\":{\"outlinewidth\":0,\"ticks\":\"\"}},\"marker\":{\"colorbar\":{\"outlinewidth\":0,\"ticks\":\"\"}}}],\"scattermapbox\":[{\"type\":\"scattermapbox\",\"marker\":{\"colorbar\":{\"outlinewidth\":0,\"ticks\":\"\"}}}],\"scatterternary\":[{\"type\":\"scatterternary\",\"marker\":{\"colorbar\":{\"outlinewidth\":0,\"ticks\":\"\"}}}],\"scattercarpet\":[{\"type\":\"scattercarpet\",\"marker\":{\"colorbar\":{\"outlinewidth\":0,\"ticks\":\"\"}}}],\"carpet\":[{\"aaxis\":{\"endlinecolor\":\"#2a3f5f\",\"gridcolor\":\"white\",\"linecolor\":\"white\",\"minorgridcolor\":\"white\",\"startlinecolor\":\"#2a3f5f\"},\"baxis\":{\"endlinecolor\":\"#2a3f5f\",\"gridcolor\":\"white\",\"linecolor\":\"white\",\"minorgridcolor\":\"white\",\"startlinecolor\":\"#2a3f5f\"},\"type\":\"carpet\"}],\"table\":[{\"cells\":{\"fill\":{\"color\":\"#EBF0F8\"},\"line\":{\"color\":\"white\"}},\"header\":{\"fill\":{\"color\":\"#C8D4E3\"},\"line\":{\"color\":\"white\"}},\"type\":\"table\"}],\"barpolar\":[{\"marker\":{\"line\":{\"color\":\"#E5ECF6\",\"width\":0.5},\"pattern\":{\"fillmode\":\"overlay\",\"size\":10,\"solidity\":0.2}},\"type\":\"barpolar\"}],\"pie\":[{\"automargin\":true,\"type\":\"pie\"}]},\"layout\":{\"autotypenumbers\":\"strict\",\"colorway\":[\"#636efa\",\"#EF553B\",\"#00cc96\",\"#ab63fa\",\"#FFA15A\",\"#19d3f3\",\"#FF6692\",\"#B6E880\",\"#FF97FF\",\"#FECB52\"],\"font\":{\"color\":\"#2a3f5f\"},\"hovermode\":\"closest\",\"hoverlabel\":{\"align\":\"left\"},\"paper_bgcolor\":\"white\",\"plot_bgcolor\":\"#E5ECF6\",\"polar\":{\"bgcolor\":\"#E5ECF6\",\"angularaxis\":{\"gridcolor\":\"white\",\"linecolor\":\"white\",\"ticks\":\"\"},\"radialaxis\":{\"gridcolor\":\"white\",\"linecolor\":\"white\",\"ticks\":\"\"}},\"ternary\":{\"bgcolor\":\"#E5ECF6\",\"aaxis\":{\"gridcolor\":\"white\",\"linecolor\":\"white\",\"ticks\":\"\"},\"baxis\":{\"gridcolor\":\"white\",\"linecolor\":\"white\",\"ticks\":\"\"},\"caxis\":{\"gridcolor\":\"white\",\"linecolor\":\"white\",\"ticks\":\"\"}},\"coloraxis\":{\"colorbar\":{\"outlinewidth\":0,\"ticks\":\"\"}},\"colorscale\":{\"sequential\":[[0.0,\"#0d0887\"],[0.1111111111111111,\"#46039f\"],[0.2222222222222222,\"#7201a8\"],[0.3333333333333333,\"#9c179e\"],[0.4444444444444444,\"#bd3786\"],[0.5555555555555556,\"#d8576b\"],[0.6666666666666666,\"#ed7953\"],[0.7777777777777778,\"#fb9f3a\"],[0.8888888888888888,\"#fdca26\"],[1.0,\"#f0f921\"]],\"sequentialminus\":[[0.0,\"#0d0887\"],[0.1111111111111111,\"#46039f\"],[0.2222222222222222,\"#7201a8\"],[0.3333333333333333,\"#9c179e\"],[0.4444444444444444,\"#bd3786\"],[0.5555555555555556,\"#d8576b\"],[0.6666666666666666,\"#ed7953\"],[0.7777777777777778,\"#fb9f3a\"],[0.8888888888888888,\"#fdca26\"],[1.0,\"#f0f921\"]],\"diverging\":[[0,\"#8e0152\"],[0.1,\"#c51b7d\"],[0.2,\"#de77ae\"],[0.3,\"#f1b6da\"],[0.4,\"#fde0ef\"],[0.5,\"#f7f7f7\"],[0.6,\"#e6f5d0\"],[0.7,\"#b8e186\"],[0.8,\"#7fbc41\"],[0.9,\"#4d9221\"],[1,\"#276419\"]]},\"xaxis\":{\"gridcolor\":\"white\",\"linecolor\":\"white\",\"ticks\":\"\",\"title\":{\"standoff\":15},\"zerolinecolor\":\"white\",\"automargin\":true,\"zerolinewidth\":2},\"yaxis\":{\"gridcolor\":\"white\",\"linecolor\":\"white\",\"ticks\":\"\",\"title\":{\"standoff\":15},\"zerolinecolor\":\"white\",\"automargin\":true,\"zerolinewidth\":2},\"scene\":{\"xaxis\":{\"backgroundcolor\":\"#E5ECF6\",\"gridcolor\":\"white\",\"linecolor\":\"white\",\"showbackground\":true,\"ticks\":\"\",\"zerolinecolor\":\"white\",\"gridwidth\":2},\"yaxis\":{\"backgroundcolor\":\"#E5ECF6\",\"gridcolor\":\"white\",\"linecolor\":\"white\",\"showbackground\":true,\"ticks\":\"\",\"zerolinecolor\":\"white\",\"gridwidth\":2},\"zaxis\":{\"backgroundcolor\":\"#E5ECF6\",\"gridcolor\":\"white\",\"linecolor\":\"white\",\"showbackground\":true,\"ticks\":\"\",\"zerolinecolor\":\"white\",\"gridwidth\":2}},\"shapedefaults\":{\"line\":{\"color\":\"#2a3f5f\"}},\"annotationdefaults\":{\"arrowcolor\":\"#2a3f5f\",\"arrowhead\":0,\"arrowwidth\":1},\"geo\":{\"bgcolor\":\"white\",\"landcolor\":\"#E5ECF6\",\"subunitcolor\":\"white\",\"showland\":true,\"showlakes\":true,\"lakecolor\":\"white\"},\"title\":{\"x\":0.05},\"mapbox\":{\"style\":\"light\"}}},\"xaxis\":{\"anchor\":\"y\",\"domain\":[0.0,1.0],\"title\":{\"text\":\"Metropolitan\\u00a0statistical\\u00a0area\"}},\"yaxis\":{\"anchor\":\"x\",\"domain\":[0.0,1.0],\"title\":{\"text\":\"2021 estimate\"}},\"legend\":{\"tracegroupgap\":0},\"margin\":{\"t\":60},\"barmode\":\"relative\"},                        {\"responsive\": true}                    ).then(function(){\n",
       "                            \n",
       "var gd = document.getElementById('79fa14e4-f0d0-4e7e-8f22-9fdda69866d0');\n",
       "var x = new MutationObserver(function (mutations, observer) {{\n",
       "        var display = window.getComputedStyle(gd).display;\n",
       "        if (!display || display === 'none') {{\n",
       "            console.log([gd, 'removed!']);\n",
       "            Plotly.purge(gd);\n",
       "            observer.disconnect();\n",
       "        }}\n",
       "}});\n",
       "\n",
       "// Listen for the removal of the full notebook cells\n",
       "var notebookContainer = gd.closest('#notebook-container');\n",
       "if (notebookContainer) {{\n",
       "    x.observe(notebookContainer, {childList: true});\n",
       "}}\n",
       "\n",
       "// Listen for the clearing of the current output cell\n",
       "var outputEl = gd.closest('.output');\n",
       "if (outputEl) {{\n",
       "    x.observe(outputEl, {childList: true});\n",
       "}}\n",
       "\n",
       "                        })                };                });            </script>        </div>"
      ]
     },
     "metadata": {},
     "output_type": "display_data"
    }
   ],
   "source": [
    "fig.show()"
   ]
  },
  {
   "cell_type": "code",
   "execution_count": 187,
   "id": "49982f60",
   "metadata": {},
   "outputs": [],
   "source": [
    "clt_estimate = rank_table[\n",
    "    rank_table['Metropolitan\\xa0statistical\\xa0area']=='Charlotte-Concord-Gastonia, NC-SC MSA']['2021 estimate']"
   ]
  },
  {
   "cell_type": "code",
   "execution_count": 188,
   "id": "78a37d6c",
   "metadata": {
    "scrolled": true
   },
   "outputs": [
    {
     "data": {
      "text/html": [
       "<div>\n",
       "<style scoped>\n",
       "    .dataframe tbody tr th:only-of-type {\n",
       "        vertical-align: middle;\n",
       "    }\n",
       "\n",
       "    .dataframe tbody tr th {\n",
       "        vertical-align: top;\n",
       "    }\n",
       "\n",
       "    .dataframe thead th {\n",
       "        text-align: right;\n",
       "    }\n",
       "</style>\n",
       "<table border=\"1\" class=\"dataframe\">\n",
       "  <thead>\n",
       "    <tr style=\"text-align: right;\">\n",
       "      <th></th>\n",
       "      <th>Rank</th>\n",
       "      <th>City</th>\n",
       "      <th>State</th>\n",
       "      <th>2021 Est Pop</th>\n",
       "      <th>2020 Census</th>\n",
       "      <th>Pct. Change</th>\n",
       "    </tr>\n",
       "  </thead>\n",
       "  <tbody>\n",
       "    <tr>\n",
       "      <th>12</th>\n",
       "      <td>13</td>\n",
       "      <td>Fort Worth</td>\n",
       "      <td>Texas</td>\n",
       "      <td>935508</td>\n",
       "      <td>918915</td>\n",
       "      <td>1.805717</td>\n",
       "    </tr>\n",
       "    <tr>\n",
       "      <th>6</th>\n",
       "      <td>7</td>\n",
       "      <td>San Antonio</td>\n",
       "      <td>Texas</td>\n",
       "      <td>1451853</td>\n",
       "      <td>1434625</td>\n",
       "      <td>1.200871</td>\n",
       "    </tr>\n",
       "    <tr>\n",
       "      <th>39</th>\n",
       "      <td>40</td>\n",
       "      <td>Colorado Springs</td>\n",
       "      <td>Colorado</td>\n",
       "      <td>483956</td>\n",
       "      <td>478961</td>\n",
       "      <td>1.042882</td>\n",
       "    </tr>\n",
       "    <tr>\n",
       "      <th>35</th>\n",
       "      <td>36</td>\n",
       "      <td>Mesa</td>\n",
       "      <td>Arizona</td>\n",
       "      <td>509475</td>\n",
       "      <td>504258</td>\n",
       "      <td>1.034589</td>\n",
       "    </tr>\n",
       "    <tr>\n",
       "      <th>47</th>\n",
       "      <td>48</td>\n",
       "      <td>Bakersfield</td>\n",
       "      <td>California</td>\n",
       "      <td>407615</td>\n",
       "      <td>403455</td>\n",
       "      <td>1.031094</td>\n",
       "    </tr>\n",
       "    <tr>\n",
       "      <th>4</th>\n",
       "      <td>5</td>\n",
       "      <td>Phoenix</td>\n",
       "      <td>Arizona</td>\n",
       "      <td>1624569</td>\n",
       "      <td>1608139</td>\n",
       "      <td>1.021678</td>\n",
       "    </tr>\n",
       "    <tr>\n",
       "      <th>19</th>\n",
       "      <td>20</td>\n",
       "      <td>Oklahoma City</td>\n",
       "      <td>Oklahoma</td>\n",
       "      <td>687725</td>\n",
       "      <td>681054</td>\n",
       "      <td>0.979511</td>\n",
       "    </tr>\n",
       "    <tr>\n",
       "      <th>24</th>\n",
       "      <td>25</td>\n",
       "      <td>Las Vegas</td>\n",
       "      <td>Nevada</td>\n",
       "      <td>646790</td>\n",
       "      <td>641903</td>\n",
       "      <td>0.761330</td>\n",
       "    </tr>\n",
       "    <tr>\n",
       "      <th>15</th>\n",
       "      <td>16</td>\n",
       "      <td>Charlotte</td>\n",
       "      <td>North Carolina</td>\n",
       "      <td>879709</td>\n",
       "      <td>874579</td>\n",
       "      <td>0.586568</td>\n",
       "    </tr>\n",
       "    <tr>\n",
       "      <th>11</th>\n",
       "      <td>12</td>\n",
       "      <td>Jacksonville[f]</td>\n",
       "      <td>Florida</td>\n",
       "      <td>954614</td>\n",
       "      <td>949611</td>\n",
       "      <td>0.526847</td>\n",
       "    </tr>\n",
       "    <tr>\n",
       "      <th>32</th>\n",
       "      <td>33</td>\n",
       "      <td>Fresno</td>\n",
       "      <td>California</td>\n",
       "      <td>544510</td>\n",
       "      <td>542107</td>\n",
       "      <td>0.443270</td>\n",
       "    </tr>\n",
       "    <tr>\n",
       "      <th>40</th>\n",
       "      <td>41</td>\n",
       "      <td>Raleigh</td>\n",
       "      <td>North Carolina</td>\n",
       "      <td>469124</td>\n",
       "      <td>467665</td>\n",
       "      <td>0.311975</td>\n",
       "    </tr>\n",
       "    <tr>\n",
       "      <th>38</th>\n",
       "      <td>39</td>\n",
       "      <td>Omaha</td>\n",
       "      <td>Nebraska</td>\n",
       "      <td>487300</td>\n",
       "      <td>486051</td>\n",
       "      <td>0.256969</td>\n",
       "    </tr>\n",
       "    <tr>\n",
       "      <th>10</th>\n",
       "      <td>11</td>\n",
       "      <td>Austin</td>\n",
       "      <td>Texas</td>\n",
       "      <td>964177</td>\n",
       "      <td>961855</td>\n",
       "      <td>0.241409</td>\n",
       "    </tr>\n",
       "    <tr>\n",
       "      <th>33</th>\n",
       "      <td>34</td>\n",
       "      <td>Tucson</td>\n",
       "      <td>Arizona</td>\n",
       "      <td>543242</td>\n",
       "      <td>542629</td>\n",
       "      <td>0.112969</td>\n",
       "    </tr>\n",
       "    <tr>\n",
       "      <th>13</th>\n",
       "      <td>14</td>\n",
       "      <td>Columbus</td>\n",
       "      <td>Ohio</td>\n",
       "      <td>906528</td>\n",
       "      <td>905748</td>\n",
       "      <td>0.086117</td>\n",
       "    </tr>\n",
       "    <tr>\n",
       "      <th>36</th>\n",
       "      <td>37</td>\n",
       "      <td>Kansas City</td>\n",
       "      <td>Missouri</td>\n",
       "      <td>508394</td>\n",
       "      <td>508090</td>\n",
       "      <td>0.059832</td>\n",
       "    </tr>\n",
       "    <tr>\n",
       "      <th>34</th>\n",
       "      <td>35</td>\n",
       "      <td>Sacramento</td>\n",
       "      <td>California</td>\n",
       "      <td>525041</td>\n",
       "      <td>524943</td>\n",
       "      <td>0.018669</td>\n",
       "    </tr>\n",
       "    <tr>\n",
       "      <th>21</th>\n",
       "      <td>22</td>\n",
       "      <td>El Paso</td>\n",
       "      <td>Texas</td>\n",
       "      <td>678415</td>\n",
       "      <td>678815</td>\n",
       "      <td>-0.058926</td>\n",
       "    </tr>\n",
       "    <tr>\n",
       "      <th>31</th>\n",
       "      <td>32</td>\n",
       "      <td>Albuquerque</td>\n",
       "      <td>New Mexico</td>\n",
       "      <td>562599</td>\n",
       "      <td>564559</td>\n",
       "      <td>-0.347174</td>\n",
       "    </tr>\n",
       "    <tr>\n",
       "      <th>49</th>\n",
       "      <td>50</td>\n",
       "      <td>Arlington</td>\n",
       "      <td>Texas</td>\n",
       "      <td>392786</td>\n",
       "      <td>394266</td>\n",
       "      <td>-0.375381</td>\n",
       "    </tr>\n",
       "    <tr>\n",
       "      <th>7</th>\n",
       "      <td>8</td>\n",
       "      <td>San Diego</td>\n",
       "      <td>California</td>\n",
       "      <td>1381611</td>\n",
       "      <td>1386932</td>\n",
       "      <td>-0.383653</td>\n",
       "    </tr>\n",
       "    <tr>\n",
       "      <th>41</th>\n",
       "      <td>42</td>\n",
       "      <td>Virginia Beach[m]</td>\n",
       "      <td>Virginia</td>\n",
       "      <td>457672</td>\n",
       "      <td>459470</td>\n",
       "      <td>-0.391320</td>\n",
       "    </tr>\n",
       "    <tr>\n",
       "      <th>46</th>\n",
       "      <td>47</td>\n",
       "      <td>Tulsa</td>\n",
       "      <td>Oklahoma</td>\n",
       "      <td>411401</td>\n",
       "      <td>413066</td>\n",
       "      <td>-0.403083</td>\n",
       "    </tr>\n",
       "    <tr>\n",
       "      <th>17</th>\n",
       "      <td>18</td>\n",
       "      <td>Seattle</td>\n",
       "      <td>Washington</td>\n",
       "      <td>733919</td>\n",
       "      <td>737015</td>\n",
       "      <td>-0.420073</td>\n",
       "    </tr>\n",
       "    <tr>\n",
       "      <th>37</th>\n",
       "      <td>38</td>\n",
       "      <td>Atlanta</td>\n",
       "      <td>Georgia</td>\n",
       "      <td>496461</td>\n",
       "      <td>498715</td>\n",
       "      <td>-0.451962</td>\n",
       "    </tr>\n",
       "    <tr>\n",
       "      <th>48</th>\n",
       "      <td>49</td>\n",
       "      <td>Wichita</td>\n",
       "      <td>Kansas</td>\n",
       "      <td>395699</td>\n",
       "      <td>397532</td>\n",
       "      <td>-0.461095</td>\n",
       "    </tr>\n",
       "    <tr>\n",
       "      <th>43</th>\n",
       "      <td>44</td>\n",
       "      <td>Miami</td>\n",
       "      <td>Florida</td>\n",
       "      <td>439890</td>\n",
       "      <td>442241</td>\n",
       "      <td>-0.531611</td>\n",
       "    </tr>\n",
       "    <tr>\n",
       "      <th>18</th>\n",
       "      <td>19</td>\n",
       "      <td>Denver[i]</td>\n",
       "      <td>Colorado</td>\n",
       "      <td>711463</td>\n",
       "      <td>715522</td>\n",
       "      <td>-0.567278</td>\n",
       "    </tr>\n",
       "    <tr>\n",
       "      <th>14</th>\n",
       "      <td>15</td>\n",
       "      <td>Indianapolis[g]</td>\n",
       "      <td>Indiana</td>\n",
       "      <td>882039</td>\n",
       "      <td>887642</td>\n",
       "      <td>-0.631223</td>\n",
       "    </tr>\n",
       "    <tr>\n",
       "      <th>27</th>\n",
       "      <td>28</td>\n",
       "      <td>Louisville[l]</td>\n",
       "      <td>Kentucky</td>\n",
       "      <td>628594</td>\n",
       "      <td>633045</td>\n",
       "      <td>-0.703110</td>\n",
       "    </tr>\n",
       "    <tr>\n",
       "      <th>3</th>\n",
       "      <td>4</td>\n",
       "      <td>Houston</td>\n",
       "      <td>Texas</td>\n",
       "      <td>2288250</td>\n",
       "      <td>2304580</td>\n",
       "      <td>-0.708589</td>\n",
       "    </tr>\n",
       "    <tr>\n",
       "      <th>28</th>\n",
       "      <td>29</td>\n",
       "      <td>Memphis</td>\n",
       "      <td>Tennessee</td>\n",
       "      <td>628127</td>\n",
       "      <td>633104</td>\n",
       "      <td>-0.786127</td>\n",
       "    </tr>\n",
       "    <tr>\n",
       "      <th>26</th>\n",
       "      <td>27</td>\n",
       "      <td>Detroit</td>\n",
       "      <td>Michigan</td>\n",
       "      <td>632464</td>\n",
       "      <td>639111</td>\n",
       "      <td>-1.040038</td>\n",
       "    </tr>\n",
       "    <tr>\n",
       "      <th>45</th>\n",
       "      <td>46</td>\n",
       "      <td>Minneapolis</td>\n",
       "      <td>Minnesota</td>\n",
       "      <td>425336</td>\n",
       "      <td>429954</td>\n",
       "      <td>-1.074068</td>\n",
       "    </tr>\n",
       "    <tr>\n",
       "      <th>8</th>\n",
       "      <td>9</td>\n",
       "      <td>Dallas</td>\n",
       "      <td>Texas</td>\n",
       "      <td>1288457</td>\n",
       "      <td>1304379</td>\n",
       "      <td>-1.220657</td>\n",
       "    </tr>\n",
       "    <tr>\n",
       "      <th>1</th>\n",
       "      <td>2</td>\n",
       "      <td>Los Angeles</td>\n",
       "      <td>California</td>\n",
       "      <td>3849297</td>\n",
       "      <td>3898747</td>\n",
       "      <td>-1.268356</td>\n",
       "    </tr>\n",
       "    <tr>\n",
       "      <th>30</th>\n",
       "      <td>31</td>\n",
       "      <td>Milwaukee</td>\n",
       "      <td>Wisconsin</td>\n",
       "      <td>569330</td>\n",
       "      <td>577222</td>\n",
       "      <td>-1.367238</td>\n",
       "    </tr>\n",
       "    <tr>\n",
       "      <th>20</th>\n",
       "      <td>21</td>\n",
       "      <td>Nashville[j]</td>\n",
       "      <td>Tennessee</td>\n",
       "      <td>678851</td>\n",
       "      <td>689447</td>\n",
       "      <td>-1.536884</td>\n",
       "    </tr>\n",
       "    <tr>\n",
       "      <th>44</th>\n",
       "      <td>45</td>\n",
       "      <td>Oakland</td>\n",
       "      <td>California</td>\n",
       "      <td>433823</td>\n",
       "      <td>440646</td>\n",
       "      <td>-1.548408</td>\n",
       "    </tr>\n",
       "    <tr>\n",
       "      <th>29</th>\n",
       "      <td>30</td>\n",
       "      <td>Baltimore[m]</td>\n",
       "      <td>Maryland</td>\n",
       "      <td>576498</td>\n",
       "      <td>585708</td>\n",
       "      <td>-1.572456</td>\n",
       "    </tr>\n",
       "    <tr>\n",
       "      <th>5</th>\n",
       "      <td>6</td>\n",
       "      <td>Philadelphia[e]</td>\n",
       "      <td>Pennsylvania</td>\n",
       "      <td>1576251</td>\n",
       "      <td>1603797</td>\n",
       "      <td>-1.717549</td>\n",
       "    </tr>\n",
       "    <tr>\n",
       "      <th>25</th>\n",
       "      <td>26</td>\n",
       "      <td>Portland</td>\n",
       "      <td>Oregon</td>\n",
       "      <td>641162</td>\n",
       "      <td>652503</td>\n",
       "      <td>-1.738076</td>\n",
       "    </tr>\n",
       "    <tr>\n",
       "      <th>2</th>\n",
       "      <td>3</td>\n",
       "      <td>Chicago</td>\n",
       "      <td>Illinois</td>\n",
       "      <td>2696555</td>\n",
       "      <td>2746388</td>\n",
       "      <td>-1.814492</td>\n",
       "    </tr>\n",
       "    <tr>\n",
       "      <th>42</th>\n",
       "      <td>43</td>\n",
       "      <td>Long Beach</td>\n",
       "      <td>California</td>\n",
       "      <td>456062</td>\n",
       "      <td>466742</td>\n",
       "      <td>-2.288202</td>\n",
       "    </tr>\n",
       "    <tr>\n",
       "      <th>22</th>\n",
       "      <td>23</td>\n",
       "      <td>Washington[k]</td>\n",
       "      <td>District of Columbia</td>\n",
       "      <td>670050</td>\n",
       "      <td>689545</td>\n",
       "      <td>-2.827227</td>\n",
       "    </tr>\n",
       "    <tr>\n",
       "      <th>9</th>\n",
       "      <td>10</td>\n",
       "      <td>San Jose</td>\n",
       "      <td>California</td>\n",
       "      <td>983489</td>\n",
       "      <td>1013240</td>\n",
       "      <td>-2.936224</td>\n",
       "    </tr>\n",
       "    <tr>\n",
       "      <th>23</th>\n",
       "      <td>24</td>\n",
       "      <td>Boston</td>\n",
       "      <td>Massachusetts</td>\n",
       "      <td>654776</td>\n",
       "      <td>675647</td>\n",
       "      <td>-3.089039</td>\n",
       "    </tr>\n",
       "    <tr>\n",
       "      <th>0</th>\n",
       "      <td>1</td>\n",
       "      <td>New York[d]</td>\n",
       "      <td>New York</td>\n",
       "      <td>8467513</td>\n",
       "      <td>8804190</td>\n",
       "      <td>-3.824054</td>\n",
       "    </tr>\n",
       "    <tr>\n",
       "      <th>16</th>\n",
       "      <td>17</td>\n",
       "      <td>San Francisco[h]</td>\n",
       "      <td>California</td>\n",
       "      <td>815201</td>\n",
       "      <td>873965</td>\n",
       "      <td>-6.723839</td>\n",
       "    </tr>\n",
       "  </tbody>\n",
       "</table>\n",
       "</div>"
      ],
      "text/plain": [
       "    Rank               City                 State  2021 Est Pop  2020 Census  \\\n",
       "12    13         Fort Worth                 Texas        935508       918915   \n",
       "6      7        San Antonio                 Texas       1451853      1434625   \n",
       "39    40   Colorado Springs              Colorado        483956       478961   \n",
       "35    36               Mesa               Arizona        509475       504258   \n",
       "47    48        Bakersfield            California        407615       403455   \n",
       "4      5            Phoenix               Arizona       1624569      1608139   \n",
       "19    20      Oklahoma City              Oklahoma        687725       681054   \n",
       "24    25          Las Vegas                Nevada        646790       641903   \n",
       "15    16          Charlotte        North Carolina        879709       874579   \n",
       "11    12    Jacksonville[f]               Florida        954614       949611   \n",
       "32    33             Fresno            California        544510       542107   \n",
       "40    41            Raleigh        North Carolina        469124       467665   \n",
       "38    39              Omaha              Nebraska        487300       486051   \n",
       "10    11             Austin                 Texas        964177       961855   \n",
       "33    34             Tucson               Arizona        543242       542629   \n",
       "13    14           Columbus                  Ohio        906528       905748   \n",
       "36    37        Kansas City              Missouri        508394       508090   \n",
       "34    35         Sacramento            California        525041       524943   \n",
       "21    22            El Paso                 Texas        678415       678815   \n",
       "31    32        Albuquerque            New Mexico        562599       564559   \n",
       "49    50          Arlington                 Texas        392786       394266   \n",
       "7      8          San Diego            California       1381611      1386932   \n",
       "41    42  Virginia Beach[m]              Virginia        457672       459470   \n",
       "46    47              Tulsa              Oklahoma        411401       413066   \n",
       "17    18            Seattle            Washington        733919       737015   \n",
       "37    38            Atlanta               Georgia        496461       498715   \n",
       "48    49            Wichita                Kansas        395699       397532   \n",
       "43    44              Miami               Florida        439890       442241   \n",
       "18    19          Denver[i]              Colorado        711463       715522   \n",
       "14    15    Indianapolis[g]               Indiana        882039       887642   \n",
       "27    28      Louisville[l]              Kentucky        628594       633045   \n",
       "3      4            Houston                 Texas       2288250      2304580   \n",
       "28    29            Memphis             Tennessee        628127       633104   \n",
       "26    27            Detroit              Michigan        632464       639111   \n",
       "45    46        Minneapolis             Minnesota        425336       429954   \n",
       "8      9             Dallas                 Texas       1288457      1304379   \n",
       "1      2        Los Angeles            California       3849297      3898747   \n",
       "30    31          Milwaukee             Wisconsin        569330       577222   \n",
       "20    21       Nashville[j]             Tennessee        678851       689447   \n",
       "44    45            Oakland            California        433823       440646   \n",
       "29    30       Baltimore[m]              Maryland        576498       585708   \n",
       "5      6    Philadelphia[e]          Pennsylvania       1576251      1603797   \n",
       "25    26           Portland                Oregon        641162       652503   \n",
       "2      3            Chicago              Illinois       2696555      2746388   \n",
       "42    43         Long Beach            California        456062       466742   \n",
       "22    23      Washington[k]  District of Columbia        670050       689545   \n",
       "9     10           San Jose            California        983489      1013240   \n",
       "23    24             Boston         Massachusetts        654776       675647   \n",
       "0      1        New York[d]              New York       8467513      8804190   \n",
       "16    17   San Francisco[h]            California        815201       873965   \n",
       "\n",
       "    Pct. Change  \n",
       "12     1.805717  \n",
       "6      1.200871  \n",
       "39     1.042882  \n",
       "35     1.034589  \n",
       "47     1.031094  \n",
       "4      1.021678  \n",
       "19     0.979511  \n",
       "24     0.761330  \n",
       "15     0.586568  \n",
       "11     0.526847  \n",
       "32     0.443270  \n",
       "40     0.311975  \n",
       "38     0.256969  \n",
       "10     0.241409  \n",
       "33     0.112969  \n",
       "13     0.086117  \n",
       "36     0.059832  \n",
       "34     0.018669  \n",
       "21    -0.058926  \n",
       "31    -0.347174  \n",
       "49    -0.375381  \n",
       "7     -0.383653  \n",
       "41    -0.391320  \n",
       "46    -0.403083  \n",
       "17    -0.420073  \n",
       "37    -0.451962  \n",
       "48    -0.461095  \n",
       "43    -0.531611  \n",
       "18    -0.567278  \n",
       "14    -0.631223  \n",
       "27    -0.703110  \n",
       "3     -0.708589  \n",
       "28    -0.786127  \n",
       "26    -1.040038  \n",
       "45    -1.074068  \n",
       "8     -1.220657  \n",
       "1     -1.268356  \n",
       "30    -1.367238  \n",
       "20    -1.536884  \n",
       "44    -1.548408  \n",
       "29    -1.572456  \n",
       "5     -1.717549  \n",
       "25    -1.738076  \n",
       "2     -1.814492  \n",
       "42    -2.288202  \n",
       "22    -2.827227  \n",
       "9     -2.936224  \n",
       "23    -3.089039  \n",
       "0     -3.824054  \n",
       "16    -6.723839  "
      ]
     },
     "execution_count": 188,
     "metadata": {},
     "output_type": "execute_result"
    }
   ],
   "source": [
    "populations = pd.read_html('https://en.wikipedia.org/wiki/List_of_United_States_cities_by_population')[4]\n",
    "my_columns = ['Rank', 'City', 'State', '2021 Est Pop', '2020 Census']\n",
    "big_pops = populations.iloc[0:50,0:5]\n",
    "big_pops.columns = my_columns\n",
    "#big_pops['% Change'] = big_pops['% Change'].str[1:-1].astype(float)\n",
    "big_pops['Pct. Change'] = 100*(big_pops['2021 Est Pop']-big_pops['2020 Census'])/big_pops['2020 Census']\n",
    "big_pops.sort_values(by='Pct. Change', ascending=False).head(50)"
   ]
  },
  {
   "cell_type": "code",
   "execution_count": 189,
   "id": "1f07c3ac",
   "metadata": {},
   "outputs": [
    {
     "data": {
      "text/html": [
       "<div>\n",
       "<style scoped>\n",
       "    .dataframe tbody tr th:only-of-type {\n",
       "        vertical-align: middle;\n",
       "    }\n",
       "\n",
       "    .dataframe tbody tr th {\n",
       "        vertical-align: top;\n",
       "    }\n",
       "\n",
       "    .dataframe thead th {\n",
       "        text-align: right;\n",
       "    }\n",
       "</style>\n",
       "<table border=\"1\" class=\"dataframe\">\n",
       "  <thead>\n",
       "    <tr style=\"text-align: right;\">\n",
       "      <th></th>\n",
       "      <th>Rank</th>\n",
       "      <th>City</th>\n",
       "      <th>State</th>\n",
       "      <th>2021 Est Pop</th>\n",
       "      <th>2020 Census</th>\n",
       "      <th>Pct. Change</th>\n",
       "    </tr>\n",
       "  </thead>\n",
       "  <tbody>\n",
       "    <tr>\n",
       "      <th>0</th>\n",
       "      <td>1</td>\n",
       "      <td>New York[d]</td>\n",
       "      <td>New York</td>\n",
       "      <td>8467513</td>\n",
       "      <td>8804190</td>\n",
       "      <td>-3.824054</td>\n",
       "    </tr>\n",
       "    <tr>\n",
       "      <th>1</th>\n",
       "      <td>2</td>\n",
       "      <td>Los Angeles</td>\n",
       "      <td>California</td>\n",
       "      <td>3849297</td>\n",
       "      <td>3898747</td>\n",
       "      <td>-1.268356</td>\n",
       "    </tr>\n",
       "    <tr>\n",
       "      <th>2</th>\n",
       "      <td>3</td>\n",
       "      <td>Chicago</td>\n",
       "      <td>Illinois</td>\n",
       "      <td>2696555</td>\n",
       "      <td>2746388</td>\n",
       "      <td>-1.814492</td>\n",
       "    </tr>\n",
       "    <tr>\n",
       "      <th>3</th>\n",
       "      <td>4</td>\n",
       "      <td>Houston</td>\n",
       "      <td>Texas</td>\n",
       "      <td>2288250</td>\n",
       "      <td>2304580</td>\n",
       "      <td>-0.708589</td>\n",
       "    </tr>\n",
       "    <tr>\n",
       "      <th>4</th>\n",
       "      <td>5</td>\n",
       "      <td>Phoenix</td>\n",
       "      <td>Arizona</td>\n",
       "      <td>1624569</td>\n",
       "      <td>1608139</td>\n",
       "      <td>1.021678</td>\n",
       "    </tr>\n",
       "  </tbody>\n",
       "</table>\n",
       "</div>"
      ],
      "text/plain": [
       "   Rank         City       State  2021 Est Pop  2020 Census  Pct. Change\n",
       "0     1  New York[d]    New York       8467513      8804190    -3.824054\n",
       "1     2  Los Angeles  California       3849297      3898747    -1.268356\n",
       "2     3      Chicago    Illinois       2696555      2746388    -1.814492\n",
       "3     4      Houston       Texas       2288250      2304580    -0.708589\n",
       "4     5      Phoenix     Arizona       1624569      1608139     1.021678"
      ]
     },
     "execution_count": 189,
     "metadata": {},
     "output_type": "execute_result"
    }
   ],
   "source": [
    "big_pops.head()"
   ]
  },
  {
   "cell_type": "code",
   "execution_count": 190,
   "id": "638295ae",
   "metadata": {},
   "outputs": [],
   "source": [
    "# TO DO:\n",
    "# Compare attendance of charlotte knights with other MLB teams.\n",
    "# Look at other minor league teams -- high attendance and low major teams\n",
    "# Show how full stadiums are also show raw numbers at these places "
   ]
  },
  {
   "cell_type": "code",
   "execution_count": 191,
   "id": "418066ed",
   "metadata": {},
   "outputs": [
    {
     "data": {
      "text/html": [
       "<div>\n",
       "<style scoped>\n",
       "    .dataframe tbody tr th:only-of-type {\n",
       "        vertical-align: middle;\n",
       "    }\n",
       "\n",
       "    .dataframe tbody tr th {\n",
       "        vertical-align: top;\n",
       "    }\n",
       "\n",
       "    .dataframe thead th {\n",
       "        text-align: right;\n",
       "    }\n",
       "</style>\n",
       "<table border=\"1\" class=\"dataframe\">\n",
       "  <thead>\n",
       "    <tr style=\"text-align: right;\">\n",
       "      <th></th>\n",
       "      <th>year</th>\n",
       "      <th>teamname</th>\n",
       "      <th>mlb</th>\n",
       "      <th>leaguename</th>\n",
       "      <th>level</th>\n",
       "      <th>place</th>\n",
       "      <th>g</th>\n",
       "      <th>w</th>\n",
       "      <th>l</th>\n",
       "      <th>home</th>\n",
       "      <th>attend.</th>\n",
       "      <th>avg att</th>\n",
       "    </tr>\n",
       "  </thead>\n",
       "  <tbody>\n",
       "    <tr>\n",
       "      <th>245</th>\n",
       "      <td>2019</td>\n",
       "      <td>Missoula Osprey</td>\n",
       "      <td>ARI</td>\n",
       "      <td>Pioneer League</td>\n",
       "      <td>Rk</td>\n",
       "      <td>Missoula,Montana</td>\n",
       "      <td>76</td>\n",
       "      <td>40</td>\n",
       "      <td>36</td>\n",
       "      <td>38</td>\n",
       "      <td>57076</td>\n",
       "      <td>1502</td>\n",
       "    </tr>\n",
       "    <tr>\n",
       "      <th>246</th>\n",
       "      <td>2019</td>\n",
       "      <td>Ogden Raptors</td>\n",
       "      <td>LAN</td>\n",
       "      <td>Pioneer League</td>\n",
       "      <td>Rk</td>\n",
       "      <td>Ogden,Utah</td>\n",
       "      <td>76</td>\n",
       "      <td>54</td>\n",
       "      <td>22</td>\n",
       "      <td>38</td>\n",
       "      <td>146201</td>\n",
       "      <td>3847</td>\n",
       "    </tr>\n",
       "    <tr>\n",
       "      <th>247</th>\n",
       "      <td>2019</td>\n",
       "      <td>Orem Owlz</td>\n",
       "      <td>ANA</td>\n",
       "      <td>Pioneer League</td>\n",
       "      <td>Rk</td>\n",
       "      <td>Orem,Utah</td>\n",
       "      <td>76</td>\n",
       "      <td>30</td>\n",
       "      <td>46</td>\n",
       "      <td>38</td>\n",
       "      <td>45561</td>\n",
       "      <td>1199</td>\n",
       "    </tr>\n",
       "    <tr>\n",
       "      <th>248</th>\n",
       "      <td>2019</td>\n",
       "      <td>Rocky Mountain Vibes</td>\n",
       "      <td>MIL</td>\n",
       "      <td>Pioneer League</td>\n",
       "      <td>Rk</td>\n",
       "      <td>Colorado Springs,Colorado</td>\n",
       "      <td>75</td>\n",
       "      <td>32</td>\n",
       "      <td>43</td>\n",
       "      <td>37</td>\n",
       "      <td>137294</td>\n",
       "      <td>3661</td>\n",
       "    </tr>\n",
       "    <tr>\n",
       "      <th>249</th>\n",
       "      <td>244 record(s)</td>\n",
       "      <td>244 record(s)</td>\n",
       "      <td>244 record(s)</td>\n",
       "      <td>244 record(s)</td>\n",
       "      <td>244 record(s)</td>\n",
       "      <td>244 record(s)</td>\n",
       "      <td>244 record(s)</td>\n",
       "      <td>244 record(s)</td>\n",
       "      <td>244 record(s)</td>\n",
       "      <td>244 record(s)</td>\n",
       "      <td>244 record(s)</td>\n",
       "      <td>244 record(s)</td>\n",
       "    </tr>\n",
       "  </tbody>\n",
       "</table>\n",
       "</div>"
      ],
      "text/plain": [
       "              year              teamname            mlb      leaguename  \\\n",
       "245           2019       Missoula Osprey            ARI  Pioneer League   \n",
       "246           2019         Ogden Raptors            LAN  Pioneer League   \n",
       "247           2019             Orem Owlz            ANA  Pioneer League   \n",
       "248           2019  Rocky Mountain Vibes            MIL  Pioneer League   \n",
       "249  244 record(s)         244 record(s)  244 record(s)   244 record(s)   \n",
       "\n",
       "             level                      place              g              w  \\\n",
       "245             Rk           Missoula,Montana             76             40   \n",
       "246             Rk                 Ogden,Utah             76             54   \n",
       "247             Rk                  Orem,Utah             76             30   \n",
       "248             Rk  Colorado Springs,Colorado             75             32   \n",
       "249  244 record(s)              244 record(s)  244 record(s)  244 record(s)   \n",
       "\n",
       "                 l           home        attend.        avg att  \n",
       "245             36             38          57076           1502  \n",
       "246             22             38         146201           3847  \n",
       "247             46             38          45561           1199  \n",
       "248             43             37         137294           3661  \n",
       "249  244 record(s)  244 record(s)  244 record(s)  244 record(s)  "
      ]
     },
     "execution_count": 191,
     "metadata": {},
     "output_type": "execute_result"
    }
   ],
   "source": [
    "min_att_14 = pd.read_html('https://www.thebaseballcube.com/content/minor_attendance/2014/',header=0)[0].iloc[:,0:12]\n",
    "min_att_15 = pd.read_html('https://www.thebaseballcube.com/content/minor_attendance/2015/',header=0)[0].iloc[:,0:12]\n",
    "min_att_16 = pd.read_html('https://www.thebaseballcube.com/content/minor_attendance/2016/',header=0)[0].iloc[:,0:12]\n",
    "min_att_17 = pd.read_html('https://www.thebaseballcube.com/content/minor_attendance/2017/',header=0)[0].iloc[:,0:12]\n",
    "min_att_18 = pd.read_html('https://www.thebaseballcube.com/content/minor_attendance/2018/',header=0)[0].iloc[:,0:12]\n",
    "min_att_19 = pd.read_html('https://www.thebaseballcube.com/content/minor_attendance/2019/',header=0)[0].iloc[:,0:12]\n",
    "frames = [min_att_14, min_att_15, min_att_16, min_att_17, min_att_18, min_att_19]\n",
    "minor_attendance = pd.concat(frames, axis=0)\n",
    "minor_attendance.tail()"
   ]
  },
  {
   "cell_type": "code",
   "execution_count": 192,
   "id": "cdc25572",
   "metadata": {},
   "outputs": [
    {
     "data": {
      "text/html": [
       "<div>\n",
       "<style scoped>\n",
       "    .dataframe tbody tr th:only-of-type {\n",
       "        vertical-align: middle;\n",
       "    }\n",
       "\n",
       "    .dataframe tbody tr th {\n",
       "        vertical-align: top;\n",
       "    }\n",
       "\n",
       "    .dataframe thead th {\n",
       "        text-align: right;\n",
       "    }\n",
       "</style>\n",
       "<table border=\"1\" class=\"dataframe\">\n",
       "  <thead>\n",
       "    <tr style=\"text-align: right;\">\n",
       "      <th></th>\n",
       "      <th>year</th>\n",
       "      <th>teamname</th>\n",
       "      <th>mlb</th>\n",
       "      <th>leaguename</th>\n",
       "      <th>level</th>\n",
       "      <th>place</th>\n",
       "      <th>g</th>\n",
       "      <th>w</th>\n",
       "      <th>l</th>\n",
       "      <th>home</th>\n",
       "      <th>attend.</th>\n",
       "      <th>avg att</th>\n",
       "    </tr>\n",
       "  </thead>\n",
       "  <tbody>\n",
       "    <tr>\n",
       "      <th>1</th>\n",
       "      <td>2014</td>\n",
       "      <td>Charlotte Knights</td>\n",
       "      <td>CHA</td>\n",
       "      <td>International League</td>\n",
       "      <td>AAA</td>\n",
       "      <td>Charlotte,North Carolina</td>\n",
       "      <td>144</td>\n",
       "      <td>63</td>\n",
       "      <td>81</td>\n",
       "      <td>72</td>\n",
       "      <td>687715.0</td>\n",
       "      <td>9552.0</td>\n",
       "    </tr>\n",
       "    <tr>\n",
       "      <th>1</th>\n",
       "      <td>2015</td>\n",
       "      <td>Charlotte Knights</td>\n",
       "      <td>CHA</td>\n",
       "      <td>International League</td>\n",
       "      <td>AAA</td>\n",
       "      <td>Charlotte,North Carolina</td>\n",
       "      <td>144</td>\n",
       "      <td>74</td>\n",
       "      <td>70</td>\n",
       "      <td>72</td>\n",
       "      <td>669398.0</td>\n",
       "      <td>9297.0</td>\n",
       "    </tr>\n",
       "    <tr>\n",
       "      <th>1</th>\n",
       "      <td>2016</td>\n",
       "      <td>Charlotte Knights</td>\n",
       "      <td>CHA</td>\n",
       "      <td>International League</td>\n",
       "      <td>AAA</td>\n",
       "      <td>Charlotte,North Carolina</td>\n",
       "      <td>144</td>\n",
       "      <td>65</td>\n",
       "      <td>79</td>\n",
       "      <td>72</td>\n",
       "      <td>628173.0</td>\n",
       "      <td>8725.0</td>\n",
       "    </tr>\n",
       "    <tr>\n",
       "      <th>1</th>\n",
       "      <td>2017</td>\n",
       "      <td>Charlotte Knights</td>\n",
       "      <td>CHA</td>\n",
       "      <td>International League</td>\n",
       "      <td>AAA</td>\n",
       "      <td>Charlotte,North Carolina</td>\n",
       "      <td>142</td>\n",
       "      <td>61</td>\n",
       "      <td>81</td>\n",
       "      <td>71</td>\n",
       "      <td>628526.0</td>\n",
       "      <td>8852.0</td>\n",
       "    </tr>\n",
       "    <tr>\n",
       "      <th>1</th>\n",
       "      <td>2018</td>\n",
       "      <td>Charlotte Knights</td>\n",
       "      <td>CHA</td>\n",
       "      <td>International League</td>\n",
       "      <td>AAA</td>\n",
       "      <td>Charlotte,North Carolina</td>\n",
       "      <td>139</td>\n",
       "      <td>64</td>\n",
       "      <td>75</td>\n",
       "      <td>69</td>\n",
       "      <td>619639.0</td>\n",
       "      <td>8916.0</td>\n",
       "    </tr>\n",
       "    <tr>\n",
       "      <th>1</th>\n",
       "      <td>2019</td>\n",
       "      <td>Charlotte Knights</td>\n",
       "      <td>CHA</td>\n",
       "      <td>International League</td>\n",
       "      <td>AAA</td>\n",
       "      <td>Charlotte,North Carolina</td>\n",
       "      <td>139</td>\n",
       "      <td>75</td>\n",
       "      <td>64</td>\n",
       "      <td>69</td>\n",
       "      <td>581006.0</td>\n",
       "      <td>8360.0</td>\n",
       "    </tr>\n",
       "  </tbody>\n",
       "</table>\n",
       "</div>"
      ],
      "text/plain": [
       "   year           teamname  mlb            leaguename level  \\\n",
       "1  2014  Charlotte Knights  CHA  International League   AAA   \n",
       "1  2015  Charlotte Knights  CHA  International League   AAA   \n",
       "1  2016  Charlotte Knights  CHA  International League   AAA   \n",
       "1  2017  Charlotte Knights  CHA  International League   AAA   \n",
       "1  2018  Charlotte Knights  CHA  International League   AAA   \n",
       "1  2019  Charlotte Knights  CHA  International League   AAA   \n",
       "\n",
       "                      place    g   w   l home   attend.  avg att  \n",
       "1  Charlotte,North Carolina  144  63  81   72  687715.0   9552.0  \n",
       "1  Charlotte,North Carolina  144  74  70   72  669398.0   9297.0  \n",
       "1  Charlotte,North Carolina  144  65  79   72  628173.0   8725.0  \n",
       "1  Charlotte,North Carolina  142  61  81   71  628526.0   8852.0  \n",
       "1  Charlotte,North Carolina  139  64  75   69  619639.0   8916.0  \n",
       "1  Charlotte,North Carolina  139  75  64   69  581006.0   8360.0  "
      ]
     },
     "execution_count": 192,
     "metadata": {},
     "output_type": "execute_result"
    }
   ],
   "source": [
    "minor_attendance['attend.'] = minor_attendance['attend.'].str.replace(',','')\n",
    "minor_attendance['avg att'] = minor_attendance['avg att'].str.replace(',','')\n",
    "minor_attendance['avg att'] = pd.to_numeric(minor_attendance['avg att'], errors='coerce')\n",
    "minor_attendance['attend.'] = pd.to_numeric(minor_attendance['attend.'], errors='coerce')\n",
    "minor_attendance.loc[minor_attendance['teamname']=='Charlotte Knights', :]"
   ]
  },
  {
   "cell_type": "code",
   "execution_count": 194,
   "id": "e325ccbc",
   "metadata": {},
   "outputs": [
    {
     "data": {
      "text/html": [
       "<div>\n",
       "<style scoped>\n",
       "    .dataframe tbody tr th:only-of-type {\n",
       "        vertical-align: middle;\n",
       "    }\n",
       "\n",
       "    .dataframe tbody tr th {\n",
       "        vertical-align: top;\n",
       "    }\n",
       "\n",
       "    .dataframe thead th {\n",
       "        text-align: right;\n",
       "    }\n",
       "</style>\n",
       "<table border=\"1\" class=\"dataframe\">\n",
       "  <thead>\n",
       "    <tr style=\"text-align: right;\">\n",
       "      <th></th>\n",
       "      <th></th>\n",
       "      <th>avg att</th>\n",
       "    </tr>\n",
       "    <tr>\n",
       "      <th>year</th>\n",
       "      <th>teamname</th>\n",
       "      <th></th>\n",
       "    </tr>\n",
       "  </thead>\n",
       "  <tbody>\n",
       "    <tr>\n",
       "      <th rowspan=\"15\" valign=\"top\">2014</th>\n",
       "      <th>Aberdeen IronBirds</th>\n",
       "      <td>4008.0</td>\n",
       "    </tr>\n",
       "    <tr>\n",
       "      <th>Akron RubberDucks</th>\n",
       "      <td>4939.0</td>\n",
       "    </tr>\n",
       "    <tr>\n",
       "      <th>Albuquerque Isotopes</th>\n",
       "      <td>7952.0</td>\n",
       "    </tr>\n",
       "    <tr>\n",
       "      <th>Altoona Curve</th>\n",
       "      <td>3885.0</td>\n",
       "    </tr>\n",
       "    <tr>\n",
       "      <th>Arkansas Travelers</th>\n",
       "      <td>4660.0</td>\n",
       "    </tr>\n",
       "    <tr>\n",
       "      <th>Asheville Tourists</th>\n",
       "      <td>2535.0</td>\n",
       "    </tr>\n",
       "    <tr>\n",
       "      <th>Auburn Doubledays</th>\n",
       "      <td>1190.0</td>\n",
       "    </tr>\n",
       "    <tr>\n",
       "      <th>Augusta GreenJackets</th>\n",
       "      <td>2452.0</td>\n",
       "    </tr>\n",
       "    <tr>\n",
       "      <th>Bakersfield Blaze</th>\n",
       "      <td>815.0</td>\n",
       "    </tr>\n",
       "    <tr>\n",
       "      <th>Batavia Muckdogs</th>\n",
       "      <td>878.0</td>\n",
       "    </tr>\n",
       "    <tr>\n",
       "      <th>Beloit Snappers</th>\n",
       "      <td>914.0</td>\n",
       "    </tr>\n",
       "    <tr>\n",
       "      <th>Billings Mustangs</th>\n",
       "      <td>2773.0</td>\n",
       "    </tr>\n",
       "    <tr>\n",
       "      <th>Binghamton Mets</th>\n",
       "      <td>2412.0</td>\n",
       "    </tr>\n",
       "    <tr>\n",
       "      <th>Birmingham Barons</th>\n",
       "      <td>6252.0</td>\n",
       "    </tr>\n",
       "    <tr>\n",
       "      <th>Bluefield Blue Jays</th>\n",
       "      <td>778.0</td>\n",
       "    </tr>\n",
       "  </tbody>\n",
       "</table>\n",
       "</div>"
      ],
      "text/plain": [
       "                           avg att\n",
       "year teamname                     \n",
       "2014 Aberdeen IronBirds     4008.0\n",
       "     Akron RubberDucks      4939.0\n",
       "     Albuquerque Isotopes   7952.0\n",
       "     Altoona Curve          3885.0\n",
       "     Arkansas Travelers     4660.0\n",
       "     Asheville Tourists     2535.0\n",
       "     Auburn Doubledays      1190.0\n",
       "     Augusta GreenJackets   2452.0\n",
       "     Bakersfield Blaze       815.0\n",
       "     Batavia Muckdogs        878.0\n",
       "     Beloit Snappers         914.0\n",
       "     Billings Mustangs      2773.0\n",
       "     Binghamton Mets        2412.0\n",
       "     Birmingham Barons      6252.0\n",
       "     Bluefield Blue Jays     778.0"
      ]
     },
     "execution_count": 194,
     "metadata": {},
     "output_type": "execute_result"
    }
   ],
   "source": [
    "minor_attendance = minor_attendance[minor_attendance['attend.']>0]\n",
    "#minor_attendance = minor_attendance[minor_attendance['level'].isin(['AAA','AA'])]\n",
    "minor_attendance.sort_values(by='avg att', ascending=False).groupby('year').head()\n",
    "averages = pd.DataFrame(minor_attendance.groupby(['year','teamname'])['avg att'].mean())\n",
    "averages.head(15)"
   ]
  },
  {
   "cell_type": "code",
   "execution_count": 195,
   "id": "ef5b96b1",
   "metadata": {},
   "outputs": [],
   "source": [
    "# Plot attendance by minor league level by year.\n",
    "compare_minors = pd.DataFrame(minor_attendance.groupby(['level','year'])['avg att'].mean())\n",
    "compare_minors.reset_index(inplace=True)"
   ]
  },
  {
   "cell_type": "code",
   "execution_count": 196,
   "id": "873a9ea0",
   "metadata": {},
   "outputs": [
    {
     "data": {
      "application/vnd.plotly.v1+json": {
       "config": {
        "plotlyServerURL": "https://plot.ly"
       },
       "data": [
        {
         "hovertemplate": "level=A<br>year=%{x}<br>avg att=%{y}<extra></extra>",
         "legendgroup": "A",
         "line": {
          "color": "#636efa",
          "dash": "solid"
         },
         "marker": {
          "symbol": "circle"
         },
         "mode": "lines",
         "name": "A",
         "orientation": "v",
         "showlegend": true,
         "type": "scatter",
         "x": [
          "2014",
          "2015",
          "2016",
          "2017",
          "2018",
          "2019"
         ],
         "xaxis": "x",
         "y": [
          3421.733333333333,
          3508.1666666666665,
          3445.8,
          3458.266666666667,
          3317.266666666667,
          3277.9
         ],
         "yaxis": "y"
        },
        {
         "hovertemplate": "level=A+<br>year=%{x}<br>avg att=%{y}<extra></extra>",
         "legendgroup": "A+",
         "line": {
          "color": "#EF553B",
          "dash": "solid"
         },
         "marker": {
          "symbol": "circle"
         },
         "mode": "lines",
         "name": "A+",
         "orientation": "v",
         "showlegend": true,
         "type": "scatter",
         "x": [
          "2014",
          "2015",
          "2016",
          "2017",
          "2018",
          "2019"
         ],
         "xaxis": "x",
         "y": [
          2346.866666666667,
          2243.2,
          2107.9666666666667,
          2193.133333333333,
          2065.9,
          2065.133333333333
         ],
         "yaxis": "y"
        },
        {
         "hovertemplate": "level=A-<br>year=%{x}<br>avg att=%{y}<extra></extra>",
         "legendgroup": "A-",
         "line": {
          "color": "#00cc96",
          "dash": "solid"
         },
         "marker": {
          "symbol": "circle"
         },
         "mode": "lines",
         "name": "A-",
         "orientation": "v",
         "showlegend": true,
         "type": "scatter",
         "x": [
          "2014",
          "2015",
          "2016",
          "2017",
          "2018",
          "2019"
         ],
         "xaxis": "x",
         "y": [
          3050.1363636363635,
          3173.7727272727275,
          3056.4545454545455,
          3011.590909090909,
          2988.2272727272725,
          2925.318181818182
         ],
         "yaxis": "y"
        },
        {
         "hovertemplate": "level=AA<br>year=%{x}<br>avg att=%{y}<extra></extra>",
         "legendgroup": "AA",
         "line": {
          "color": "#ab63fa",
          "dash": "solid"
         },
         "marker": {
          "symbol": "circle"
         },
         "mode": "lines",
         "name": "AA",
         "orientation": "v",
         "showlegend": true,
         "type": "scatter",
         "x": [
          "2014",
          "2015",
          "2016",
          "2017",
          "2018",
          "2019"
         ],
         "xaxis": "x",
         "y": [
          4228.033333333334,
          4252.8,
          4020.133333333333,
          4202.133333333333,
          4191.7,
          4225.033333333334
         ],
         "yaxis": "y"
        },
        {
         "hovertemplate": "level=AAA<br>year=%{x}<br>avg att=%{y}<extra></extra>",
         "legendgroup": "AAA",
         "line": {
          "color": "#FFA15A",
          "dash": "solid"
         },
         "marker": {
          "symbol": "circle"
         },
         "mode": "lines",
         "name": "AAA",
         "orientation": "v",
         "showlegend": true,
         "type": "scatter",
         "x": [
          "2014",
          "2015",
          "2016",
          "2017",
          "2018",
          "2019"
         ],
         "xaxis": "x",
         "y": [
          6506.5,
          6572.9,
          6448.833333333333,
          6531.766666666666,
          6406.7,
          6441
         ],
         "yaxis": "y"
        },
        {
         "hovertemplate": "level=Rk<br>year=%{x}<br>avg att=%{y}<extra></extra>",
         "legendgroup": "Rk",
         "line": {
          "color": "#19d3f3",
          "dash": "solid"
         },
         "marker": {
          "symbol": "circle"
         },
         "mode": "lines",
         "name": "Rk",
         "orientation": "v",
         "showlegend": true,
         "type": "scatter",
         "x": [
          "2014",
          "2015",
          "2016",
          "2017",
          "2018",
          "2019"
         ],
         "xaxis": "x",
         "y": [
          1441.4444444444443,
          1506.8333333333333,
          1459.111111111111,
          1492.7222222222222,
          1523.7222222222222,
          1739.1666666666667
         ],
         "yaxis": "y"
        }
       ],
       "layout": {
        "legend": {
         "title": {
          "text": "level"
         },
         "tracegroupgap": 0
        },
        "template": {
         "data": {
          "bar": [
           {
            "error_x": {
             "color": "#2a3f5f"
            },
            "error_y": {
             "color": "#2a3f5f"
            },
            "marker": {
             "line": {
              "color": "#E5ECF6",
              "width": 0.5
             },
             "pattern": {
              "fillmode": "overlay",
              "size": 10,
              "solidity": 0.2
             }
            },
            "type": "bar"
           }
          ],
          "barpolar": [
           {
            "marker": {
             "line": {
              "color": "#E5ECF6",
              "width": 0.5
             },
             "pattern": {
              "fillmode": "overlay",
              "size": 10,
              "solidity": 0.2
             }
            },
            "type": "barpolar"
           }
          ],
          "carpet": [
           {
            "aaxis": {
             "endlinecolor": "#2a3f5f",
             "gridcolor": "white",
             "linecolor": "white",
             "minorgridcolor": "white",
             "startlinecolor": "#2a3f5f"
            },
            "baxis": {
             "endlinecolor": "#2a3f5f",
             "gridcolor": "white",
             "linecolor": "white",
             "minorgridcolor": "white",
             "startlinecolor": "#2a3f5f"
            },
            "type": "carpet"
           }
          ],
          "choropleth": [
           {
            "colorbar": {
             "outlinewidth": 0,
             "ticks": ""
            },
            "type": "choropleth"
           }
          ],
          "contour": [
           {
            "colorbar": {
             "outlinewidth": 0,
             "ticks": ""
            },
            "colorscale": [
             [
              0,
              "#0d0887"
             ],
             [
              0.1111111111111111,
              "#46039f"
             ],
             [
              0.2222222222222222,
              "#7201a8"
             ],
             [
              0.3333333333333333,
              "#9c179e"
             ],
             [
              0.4444444444444444,
              "#bd3786"
             ],
             [
              0.5555555555555556,
              "#d8576b"
             ],
             [
              0.6666666666666666,
              "#ed7953"
             ],
             [
              0.7777777777777778,
              "#fb9f3a"
             ],
             [
              0.8888888888888888,
              "#fdca26"
             ],
             [
              1,
              "#f0f921"
             ]
            ],
            "type": "contour"
           }
          ],
          "contourcarpet": [
           {
            "colorbar": {
             "outlinewidth": 0,
             "ticks": ""
            },
            "type": "contourcarpet"
           }
          ],
          "heatmap": [
           {
            "colorbar": {
             "outlinewidth": 0,
             "ticks": ""
            },
            "colorscale": [
             [
              0,
              "#0d0887"
             ],
             [
              0.1111111111111111,
              "#46039f"
             ],
             [
              0.2222222222222222,
              "#7201a8"
             ],
             [
              0.3333333333333333,
              "#9c179e"
             ],
             [
              0.4444444444444444,
              "#bd3786"
             ],
             [
              0.5555555555555556,
              "#d8576b"
             ],
             [
              0.6666666666666666,
              "#ed7953"
             ],
             [
              0.7777777777777778,
              "#fb9f3a"
             ],
             [
              0.8888888888888888,
              "#fdca26"
             ],
             [
              1,
              "#f0f921"
             ]
            ],
            "type": "heatmap"
           }
          ],
          "heatmapgl": [
           {
            "colorbar": {
             "outlinewidth": 0,
             "ticks": ""
            },
            "colorscale": [
             [
              0,
              "#0d0887"
             ],
             [
              0.1111111111111111,
              "#46039f"
             ],
             [
              0.2222222222222222,
              "#7201a8"
             ],
             [
              0.3333333333333333,
              "#9c179e"
             ],
             [
              0.4444444444444444,
              "#bd3786"
             ],
             [
              0.5555555555555556,
              "#d8576b"
             ],
             [
              0.6666666666666666,
              "#ed7953"
             ],
             [
              0.7777777777777778,
              "#fb9f3a"
             ],
             [
              0.8888888888888888,
              "#fdca26"
             ],
             [
              1,
              "#f0f921"
             ]
            ],
            "type": "heatmapgl"
           }
          ],
          "histogram": [
           {
            "marker": {
             "pattern": {
              "fillmode": "overlay",
              "size": 10,
              "solidity": 0.2
             }
            },
            "type": "histogram"
           }
          ],
          "histogram2d": [
           {
            "colorbar": {
             "outlinewidth": 0,
             "ticks": ""
            },
            "colorscale": [
             [
              0,
              "#0d0887"
             ],
             [
              0.1111111111111111,
              "#46039f"
             ],
             [
              0.2222222222222222,
              "#7201a8"
             ],
             [
              0.3333333333333333,
              "#9c179e"
             ],
             [
              0.4444444444444444,
              "#bd3786"
             ],
             [
              0.5555555555555556,
              "#d8576b"
             ],
             [
              0.6666666666666666,
              "#ed7953"
             ],
             [
              0.7777777777777778,
              "#fb9f3a"
             ],
             [
              0.8888888888888888,
              "#fdca26"
             ],
             [
              1,
              "#f0f921"
             ]
            ],
            "type": "histogram2d"
           }
          ],
          "histogram2dcontour": [
           {
            "colorbar": {
             "outlinewidth": 0,
             "ticks": ""
            },
            "colorscale": [
             [
              0,
              "#0d0887"
             ],
             [
              0.1111111111111111,
              "#46039f"
             ],
             [
              0.2222222222222222,
              "#7201a8"
             ],
             [
              0.3333333333333333,
              "#9c179e"
             ],
             [
              0.4444444444444444,
              "#bd3786"
             ],
             [
              0.5555555555555556,
              "#d8576b"
             ],
             [
              0.6666666666666666,
              "#ed7953"
             ],
             [
              0.7777777777777778,
              "#fb9f3a"
             ],
             [
              0.8888888888888888,
              "#fdca26"
             ],
             [
              1,
              "#f0f921"
             ]
            ],
            "type": "histogram2dcontour"
           }
          ],
          "mesh3d": [
           {
            "colorbar": {
             "outlinewidth": 0,
             "ticks": ""
            },
            "type": "mesh3d"
           }
          ],
          "parcoords": [
           {
            "line": {
             "colorbar": {
              "outlinewidth": 0,
              "ticks": ""
             }
            },
            "type": "parcoords"
           }
          ],
          "pie": [
           {
            "automargin": true,
            "type": "pie"
           }
          ],
          "scatter": [
           {
            "fillpattern": {
             "fillmode": "overlay",
             "size": 10,
             "solidity": 0.2
            },
            "type": "scatter"
           }
          ],
          "scatter3d": [
           {
            "line": {
             "colorbar": {
              "outlinewidth": 0,
              "ticks": ""
             }
            },
            "marker": {
             "colorbar": {
              "outlinewidth": 0,
              "ticks": ""
             }
            },
            "type": "scatter3d"
           }
          ],
          "scattercarpet": [
           {
            "marker": {
             "colorbar": {
              "outlinewidth": 0,
              "ticks": ""
             }
            },
            "type": "scattercarpet"
           }
          ],
          "scattergeo": [
           {
            "marker": {
             "colorbar": {
              "outlinewidth": 0,
              "ticks": ""
             }
            },
            "type": "scattergeo"
           }
          ],
          "scattergl": [
           {
            "marker": {
             "colorbar": {
              "outlinewidth": 0,
              "ticks": ""
             }
            },
            "type": "scattergl"
           }
          ],
          "scattermapbox": [
           {
            "marker": {
             "colorbar": {
              "outlinewidth": 0,
              "ticks": ""
             }
            },
            "type": "scattermapbox"
           }
          ],
          "scatterpolar": [
           {
            "marker": {
             "colorbar": {
              "outlinewidth": 0,
              "ticks": ""
             }
            },
            "type": "scatterpolar"
           }
          ],
          "scatterpolargl": [
           {
            "marker": {
             "colorbar": {
              "outlinewidth": 0,
              "ticks": ""
             }
            },
            "type": "scatterpolargl"
           }
          ],
          "scatterternary": [
           {
            "marker": {
             "colorbar": {
              "outlinewidth": 0,
              "ticks": ""
             }
            },
            "type": "scatterternary"
           }
          ],
          "surface": [
           {
            "colorbar": {
             "outlinewidth": 0,
             "ticks": ""
            },
            "colorscale": [
             [
              0,
              "#0d0887"
             ],
             [
              0.1111111111111111,
              "#46039f"
             ],
             [
              0.2222222222222222,
              "#7201a8"
             ],
             [
              0.3333333333333333,
              "#9c179e"
             ],
             [
              0.4444444444444444,
              "#bd3786"
             ],
             [
              0.5555555555555556,
              "#d8576b"
             ],
             [
              0.6666666666666666,
              "#ed7953"
             ],
             [
              0.7777777777777778,
              "#fb9f3a"
             ],
             [
              0.8888888888888888,
              "#fdca26"
             ],
             [
              1,
              "#f0f921"
             ]
            ],
            "type": "surface"
           }
          ],
          "table": [
           {
            "cells": {
             "fill": {
              "color": "#EBF0F8"
             },
             "line": {
              "color": "white"
             }
            },
            "header": {
             "fill": {
              "color": "#C8D4E3"
             },
             "line": {
              "color": "white"
             }
            },
            "type": "table"
           }
          ]
         },
         "layout": {
          "annotationdefaults": {
           "arrowcolor": "#2a3f5f",
           "arrowhead": 0,
           "arrowwidth": 1
          },
          "autotypenumbers": "strict",
          "coloraxis": {
           "colorbar": {
            "outlinewidth": 0,
            "ticks": ""
           }
          },
          "colorscale": {
           "diverging": [
            [
             0,
             "#8e0152"
            ],
            [
             0.1,
             "#c51b7d"
            ],
            [
             0.2,
             "#de77ae"
            ],
            [
             0.3,
             "#f1b6da"
            ],
            [
             0.4,
             "#fde0ef"
            ],
            [
             0.5,
             "#f7f7f7"
            ],
            [
             0.6,
             "#e6f5d0"
            ],
            [
             0.7,
             "#b8e186"
            ],
            [
             0.8,
             "#7fbc41"
            ],
            [
             0.9,
             "#4d9221"
            ],
            [
             1,
             "#276419"
            ]
           ],
           "sequential": [
            [
             0,
             "#0d0887"
            ],
            [
             0.1111111111111111,
             "#46039f"
            ],
            [
             0.2222222222222222,
             "#7201a8"
            ],
            [
             0.3333333333333333,
             "#9c179e"
            ],
            [
             0.4444444444444444,
             "#bd3786"
            ],
            [
             0.5555555555555556,
             "#d8576b"
            ],
            [
             0.6666666666666666,
             "#ed7953"
            ],
            [
             0.7777777777777778,
             "#fb9f3a"
            ],
            [
             0.8888888888888888,
             "#fdca26"
            ],
            [
             1,
             "#f0f921"
            ]
           ],
           "sequentialminus": [
            [
             0,
             "#0d0887"
            ],
            [
             0.1111111111111111,
             "#46039f"
            ],
            [
             0.2222222222222222,
             "#7201a8"
            ],
            [
             0.3333333333333333,
             "#9c179e"
            ],
            [
             0.4444444444444444,
             "#bd3786"
            ],
            [
             0.5555555555555556,
             "#d8576b"
            ],
            [
             0.6666666666666666,
             "#ed7953"
            ],
            [
             0.7777777777777778,
             "#fb9f3a"
            ],
            [
             0.8888888888888888,
             "#fdca26"
            ],
            [
             1,
             "#f0f921"
            ]
           ]
          },
          "colorway": [
           "#636efa",
           "#EF553B",
           "#00cc96",
           "#ab63fa",
           "#FFA15A",
           "#19d3f3",
           "#FF6692",
           "#B6E880",
           "#FF97FF",
           "#FECB52"
          ],
          "font": {
           "color": "#2a3f5f"
          },
          "geo": {
           "bgcolor": "white",
           "lakecolor": "white",
           "landcolor": "#E5ECF6",
           "showlakes": true,
           "showland": true,
           "subunitcolor": "white"
          },
          "hoverlabel": {
           "align": "left"
          },
          "hovermode": "closest",
          "mapbox": {
           "style": "light"
          },
          "paper_bgcolor": "white",
          "plot_bgcolor": "#E5ECF6",
          "polar": {
           "angularaxis": {
            "gridcolor": "white",
            "linecolor": "white",
            "ticks": ""
           },
           "bgcolor": "#E5ECF6",
           "radialaxis": {
            "gridcolor": "white",
            "linecolor": "white",
            "ticks": ""
           }
          },
          "scene": {
           "xaxis": {
            "backgroundcolor": "#E5ECF6",
            "gridcolor": "white",
            "gridwidth": 2,
            "linecolor": "white",
            "showbackground": true,
            "ticks": "",
            "zerolinecolor": "white"
           },
           "yaxis": {
            "backgroundcolor": "#E5ECF6",
            "gridcolor": "white",
            "gridwidth": 2,
            "linecolor": "white",
            "showbackground": true,
            "ticks": "",
            "zerolinecolor": "white"
           },
           "zaxis": {
            "backgroundcolor": "#E5ECF6",
            "gridcolor": "white",
            "gridwidth": 2,
            "linecolor": "white",
            "showbackground": true,
            "ticks": "",
            "zerolinecolor": "white"
           }
          },
          "shapedefaults": {
           "line": {
            "color": "#2a3f5f"
           }
          },
          "ternary": {
           "aaxis": {
            "gridcolor": "white",
            "linecolor": "white",
            "ticks": ""
           },
           "baxis": {
            "gridcolor": "white",
            "linecolor": "white",
            "ticks": ""
           },
           "bgcolor": "#E5ECF6",
           "caxis": {
            "gridcolor": "white",
            "linecolor": "white",
            "ticks": ""
           }
          },
          "title": {
           "x": 0.05
          },
          "xaxis": {
           "automargin": true,
           "gridcolor": "white",
           "linecolor": "white",
           "ticks": "",
           "title": {
            "standoff": 15
           },
           "zerolinecolor": "white",
           "zerolinewidth": 2
          },
          "yaxis": {
           "automargin": true,
           "gridcolor": "white",
           "linecolor": "white",
           "ticks": "",
           "title": {
            "standoff": 15
           },
           "zerolinecolor": "white",
           "zerolinewidth": 2
          }
         }
        },
        "title": {
         "text": "Avg Attendance Over Time by League Level"
        },
        "xaxis": {
         "anchor": "y",
         "domain": [
          0,
          1
         ],
         "title": {
          "text": "year"
         }
        },
        "yaxis": {
         "anchor": "x",
         "domain": [
          0,
          1
         ],
         "title": {
          "text": "avg att"
         }
        }
       }
      },
      "text/html": [
       "<div>                            <div id=\"cd2c0f84-624e-41b5-853a-084dd54ac5d1\" class=\"plotly-graph-div\" style=\"height:525px; width:100%;\"></div>            <script type=\"text/javascript\">                require([\"plotly\"], function(Plotly) {                    window.PLOTLYENV=window.PLOTLYENV || {};                                    if (document.getElementById(\"cd2c0f84-624e-41b5-853a-084dd54ac5d1\")) {                    Plotly.newPlot(                        \"cd2c0f84-624e-41b5-853a-084dd54ac5d1\",                        [{\"hovertemplate\":\"level=A<br>year=%{x}<br>avg att=%{y}<extra></extra>\",\"legendgroup\":\"A\",\"line\":{\"color\":\"#636efa\",\"dash\":\"solid\"},\"marker\":{\"symbol\":\"circle\"},\"mode\":\"lines\",\"name\":\"A\",\"orientation\":\"v\",\"showlegend\":true,\"x\":[\"2014\",\"2015\",\"2016\",\"2017\",\"2018\",\"2019\"],\"xaxis\":\"x\",\"y\":[3421.733333333333,3508.1666666666665,3445.8,3458.266666666667,3317.266666666667,3277.9],\"yaxis\":\"y\",\"type\":\"scatter\"},{\"hovertemplate\":\"level=A+<br>year=%{x}<br>avg att=%{y}<extra></extra>\",\"legendgroup\":\"A+\",\"line\":{\"color\":\"#EF553B\",\"dash\":\"solid\"},\"marker\":{\"symbol\":\"circle\"},\"mode\":\"lines\",\"name\":\"A+\",\"orientation\":\"v\",\"showlegend\":true,\"x\":[\"2014\",\"2015\",\"2016\",\"2017\",\"2018\",\"2019\"],\"xaxis\":\"x\",\"y\":[2346.866666666667,2243.2,2107.9666666666667,2193.133333333333,2065.9,2065.133333333333],\"yaxis\":\"y\",\"type\":\"scatter\"},{\"hovertemplate\":\"level=A-<br>year=%{x}<br>avg att=%{y}<extra></extra>\",\"legendgroup\":\"A-\",\"line\":{\"color\":\"#00cc96\",\"dash\":\"solid\"},\"marker\":{\"symbol\":\"circle\"},\"mode\":\"lines\",\"name\":\"A-\",\"orientation\":\"v\",\"showlegend\":true,\"x\":[\"2014\",\"2015\",\"2016\",\"2017\",\"2018\",\"2019\"],\"xaxis\":\"x\",\"y\":[3050.1363636363635,3173.7727272727275,3056.4545454545455,3011.590909090909,2988.2272727272725,2925.318181818182],\"yaxis\":\"y\",\"type\":\"scatter\"},{\"hovertemplate\":\"level=AA<br>year=%{x}<br>avg att=%{y}<extra></extra>\",\"legendgroup\":\"AA\",\"line\":{\"color\":\"#ab63fa\",\"dash\":\"solid\"},\"marker\":{\"symbol\":\"circle\"},\"mode\":\"lines\",\"name\":\"AA\",\"orientation\":\"v\",\"showlegend\":true,\"x\":[\"2014\",\"2015\",\"2016\",\"2017\",\"2018\",\"2019\"],\"xaxis\":\"x\",\"y\":[4228.033333333334,4252.8,4020.133333333333,4202.133333333333,4191.7,4225.033333333334],\"yaxis\":\"y\",\"type\":\"scatter\"},{\"hovertemplate\":\"level=AAA<br>year=%{x}<br>avg att=%{y}<extra></extra>\",\"legendgroup\":\"AAA\",\"line\":{\"color\":\"#FFA15A\",\"dash\":\"solid\"},\"marker\":{\"symbol\":\"circle\"},\"mode\":\"lines\",\"name\":\"AAA\",\"orientation\":\"v\",\"showlegend\":true,\"x\":[\"2014\",\"2015\",\"2016\",\"2017\",\"2018\",\"2019\"],\"xaxis\":\"x\",\"y\":[6506.5,6572.9,6448.833333333333,6531.766666666666,6406.7,6441.0],\"yaxis\":\"y\",\"type\":\"scatter\"},{\"hovertemplate\":\"level=Rk<br>year=%{x}<br>avg att=%{y}<extra></extra>\",\"legendgroup\":\"Rk\",\"line\":{\"color\":\"#19d3f3\",\"dash\":\"solid\"},\"marker\":{\"symbol\":\"circle\"},\"mode\":\"lines\",\"name\":\"Rk\",\"orientation\":\"v\",\"showlegend\":true,\"x\":[\"2014\",\"2015\",\"2016\",\"2017\",\"2018\",\"2019\"],\"xaxis\":\"x\",\"y\":[1441.4444444444443,1506.8333333333333,1459.111111111111,1492.7222222222222,1523.7222222222222,1739.1666666666667],\"yaxis\":\"y\",\"type\":\"scatter\"}],                        {\"template\":{\"data\":{\"histogram2dcontour\":[{\"type\":\"histogram2dcontour\",\"colorbar\":{\"outlinewidth\":0,\"ticks\":\"\"},\"colorscale\":[[0.0,\"#0d0887\"],[0.1111111111111111,\"#46039f\"],[0.2222222222222222,\"#7201a8\"],[0.3333333333333333,\"#9c179e\"],[0.4444444444444444,\"#bd3786\"],[0.5555555555555556,\"#d8576b\"],[0.6666666666666666,\"#ed7953\"],[0.7777777777777778,\"#fb9f3a\"],[0.8888888888888888,\"#fdca26\"],[1.0,\"#f0f921\"]]}],\"choropleth\":[{\"type\":\"choropleth\",\"colorbar\":{\"outlinewidth\":0,\"ticks\":\"\"}}],\"histogram2d\":[{\"type\":\"histogram2d\",\"colorbar\":{\"outlinewidth\":0,\"ticks\":\"\"},\"colorscale\":[[0.0,\"#0d0887\"],[0.1111111111111111,\"#46039f\"],[0.2222222222222222,\"#7201a8\"],[0.3333333333333333,\"#9c179e\"],[0.4444444444444444,\"#bd3786\"],[0.5555555555555556,\"#d8576b\"],[0.6666666666666666,\"#ed7953\"],[0.7777777777777778,\"#fb9f3a\"],[0.8888888888888888,\"#fdca26\"],[1.0,\"#f0f921\"]]}],\"heatmap\":[{\"type\":\"heatmap\",\"colorbar\":{\"outlinewidth\":0,\"ticks\":\"\"},\"colorscale\":[[0.0,\"#0d0887\"],[0.1111111111111111,\"#46039f\"],[0.2222222222222222,\"#7201a8\"],[0.3333333333333333,\"#9c179e\"],[0.4444444444444444,\"#bd3786\"],[0.5555555555555556,\"#d8576b\"],[0.6666666666666666,\"#ed7953\"],[0.7777777777777778,\"#fb9f3a\"],[0.8888888888888888,\"#fdca26\"],[1.0,\"#f0f921\"]]}],\"heatmapgl\":[{\"type\":\"heatmapgl\",\"colorbar\":{\"outlinewidth\":0,\"ticks\":\"\"},\"colorscale\":[[0.0,\"#0d0887\"],[0.1111111111111111,\"#46039f\"],[0.2222222222222222,\"#7201a8\"],[0.3333333333333333,\"#9c179e\"],[0.4444444444444444,\"#bd3786\"],[0.5555555555555556,\"#d8576b\"],[0.6666666666666666,\"#ed7953\"],[0.7777777777777778,\"#fb9f3a\"],[0.8888888888888888,\"#fdca26\"],[1.0,\"#f0f921\"]]}],\"contourcarpet\":[{\"type\":\"contourcarpet\",\"colorbar\":{\"outlinewidth\":0,\"ticks\":\"\"}}],\"contour\":[{\"type\":\"contour\",\"colorbar\":{\"outlinewidth\":0,\"ticks\":\"\"},\"colorscale\":[[0.0,\"#0d0887\"],[0.1111111111111111,\"#46039f\"],[0.2222222222222222,\"#7201a8\"],[0.3333333333333333,\"#9c179e\"],[0.4444444444444444,\"#bd3786\"],[0.5555555555555556,\"#d8576b\"],[0.6666666666666666,\"#ed7953\"],[0.7777777777777778,\"#fb9f3a\"],[0.8888888888888888,\"#fdca26\"],[1.0,\"#f0f921\"]]}],\"surface\":[{\"type\":\"surface\",\"colorbar\":{\"outlinewidth\":0,\"ticks\":\"\"},\"colorscale\":[[0.0,\"#0d0887\"],[0.1111111111111111,\"#46039f\"],[0.2222222222222222,\"#7201a8\"],[0.3333333333333333,\"#9c179e\"],[0.4444444444444444,\"#bd3786\"],[0.5555555555555556,\"#d8576b\"],[0.6666666666666666,\"#ed7953\"],[0.7777777777777778,\"#fb9f3a\"],[0.8888888888888888,\"#fdca26\"],[1.0,\"#f0f921\"]]}],\"mesh3d\":[{\"type\":\"mesh3d\",\"colorbar\":{\"outlinewidth\":0,\"ticks\":\"\"}}],\"scatter\":[{\"fillpattern\":{\"fillmode\":\"overlay\",\"size\":10,\"solidity\":0.2},\"type\":\"scatter\"}],\"parcoords\":[{\"type\":\"parcoords\",\"line\":{\"colorbar\":{\"outlinewidth\":0,\"ticks\":\"\"}}}],\"scatterpolargl\":[{\"type\":\"scatterpolargl\",\"marker\":{\"colorbar\":{\"outlinewidth\":0,\"ticks\":\"\"}}}],\"bar\":[{\"error_x\":{\"color\":\"#2a3f5f\"},\"error_y\":{\"color\":\"#2a3f5f\"},\"marker\":{\"line\":{\"color\":\"#E5ECF6\",\"width\":0.5},\"pattern\":{\"fillmode\":\"overlay\",\"size\":10,\"solidity\":0.2}},\"type\":\"bar\"}],\"scattergeo\":[{\"type\":\"scattergeo\",\"marker\":{\"colorbar\":{\"outlinewidth\":0,\"ticks\":\"\"}}}],\"scatterpolar\":[{\"type\":\"scatterpolar\",\"marker\":{\"colorbar\":{\"outlinewidth\":0,\"ticks\":\"\"}}}],\"histogram\":[{\"marker\":{\"pattern\":{\"fillmode\":\"overlay\",\"size\":10,\"solidity\":0.2}},\"type\":\"histogram\"}],\"scattergl\":[{\"type\":\"scattergl\",\"marker\":{\"colorbar\":{\"outlinewidth\":0,\"ticks\":\"\"}}}],\"scatter3d\":[{\"type\":\"scatter3d\",\"line\":{\"colorbar\":{\"outlinewidth\":0,\"ticks\":\"\"}},\"marker\":{\"colorbar\":{\"outlinewidth\":0,\"ticks\":\"\"}}}],\"scattermapbox\":[{\"type\":\"scattermapbox\",\"marker\":{\"colorbar\":{\"outlinewidth\":0,\"ticks\":\"\"}}}],\"scatterternary\":[{\"type\":\"scatterternary\",\"marker\":{\"colorbar\":{\"outlinewidth\":0,\"ticks\":\"\"}}}],\"scattercarpet\":[{\"type\":\"scattercarpet\",\"marker\":{\"colorbar\":{\"outlinewidth\":0,\"ticks\":\"\"}}}],\"carpet\":[{\"aaxis\":{\"endlinecolor\":\"#2a3f5f\",\"gridcolor\":\"white\",\"linecolor\":\"white\",\"minorgridcolor\":\"white\",\"startlinecolor\":\"#2a3f5f\"},\"baxis\":{\"endlinecolor\":\"#2a3f5f\",\"gridcolor\":\"white\",\"linecolor\":\"white\",\"minorgridcolor\":\"white\",\"startlinecolor\":\"#2a3f5f\"},\"type\":\"carpet\"}],\"table\":[{\"cells\":{\"fill\":{\"color\":\"#EBF0F8\"},\"line\":{\"color\":\"white\"}},\"header\":{\"fill\":{\"color\":\"#C8D4E3\"},\"line\":{\"color\":\"white\"}},\"type\":\"table\"}],\"barpolar\":[{\"marker\":{\"line\":{\"color\":\"#E5ECF6\",\"width\":0.5},\"pattern\":{\"fillmode\":\"overlay\",\"size\":10,\"solidity\":0.2}},\"type\":\"barpolar\"}],\"pie\":[{\"automargin\":true,\"type\":\"pie\"}]},\"layout\":{\"autotypenumbers\":\"strict\",\"colorway\":[\"#636efa\",\"#EF553B\",\"#00cc96\",\"#ab63fa\",\"#FFA15A\",\"#19d3f3\",\"#FF6692\",\"#B6E880\",\"#FF97FF\",\"#FECB52\"],\"font\":{\"color\":\"#2a3f5f\"},\"hovermode\":\"closest\",\"hoverlabel\":{\"align\":\"left\"},\"paper_bgcolor\":\"white\",\"plot_bgcolor\":\"#E5ECF6\",\"polar\":{\"bgcolor\":\"#E5ECF6\",\"angularaxis\":{\"gridcolor\":\"white\",\"linecolor\":\"white\",\"ticks\":\"\"},\"radialaxis\":{\"gridcolor\":\"white\",\"linecolor\":\"white\",\"ticks\":\"\"}},\"ternary\":{\"bgcolor\":\"#E5ECF6\",\"aaxis\":{\"gridcolor\":\"white\",\"linecolor\":\"white\",\"ticks\":\"\"},\"baxis\":{\"gridcolor\":\"white\",\"linecolor\":\"white\",\"ticks\":\"\"},\"caxis\":{\"gridcolor\":\"white\",\"linecolor\":\"white\",\"ticks\":\"\"}},\"coloraxis\":{\"colorbar\":{\"outlinewidth\":0,\"ticks\":\"\"}},\"colorscale\":{\"sequential\":[[0.0,\"#0d0887\"],[0.1111111111111111,\"#46039f\"],[0.2222222222222222,\"#7201a8\"],[0.3333333333333333,\"#9c179e\"],[0.4444444444444444,\"#bd3786\"],[0.5555555555555556,\"#d8576b\"],[0.6666666666666666,\"#ed7953\"],[0.7777777777777778,\"#fb9f3a\"],[0.8888888888888888,\"#fdca26\"],[1.0,\"#f0f921\"]],\"sequentialminus\":[[0.0,\"#0d0887\"],[0.1111111111111111,\"#46039f\"],[0.2222222222222222,\"#7201a8\"],[0.3333333333333333,\"#9c179e\"],[0.4444444444444444,\"#bd3786\"],[0.5555555555555556,\"#d8576b\"],[0.6666666666666666,\"#ed7953\"],[0.7777777777777778,\"#fb9f3a\"],[0.8888888888888888,\"#fdca26\"],[1.0,\"#f0f921\"]],\"diverging\":[[0,\"#8e0152\"],[0.1,\"#c51b7d\"],[0.2,\"#de77ae\"],[0.3,\"#f1b6da\"],[0.4,\"#fde0ef\"],[0.5,\"#f7f7f7\"],[0.6,\"#e6f5d0\"],[0.7,\"#b8e186\"],[0.8,\"#7fbc41\"],[0.9,\"#4d9221\"],[1,\"#276419\"]]},\"xaxis\":{\"gridcolor\":\"white\",\"linecolor\":\"white\",\"ticks\":\"\",\"title\":{\"standoff\":15},\"zerolinecolor\":\"white\",\"automargin\":true,\"zerolinewidth\":2},\"yaxis\":{\"gridcolor\":\"white\",\"linecolor\":\"white\",\"ticks\":\"\",\"title\":{\"standoff\":15},\"zerolinecolor\":\"white\",\"automargin\":true,\"zerolinewidth\":2},\"scene\":{\"xaxis\":{\"backgroundcolor\":\"#E5ECF6\",\"gridcolor\":\"white\",\"linecolor\":\"white\",\"showbackground\":true,\"ticks\":\"\",\"zerolinecolor\":\"white\",\"gridwidth\":2},\"yaxis\":{\"backgroundcolor\":\"#E5ECF6\",\"gridcolor\":\"white\",\"linecolor\":\"white\",\"showbackground\":true,\"ticks\":\"\",\"zerolinecolor\":\"white\",\"gridwidth\":2},\"zaxis\":{\"backgroundcolor\":\"#E5ECF6\",\"gridcolor\":\"white\",\"linecolor\":\"white\",\"showbackground\":true,\"ticks\":\"\",\"zerolinecolor\":\"white\",\"gridwidth\":2}},\"shapedefaults\":{\"line\":{\"color\":\"#2a3f5f\"}},\"annotationdefaults\":{\"arrowcolor\":\"#2a3f5f\",\"arrowhead\":0,\"arrowwidth\":1},\"geo\":{\"bgcolor\":\"white\",\"landcolor\":\"#E5ECF6\",\"subunitcolor\":\"white\",\"showland\":true,\"showlakes\":true,\"lakecolor\":\"white\"},\"title\":{\"x\":0.05},\"mapbox\":{\"style\":\"light\"}}},\"xaxis\":{\"anchor\":\"y\",\"domain\":[0.0,1.0],\"title\":{\"text\":\"year\"}},\"yaxis\":{\"anchor\":\"x\",\"domain\":[0.0,1.0],\"title\":{\"text\":\"avg att\"}},\"legend\":{\"title\":{\"text\":\"level\"},\"tracegroupgap\":0},\"title\":{\"text\":\"Avg Attendance Over Time by League Level\"}},                        {\"responsive\": true}                    ).then(function(){\n",
       "                            \n",
       "var gd = document.getElementById('cd2c0f84-624e-41b5-853a-084dd54ac5d1');\n",
       "var x = new MutationObserver(function (mutations, observer) {{\n",
       "        var display = window.getComputedStyle(gd).display;\n",
       "        if (!display || display === 'none') {{\n",
       "            console.log([gd, 'removed!']);\n",
       "            Plotly.purge(gd);\n",
       "            observer.disconnect();\n",
       "        }}\n",
       "}});\n",
       "\n",
       "// Listen for the removal of the full notebook cells\n",
       "var notebookContainer = gd.closest('#notebook-container');\n",
       "if (notebookContainer) {{\n",
       "    x.observe(notebookContainer, {childList: true});\n",
       "}}\n",
       "\n",
       "// Listen for the clearing of the current output cell\n",
       "var outputEl = gd.closest('.output');\n",
       "if (outputEl) {{\n",
       "    x.observe(outputEl, {childList: true});\n",
       "}}\n",
       "\n",
       "                        })                };                });            </script>        </div>"
      ]
     },
     "metadata": {},
     "output_type": "display_data"
    }
   ],
   "source": [
    "fig = px.line(compare_minors, x='year',y='avg att', color='level', title='Avg Attendance Over Time by League Level')\n",
    "fig.show()"
   ]
  },
  {
   "cell_type": "code",
   "execution_count": 197,
   "id": "b8279a18",
   "metadata": {},
   "outputs": [
    {
     "data": {
      "text/html": [
       "<div>\n",
       "<style scoped>\n",
       "    .dataframe tbody tr th:only-of-type {\n",
       "        vertical-align: middle;\n",
       "    }\n",
       "\n",
       "    .dataframe tbody tr th {\n",
       "        vertical-align: top;\n",
       "    }\n",
       "\n",
       "    .dataframe thead th {\n",
       "        text-align: right;\n",
       "    }\n",
       "</style>\n",
       "<table border=\"1\" class=\"dataframe\">\n",
       "  <thead>\n",
       "    <tr style=\"text-align: right;\">\n",
       "      <th></th>\n",
       "      <th>year</th>\n",
       "      <th>teamname</th>\n",
       "      <th>mlb</th>\n",
       "      <th>leaguename</th>\n",
       "      <th>level</th>\n",
       "      <th>place</th>\n",
       "      <th>g</th>\n",
       "      <th>w</th>\n",
       "      <th>l</th>\n",
       "      <th>home</th>\n",
       "      <th>attend.</th>\n",
       "      <th>avg att</th>\n",
       "    </tr>\n",
       "  </thead>\n",
       "  <tbody>\n",
       "    <tr>\n",
       "      <th>1</th>\n",
       "      <td>2014</td>\n",
       "      <td>Charlotte Knights</td>\n",
       "      <td>CHA</td>\n",
       "      <td>International League</td>\n",
       "      <td>AAA</td>\n",
       "      <td>Charlotte,North Carolina</td>\n",
       "      <td>144</td>\n",
       "      <td>63</td>\n",
       "      <td>81</td>\n",
       "      <td>72</td>\n",
       "      <td>687715.0</td>\n",
       "      <td>9552.0</td>\n",
       "    </tr>\n",
       "    <tr>\n",
       "      <th>1</th>\n",
       "      <td>2015</td>\n",
       "      <td>Charlotte Knights</td>\n",
       "      <td>CHA</td>\n",
       "      <td>International League</td>\n",
       "      <td>AAA</td>\n",
       "      <td>Charlotte,North Carolina</td>\n",
       "      <td>144</td>\n",
       "      <td>74</td>\n",
       "      <td>70</td>\n",
       "      <td>72</td>\n",
       "      <td>669398.0</td>\n",
       "      <td>9297.0</td>\n",
       "    </tr>\n",
       "    <tr>\n",
       "      <th>1</th>\n",
       "      <td>2016</td>\n",
       "      <td>Charlotte Knights</td>\n",
       "      <td>CHA</td>\n",
       "      <td>International League</td>\n",
       "      <td>AAA</td>\n",
       "      <td>Charlotte,North Carolina</td>\n",
       "      <td>144</td>\n",
       "      <td>65</td>\n",
       "      <td>79</td>\n",
       "      <td>72</td>\n",
       "      <td>628173.0</td>\n",
       "      <td>8725.0</td>\n",
       "    </tr>\n",
       "    <tr>\n",
       "      <th>1</th>\n",
       "      <td>2017</td>\n",
       "      <td>Charlotte Knights</td>\n",
       "      <td>CHA</td>\n",
       "      <td>International League</td>\n",
       "      <td>AAA</td>\n",
       "      <td>Charlotte,North Carolina</td>\n",
       "      <td>142</td>\n",
       "      <td>61</td>\n",
       "      <td>81</td>\n",
       "      <td>71</td>\n",
       "      <td>628526.0</td>\n",
       "      <td>8852.0</td>\n",
       "    </tr>\n",
       "    <tr>\n",
       "      <th>1</th>\n",
       "      <td>2018</td>\n",
       "      <td>Charlotte Knights</td>\n",
       "      <td>CHA</td>\n",
       "      <td>International League</td>\n",
       "      <td>AAA</td>\n",
       "      <td>Charlotte,North Carolina</td>\n",
       "      <td>139</td>\n",
       "      <td>64</td>\n",
       "      <td>75</td>\n",
       "      <td>69</td>\n",
       "      <td>619639.0</td>\n",
       "      <td>8916.0</td>\n",
       "    </tr>\n",
       "    <tr>\n",
       "      <th>1</th>\n",
       "      <td>2019</td>\n",
       "      <td>Charlotte Knights</td>\n",
       "      <td>CHA</td>\n",
       "      <td>International League</td>\n",
       "      <td>AAA</td>\n",
       "      <td>Charlotte,North Carolina</td>\n",
       "      <td>139</td>\n",
       "      <td>75</td>\n",
       "      <td>64</td>\n",
       "      <td>69</td>\n",
       "      <td>581006.0</td>\n",
       "      <td>8360.0</td>\n",
       "    </tr>\n",
       "  </tbody>\n",
       "</table>\n",
       "</div>"
      ],
      "text/plain": [
       "   year           teamname  mlb            leaguename level  \\\n",
       "1  2014  Charlotte Knights  CHA  International League   AAA   \n",
       "1  2015  Charlotte Knights  CHA  International League   AAA   \n",
       "1  2016  Charlotte Knights  CHA  International League   AAA   \n",
       "1  2017  Charlotte Knights  CHA  International League   AAA   \n",
       "1  2018  Charlotte Knights  CHA  International League   AAA   \n",
       "1  2019  Charlotte Knights  CHA  International League   AAA   \n",
       "\n",
       "                      place    g   w   l home   attend.  avg att  \n",
       "1  Charlotte,North Carolina  144  63  81   72  687715.0   9552.0  \n",
       "1  Charlotte,North Carolina  144  74  70   72  669398.0   9297.0  \n",
       "1  Charlotte,North Carolina  144  65  79   72  628173.0   8725.0  \n",
       "1  Charlotte,North Carolina  142  61  81   71  628526.0   8852.0  \n",
       "1  Charlotte,North Carolina  139  64  75   69  619639.0   8916.0  \n",
       "1  Charlotte,North Carolina  139  75  64   69  581006.0   8360.0  "
      ]
     },
     "execution_count": 197,
     "metadata": {},
     "output_type": "execute_result"
    }
   ],
   "source": [
    "# Plot of Charlotte attendance over time vs. average of all others\n",
    "clt_attendance = minor_attendance.loc[minor_attendance['teamname']=='Charlotte Knights']\n",
    "\n",
    "other_attendance = minor_attendance.loc[minor_attendance['teamname']!='Charlotte Knights']\n",
    "other_attednance = other_attendance.loc[other_attendance['level']=='AAA']\n",
    "other_attendance = other_attendance.loc[other_attendance['avg att']>5]\n",
    "other_attendance = pd.DataFrame(other_attendance.groupby('year')['avg att'].mean())\n",
    "other_attendance.reset_index(inplace=True)\n",
    "other_attendance['teamname'] = 'Other'\n",
    "both_attendance = clt_attendance[['year', 'teamname', 'avg att']]\n",
    "\n",
    "frames = [both_attendance, other_attendance]\n",
    "both_attendance = pd.concat(frames, axis=0)\n",
    "clt_attendance.head(10)"
   ]
  },
  {
   "cell_type": "code",
   "execution_count": 198,
   "id": "65087df3",
   "metadata": {},
   "outputs": [
    {
     "data": {
      "application/vnd.plotly.v1+json": {
       "config": {
        "plotlyServerURL": "https://plot.ly"
       },
       "data": [
        {
         "hovertemplate": "teamname=Charlotte Knights<br>year=%{x}<br>avg att=%{y}<extra></extra>",
         "legendgroup": "Charlotte Knights",
         "line": {
          "color": "#636efa",
          "dash": "solid"
         },
         "marker": {
          "symbol": "circle"
         },
         "mode": "lines",
         "name": "Charlotte Knights",
         "orientation": "v",
         "showlegend": true,
         "type": "scatter",
         "x": [
          "2014",
          "2015",
          "2016",
          "2017",
          "2018",
          "2019"
         ],
         "xaxis": "x",
         "y": [
          9552,
          9297,
          8725,
          8852,
          8916,
          8360
         ],
         "yaxis": "y"
        },
        {
         "hovertemplate": "teamname=Other<br>year=%{x}<br>avg att=%{y}<extra></extra>",
         "legendgroup": "Other",
         "line": {
          "color": "#EF553B",
          "dash": "solid"
         },
         "marker": {
          "symbol": "circle"
         },
         "mode": "lines",
         "name": "Other",
         "orientation": "v",
         "showlegend": true,
         "type": "scatter",
         "x": [
          "2014",
          "2015",
          "2016",
          "2017",
          "2018",
          "2019"
         ],
         "xaxis": "x",
         "y": [
          3638.937106918239,
          3679,
          3556.37106918239,
          3621.578616352201,
          3545.276729559748,
          3569.6477987421385
         ],
         "yaxis": "y"
        }
       ],
       "layout": {
        "legend": {
         "title": {
          "text": "teamname"
         },
         "tracegroupgap": 0
        },
        "template": {
         "data": {
          "bar": [
           {
            "error_x": {
             "color": "#2a3f5f"
            },
            "error_y": {
             "color": "#2a3f5f"
            },
            "marker": {
             "line": {
              "color": "#E5ECF6",
              "width": 0.5
             },
             "pattern": {
              "fillmode": "overlay",
              "size": 10,
              "solidity": 0.2
             }
            },
            "type": "bar"
           }
          ],
          "barpolar": [
           {
            "marker": {
             "line": {
              "color": "#E5ECF6",
              "width": 0.5
             },
             "pattern": {
              "fillmode": "overlay",
              "size": 10,
              "solidity": 0.2
             }
            },
            "type": "barpolar"
           }
          ],
          "carpet": [
           {
            "aaxis": {
             "endlinecolor": "#2a3f5f",
             "gridcolor": "white",
             "linecolor": "white",
             "minorgridcolor": "white",
             "startlinecolor": "#2a3f5f"
            },
            "baxis": {
             "endlinecolor": "#2a3f5f",
             "gridcolor": "white",
             "linecolor": "white",
             "minorgridcolor": "white",
             "startlinecolor": "#2a3f5f"
            },
            "type": "carpet"
           }
          ],
          "choropleth": [
           {
            "colorbar": {
             "outlinewidth": 0,
             "ticks": ""
            },
            "type": "choropleth"
           }
          ],
          "contour": [
           {
            "colorbar": {
             "outlinewidth": 0,
             "ticks": ""
            },
            "colorscale": [
             [
              0,
              "#0d0887"
             ],
             [
              0.1111111111111111,
              "#46039f"
             ],
             [
              0.2222222222222222,
              "#7201a8"
             ],
             [
              0.3333333333333333,
              "#9c179e"
             ],
             [
              0.4444444444444444,
              "#bd3786"
             ],
             [
              0.5555555555555556,
              "#d8576b"
             ],
             [
              0.6666666666666666,
              "#ed7953"
             ],
             [
              0.7777777777777778,
              "#fb9f3a"
             ],
             [
              0.8888888888888888,
              "#fdca26"
             ],
             [
              1,
              "#f0f921"
             ]
            ],
            "type": "contour"
           }
          ],
          "contourcarpet": [
           {
            "colorbar": {
             "outlinewidth": 0,
             "ticks": ""
            },
            "type": "contourcarpet"
           }
          ],
          "heatmap": [
           {
            "colorbar": {
             "outlinewidth": 0,
             "ticks": ""
            },
            "colorscale": [
             [
              0,
              "#0d0887"
             ],
             [
              0.1111111111111111,
              "#46039f"
             ],
             [
              0.2222222222222222,
              "#7201a8"
             ],
             [
              0.3333333333333333,
              "#9c179e"
             ],
             [
              0.4444444444444444,
              "#bd3786"
             ],
             [
              0.5555555555555556,
              "#d8576b"
             ],
             [
              0.6666666666666666,
              "#ed7953"
             ],
             [
              0.7777777777777778,
              "#fb9f3a"
             ],
             [
              0.8888888888888888,
              "#fdca26"
             ],
             [
              1,
              "#f0f921"
             ]
            ],
            "type": "heatmap"
           }
          ],
          "heatmapgl": [
           {
            "colorbar": {
             "outlinewidth": 0,
             "ticks": ""
            },
            "colorscale": [
             [
              0,
              "#0d0887"
             ],
             [
              0.1111111111111111,
              "#46039f"
             ],
             [
              0.2222222222222222,
              "#7201a8"
             ],
             [
              0.3333333333333333,
              "#9c179e"
             ],
             [
              0.4444444444444444,
              "#bd3786"
             ],
             [
              0.5555555555555556,
              "#d8576b"
             ],
             [
              0.6666666666666666,
              "#ed7953"
             ],
             [
              0.7777777777777778,
              "#fb9f3a"
             ],
             [
              0.8888888888888888,
              "#fdca26"
             ],
             [
              1,
              "#f0f921"
             ]
            ],
            "type": "heatmapgl"
           }
          ],
          "histogram": [
           {
            "marker": {
             "pattern": {
              "fillmode": "overlay",
              "size": 10,
              "solidity": 0.2
             }
            },
            "type": "histogram"
           }
          ],
          "histogram2d": [
           {
            "colorbar": {
             "outlinewidth": 0,
             "ticks": ""
            },
            "colorscale": [
             [
              0,
              "#0d0887"
             ],
             [
              0.1111111111111111,
              "#46039f"
             ],
             [
              0.2222222222222222,
              "#7201a8"
             ],
             [
              0.3333333333333333,
              "#9c179e"
             ],
             [
              0.4444444444444444,
              "#bd3786"
             ],
             [
              0.5555555555555556,
              "#d8576b"
             ],
             [
              0.6666666666666666,
              "#ed7953"
             ],
             [
              0.7777777777777778,
              "#fb9f3a"
             ],
             [
              0.8888888888888888,
              "#fdca26"
             ],
             [
              1,
              "#f0f921"
             ]
            ],
            "type": "histogram2d"
           }
          ],
          "histogram2dcontour": [
           {
            "colorbar": {
             "outlinewidth": 0,
             "ticks": ""
            },
            "colorscale": [
             [
              0,
              "#0d0887"
             ],
             [
              0.1111111111111111,
              "#46039f"
             ],
             [
              0.2222222222222222,
              "#7201a8"
             ],
             [
              0.3333333333333333,
              "#9c179e"
             ],
             [
              0.4444444444444444,
              "#bd3786"
             ],
             [
              0.5555555555555556,
              "#d8576b"
             ],
             [
              0.6666666666666666,
              "#ed7953"
             ],
             [
              0.7777777777777778,
              "#fb9f3a"
             ],
             [
              0.8888888888888888,
              "#fdca26"
             ],
             [
              1,
              "#f0f921"
             ]
            ],
            "type": "histogram2dcontour"
           }
          ],
          "mesh3d": [
           {
            "colorbar": {
             "outlinewidth": 0,
             "ticks": ""
            },
            "type": "mesh3d"
           }
          ],
          "parcoords": [
           {
            "line": {
             "colorbar": {
              "outlinewidth": 0,
              "ticks": ""
             }
            },
            "type": "parcoords"
           }
          ],
          "pie": [
           {
            "automargin": true,
            "type": "pie"
           }
          ],
          "scatter": [
           {
            "fillpattern": {
             "fillmode": "overlay",
             "size": 10,
             "solidity": 0.2
            },
            "type": "scatter"
           }
          ],
          "scatter3d": [
           {
            "line": {
             "colorbar": {
              "outlinewidth": 0,
              "ticks": ""
             }
            },
            "marker": {
             "colorbar": {
              "outlinewidth": 0,
              "ticks": ""
             }
            },
            "type": "scatter3d"
           }
          ],
          "scattercarpet": [
           {
            "marker": {
             "colorbar": {
              "outlinewidth": 0,
              "ticks": ""
             }
            },
            "type": "scattercarpet"
           }
          ],
          "scattergeo": [
           {
            "marker": {
             "colorbar": {
              "outlinewidth": 0,
              "ticks": ""
             }
            },
            "type": "scattergeo"
           }
          ],
          "scattergl": [
           {
            "marker": {
             "colorbar": {
              "outlinewidth": 0,
              "ticks": ""
             }
            },
            "type": "scattergl"
           }
          ],
          "scattermapbox": [
           {
            "marker": {
             "colorbar": {
              "outlinewidth": 0,
              "ticks": ""
             }
            },
            "type": "scattermapbox"
           }
          ],
          "scatterpolar": [
           {
            "marker": {
             "colorbar": {
              "outlinewidth": 0,
              "ticks": ""
             }
            },
            "type": "scatterpolar"
           }
          ],
          "scatterpolargl": [
           {
            "marker": {
             "colorbar": {
              "outlinewidth": 0,
              "ticks": ""
             }
            },
            "type": "scatterpolargl"
           }
          ],
          "scatterternary": [
           {
            "marker": {
             "colorbar": {
              "outlinewidth": 0,
              "ticks": ""
             }
            },
            "type": "scatterternary"
           }
          ],
          "surface": [
           {
            "colorbar": {
             "outlinewidth": 0,
             "ticks": ""
            },
            "colorscale": [
             [
              0,
              "#0d0887"
             ],
             [
              0.1111111111111111,
              "#46039f"
             ],
             [
              0.2222222222222222,
              "#7201a8"
             ],
             [
              0.3333333333333333,
              "#9c179e"
             ],
             [
              0.4444444444444444,
              "#bd3786"
             ],
             [
              0.5555555555555556,
              "#d8576b"
             ],
             [
              0.6666666666666666,
              "#ed7953"
             ],
             [
              0.7777777777777778,
              "#fb9f3a"
             ],
             [
              0.8888888888888888,
              "#fdca26"
             ],
             [
              1,
              "#f0f921"
             ]
            ],
            "type": "surface"
           }
          ],
          "table": [
           {
            "cells": {
             "fill": {
              "color": "#EBF0F8"
             },
             "line": {
              "color": "white"
             }
            },
            "header": {
             "fill": {
              "color": "#C8D4E3"
             },
             "line": {
              "color": "white"
             }
            },
            "type": "table"
           }
          ]
         },
         "layout": {
          "annotationdefaults": {
           "arrowcolor": "#2a3f5f",
           "arrowhead": 0,
           "arrowwidth": 1
          },
          "autotypenumbers": "strict",
          "coloraxis": {
           "colorbar": {
            "outlinewidth": 0,
            "ticks": ""
           }
          },
          "colorscale": {
           "diverging": [
            [
             0,
             "#8e0152"
            ],
            [
             0.1,
             "#c51b7d"
            ],
            [
             0.2,
             "#de77ae"
            ],
            [
             0.3,
             "#f1b6da"
            ],
            [
             0.4,
             "#fde0ef"
            ],
            [
             0.5,
             "#f7f7f7"
            ],
            [
             0.6,
             "#e6f5d0"
            ],
            [
             0.7,
             "#b8e186"
            ],
            [
             0.8,
             "#7fbc41"
            ],
            [
             0.9,
             "#4d9221"
            ],
            [
             1,
             "#276419"
            ]
           ],
           "sequential": [
            [
             0,
             "#0d0887"
            ],
            [
             0.1111111111111111,
             "#46039f"
            ],
            [
             0.2222222222222222,
             "#7201a8"
            ],
            [
             0.3333333333333333,
             "#9c179e"
            ],
            [
             0.4444444444444444,
             "#bd3786"
            ],
            [
             0.5555555555555556,
             "#d8576b"
            ],
            [
             0.6666666666666666,
             "#ed7953"
            ],
            [
             0.7777777777777778,
             "#fb9f3a"
            ],
            [
             0.8888888888888888,
             "#fdca26"
            ],
            [
             1,
             "#f0f921"
            ]
           ],
           "sequentialminus": [
            [
             0,
             "#0d0887"
            ],
            [
             0.1111111111111111,
             "#46039f"
            ],
            [
             0.2222222222222222,
             "#7201a8"
            ],
            [
             0.3333333333333333,
             "#9c179e"
            ],
            [
             0.4444444444444444,
             "#bd3786"
            ],
            [
             0.5555555555555556,
             "#d8576b"
            ],
            [
             0.6666666666666666,
             "#ed7953"
            ],
            [
             0.7777777777777778,
             "#fb9f3a"
            ],
            [
             0.8888888888888888,
             "#fdca26"
            ],
            [
             1,
             "#f0f921"
            ]
           ]
          },
          "colorway": [
           "#636efa",
           "#EF553B",
           "#00cc96",
           "#ab63fa",
           "#FFA15A",
           "#19d3f3",
           "#FF6692",
           "#B6E880",
           "#FF97FF",
           "#FECB52"
          ],
          "font": {
           "color": "#2a3f5f"
          },
          "geo": {
           "bgcolor": "white",
           "lakecolor": "white",
           "landcolor": "#E5ECF6",
           "showlakes": true,
           "showland": true,
           "subunitcolor": "white"
          },
          "hoverlabel": {
           "align": "left"
          },
          "hovermode": "closest",
          "mapbox": {
           "style": "light"
          },
          "paper_bgcolor": "white",
          "plot_bgcolor": "#E5ECF6",
          "polar": {
           "angularaxis": {
            "gridcolor": "white",
            "linecolor": "white",
            "ticks": ""
           },
           "bgcolor": "#E5ECF6",
           "radialaxis": {
            "gridcolor": "white",
            "linecolor": "white",
            "ticks": ""
           }
          },
          "scene": {
           "xaxis": {
            "backgroundcolor": "#E5ECF6",
            "gridcolor": "white",
            "gridwidth": 2,
            "linecolor": "white",
            "showbackground": true,
            "ticks": "",
            "zerolinecolor": "white"
           },
           "yaxis": {
            "backgroundcolor": "#E5ECF6",
            "gridcolor": "white",
            "gridwidth": 2,
            "linecolor": "white",
            "showbackground": true,
            "ticks": "",
            "zerolinecolor": "white"
           },
           "zaxis": {
            "backgroundcolor": "#E5ECF6",
            "gridcolor": "white",
            "gridwidth": 2,
            "linecolor": "white",
            "showbackground": true,
            "ticks": "",
            "zerolinecolor": "white"
           }
          },
          "shapedefaults": {
           "line": {
            "color": "#2a3f5f"
           }
          },
          "ternary": {
           "aaxis": {
            "gridcolor": "white",
            "linecolor": "white",
            "ticks": ""
           },
           "baxis": {
            "gridcolor": "white",
            "linecolor": "white",
            "ticks": ""
           },
           "bgcolor": "#E5ECF6",
           "caxis": {
            "gridcolor": "white",
            "linecolor": "white",
            "ticks": ""
           }
          },
          "title": {
           "x": 0.05
          },
          "xaxis": {
           "automargin": true,
           "gridcolor": "white",
           "linecolor": "white",
           "ticks": "",
           "title": {
            "standoff": 15
           },
           "zerolinecolor": "white",
           "zerolinewidth": 2
          },
          "yaxis": {
           "automargin": true,
           "gridcolor": "white",
           "linecolor": "white",
           "ticks": "",
           "title": {
            "standoff": 15
           },
           "zerolinecolor": "white",
           "zerolinewidth": 2
          }
         }
        },
        "title": {
         "text": "Clt Avg. Attendance vs. Other AAA Teams"
        },
        "xaxis": {
         "anchor": "y",
         "domain": [
          0,
          1
         ],
         "title": {
          "text": "year"
         }
        },
        "yaxis": {
         "anchor": "x",
         "domain": [
          0,
          1
         ],
         "range": [
          174,
          9552
         ],
         "title": {
          "text": "avg att"
         }
        }
       }
      },
      "text/html": [
       "<div>                            <div id=\"83d99dc4-c9cc-4e6f-ab46-3061324a43d7\" class=\"plotly-graph-div\" style=\"height:525px; width:100%;\"></div>            <script type=\"text/javascript\">                require([\"plotly\"], function(Plotly) {                    window.PLOTLYENV=window.PLOTLYENV || {};                                    if (document.getElementById(\"83d99dc4-c9cc-4e6f-ab46-3061324a43d7\")) {                    Plotly.newPlot(                        \"83d99dc4-c9cc-4e6f-ab46-3061324a43d7\",                        [{\"hovertemplate\":\"teamname=Charlotte Knights<br>year=%{x}<br>avg att=%{y}<extra></extra>\",\"legendgroup\":\"Charlotte Knights\",\"line\":{\"color\":\"#636efa\",\"dash\":\"solid\"},\"marker\":{\"symbol\":\"circle\"},\"mode\":\"lines\",\"name\":\"Charlotte Knights\",\"orientation\":\"v\",\"showlegend\":true,\"x\":[\"2014\",\"2015\",\"2016\",\"2017\",\"2018\",\"2019\"],\"xaxis\":\"x\",\"y\":[9552.0,9297.0,8725.0,8852.0,8916.0,8360.0],\"yaxis\":\"y\",\"type\":\"scatter\"},{\"hovertemplate\":\"teamname=Other<br>year=%{x}<br>avg att=%{y}<extra></extra>\",\"legendgroup\":\"Other\",\"line\":{\"color\":\"#EF553B\",\"dash\":\"solid\"},\"marker\":{\"symbol\":\"circle\"},\"mode\":\"lines\",\"name\":\"Other\",\"orientation\":\"v\",\"showlegend\":true,\"x\":[\"2014\",\"2015\",\"2016\",\"2017\",\"2018\",\"2019\"],\"xaxis\":\"x\",\"y\":[3638.937106918239,3679.0,3556.37106918239,3621.578616352201,3545.276729559748,3569.6477987421385],\"yaxis\":\"y\",\"type\":\"scatter\"}],                        {\"template\":{\"data\":{\"histogram2dcontour\":[{\"type\":\"histogram2dcontour\",\"colorbar\":{\"outlinewidth\":0,\"ticks\":\"\"},\"colorscale\":[[0.0,\"#0d0887\"],[0.1111111111111111,\"#46039f\"],[0.2222222222222222,\"#7201a8\"],[0.3333333333333333,\"#9c179e\"],[0.4444444444444444,\"#bd3786\"],[0.5555555555555556,\"#d8576b\"],[0.6666666666666666,\"#ed7953\"],[0.7777777777777778,\"#fb9f3a\"],[0.8888888888888888,\"#fdca26\"],[1.0,\"#f0f921\"]]}],\"choropleth\":[{\"type\":\"choropleth\",\"colorbar\":{\"outlinewidth\":0,\"ticks\":\"\"}}],\"histogram2d\":[{\"type\":\"histogram2d\",\"colorbar\":{\"outlinewidth\":0,\"ticks\":\"\"},\"colorscale\":[[0.0,\"#0d0887\"],[0.1111111111111111,\"#46039f\"],[0.2222222222222222,\"#7201a8\"],[0.3333333333333333,\"#9c179e\"],[0.4444444444444444,\"#bd3786\"],[0.5555555555555556,\"#d8576b\"],[0.6666666666666666,\"#ed7953\"],[0.7777777777777778,\"#fb9f3a\"],[0.8888888888888888,\"#fdca26\"],[1.0,\"#f0f921\"]]}],\"heatmap\":[{\"type\":\"heatmap\",\"colorbar\":{\"outlinewidth\":0,\"ticks\":\"\"},\"colorscale\":[[0.0,\"#0d0887\"],[0.1111111111111111,\"#46039f\"],[0.2222222222222222,\"#7201a8\"],[0.3333333333333333,\"#9c179e\"],[0.4444444444444444,\"#bd3786\"],[0.5555555555555556,\"#d8576b\"],[0.6666666666666666,\"#ed7953\"],[0.7777777777777778,\"#fb9f3a\"],[0.8888888888888888,\"#fdca26\"],[1.0,\"#f0f921\"]]}],\"heatmapgl\":[{\"type\":\"heatmapgl\",\"colorbar\":{\"outlinewidth\":0,\"ticks\":\"\"},\"colorscale\":[[0.0,\"#0d0887\"],[0.1111111111111111,\"#46039f\"],[0.2222222222222222,\"#7201a8\"],[0.3333333333333333,\"#9c179e\"],[0.4444444444444444,\"#bd3786\"],[0.5555555555555556,\"#d8576b\"],[0.6666666666666666,\"#ed7953\"],[0.7777777777777778,\"#fb9f3a\"],[0.8888888888888888,\"#fdca26\"],[1.0,\"#f0f921\"]]}],\"contourcarpet\":[{\"type\":\"contourcarpet\",\"colorbar\":{\"outlinewidth\":0,\"ticks\":\"\"}}],\"contour\":[{\"type\":\"contour\",\"colorbar\":{\"outlinewidth\":0,\"ticks\":\"\"},\"colorscale\":[[0.0,\"#0d0887\"],[0.1111111111111111,\"#46039f\"],[0.2222222222222222,\"#7201a8\"],[0.3333333333333333,\"#9c179e\"],[0.4444444444444444,\"#bd3786\"],[0.5555555555555556,\"#d8576b\"],[0.6666666666666666,\"#ed7953\"],[0.7777777777777778,\"#fb9f3a\"],[0.8888888888888888,\"#fdca26\"],[1.0,\"#f0f921\"]]}],\"surface\":[{\"type\":\"surface\",\"colorbar\":{\"outlinewidth\":0,\"ticks\":\"\"},\"colorscale\":[[0.0,\"#0d0887\"],[0.1111111111111111,\"#46039f\"],[0.2222222222222222,\"#7201a8\"],[0.3333333333333333,\"#9c179e\"],[0.4444444444444444,\"#bd3786\"],[0.5555555555555556,\"#d8576b\"],[0.6666666666666666,\"#ed7953\"],[0.7777777777777778,\"#fb9f3a\"],[0.8888888888888888,\"#fdca26\"],[1.0,\"#f0f921\"]]}],\"mesh3d\":[{\"type\":\"mesh3d\",\"colorbar\":{\"outlinewidth\":0,\"ticks\":\"\"}}],\"scatter\":[{\"fillpattern\":{\"fillmode\":\"overlay\",\"size\":10,\"solidity\":0.2},\"type\":\"scatter\"}],\"parcoords\":[{\"type\":\"parcoords\",\"line\":{\"colorbar\":{\"outlinewidth\":0,\"ticks\":\"\"}}}],\"scatterpolargl\":[{\"type\":\"scatterpolargl\",\"marker\":{\"colorbar\":{\"outlinewidth\":0,\"ticks\":\"\"}}}],\"bar\":[{\"error_x\":{\"color\":\"#2a3f5f\"},\"error_y\":{\"color\":\"#2a3f5f\"},\"marker\":{\"line\":{\"color\":\"#E5ECF6\",\"width\":0.5},\"pattern\":{\"fillmode\":\"overlay\",\"size\":10,\"solidity\":0.2}},\"type\":\"bar\"}],\"scattergeo\":[{\"type\":\"scattergeo\",\"marker\":{\"colorbar\":{\"outlinewidth\":0,\"ticks\":\"\"}}}],\"scatterpolar\":[{\"type\":\"scatterpolar\",\"marker\":{\"colorbar\":{\"outlinewidth\":0,\"ticks\":\"\"}}}],\"histogram\":[{\"marker\":{\"pattern\":{\"fillmode\":\"overlay\",\"size\":10,\"solidity\":0.2}},\"type\":\"histogram\"}],\"scattergl\":[{\"type\":\"scattergl\",\"marker\":{\"colorbar\":{\"outlinewidth\":0,\"ticks\":\"\"}}}],\"scatter3d\":[{\"type\":\"scatter3d\",\"line\":{\"colorbar\":{\"outlinewidth\":0,\"ticks\":\"\"}},\"marker\":{\"colorbar\":{\"outlinewidth\":0,\"ticks\":\"\"}}}],\"scattermapbox\":[{\"type\":\"scattermapbox\",\"marker\":{\"colorbar\":{\"outlinewidth\":0,\"ticks\":\"\"}}}],\"scatterternary\":[{\"type\":\"scatterternary\",\"marker\":{\"colorbar\":{\"outlinewidth\":0,\"ticks\":\"\"}}}],\"scattercarpet\":[{\"type\":\"scattercarpet\",\"marker\":{\"colorbar\":{\"outlinewidth\":0,\"ticks\":\"\"}}}],\"carpet\":[{\"aaxis\":{\"endlinecolor\":\"#2a3f5f\",\"gridcolor\":\"white\",\"linecolor\":\"white\",\"minorgridcolor\":\"white\",\"startlinecolor\":\"#2a3f5f\"},\"baxis\":{\"endlinecolor\":\"#2a3f5f\",\"gridcolor\":\"white\",\"linecolor\":\"white\",\"minorgridcolor\":\"white\",\"startlinecolor\":\"#2a3f5f\"},\"type\":\"carpet\"}],\"table\":[{\"cells\":{\"fill\":{\"color\":\"#EBF0F8\"},\"line\":{\"color\":\"white\"}},\"header\":{\"fill\":{\"color\":\"#C8D4E3\"},\"line\":{\"color\":\"white\"}},\"type\":\"table\"}],\"barpolar\":[{\"marker\":{\"line\":{\"color\":\"#E5ECF6\",\"width\":0.5},\"pattern\":{\"fillmode\":\"overlay\",\"size\":10,\"solidity\":0.2}},\"type\":\"barpolar\"}],\"pie\":[{\"automargin\":true,\"type\":\"pie\"}]},\"layout\":{\"autotypenumbers\":\"strict\",\"colorway\":[\"#636efa\",\"#EF553B\",\"#00cc96\",\"#ab63fa\",\"#FFA15A\",\"#19d3f3\",\"#FF6692\",\"#B6E880\",\"#FF97FF\",\"#FECB52\"],\"font\":{\"color\":\"#2a3f5f\"},\"hovermode\":\"closest\",\"hoverlabel\":{\"align\":\"left\"},\"paper_bgcolor\":\"white\",\"plot_bgcolor\":\"#E5ECF6\",\"polar\":{\"bgcolor\":\"#E5ECF6\",\"angularaxis\":{\"gridcolor\":\"white\",\"linecolor\":\"white\",\"ticks\":\"\"},\"radialaxis\":{\"gridcolor\":\"white\",\"linecolor\":\"white\",\"ticks\":\"\"}},\"ternary\":{\"bgcolor\":\"#E5ECF6\",\"aaxis\":{\"gridcolor\":\"white\",\"linecolor\":\"white\",\"ticks\":\"\"},\"baxis\":{\"gridcolor\":\"white\",\"linecolor\":\"white\",\"ticks\":\"\"},\"caxis\":{\"gridcolor\":\"white\",\"linecolor\":\"white\",\"ticks\":\"\"}},\"coloraxis\":{\"colorbar\":{\"outlinewidth\":0,\"ticks\":\"\"}},\"colorscale\":{\"sequential\":[[0.0,\"#0d0887\"],[0.1111111111111111,\"#46039f\"],[0.2222222222222222,\"#7201a8\"],[0.3333333333333333,\"#9c179e\"],[0.4444444444444444,\"#bd3786\"],[0.5555555555555556,\"#d8576b\"],[0.6666666666666666,\"#ed7953\"],[0.7777777777777778,\"#fb9f3a\"],[0.8888888888888888,\"#fdca26\"],[1.0,\"#f0f921\"]],\"sequentialminus\":[[0.0,\"#0d0887\"],[0.1111111111111111,\"#46039f\"],[0.2222222222222222,\"#7201a8\"],[0.3333333333333333,\"#9c179e\"],[0.4444444444444444,\"#bd3786\"],[0.5555555555555556,\"#d8576b\"],[0.6666666666666666,\"#ed7953\"],[0.7777777777777778,\"#fb9f3a\"],[0.8888888888888888,\"#fdca26\"],[1.0,\"#f0f921\"]],\"diverging\":[[0,\"#8e0152\"],[0.1,\"#c51b7d\"],[0.2,\"#de77ae\"],[0.3,\"#f1b6da\"],[0.4,\"#fde0ef\"],[0.5,\"#f7f7f7\"],[0.6,\"#e6f5d0\"],[0.7,\"#b8e186\"],[0.8,\"#7fbc41\"],[0.9,\"#4d9221\"],[1,\"#276419\"]]},\"xaxis\":{\"gridcolor\":\"white\",\"linecolor\":\"white\",\"ticks\":\"\",\"title\":{\"standoff\":15},\"zerolinecolor\":\"white\",\"automargin\":true,\"zerolinewidth\":2},\"yaxis\":{\"gridcolor\":\"white\",\"linecolor\":\"white\",\"ticks\":\"\",\"title\":{\"standoff\":15},\"zerolinecolor\":\"white\",\"automargin\":true,\"zerolinewidth\":2},\"scene\":{\"xaxis\":{\"backgroundcolor\":\"#E5ECF6\",\"gridcolor\":\"white\",\"linecolor\":\"white\",\"showbackground\":true,\"ticks\":\"\",\"zerolinecolor\":\"white\",\"gridwidth\":2},\"yaxis\":{\"backgroundcolor\":\"#E5ECF6\",\"gridcolor\":\"white\",\"linecolor\":\"white\",\"showbackground\":true,\"ticks\":\"\",\"zerolinecolor\":\"white\",\"gridwidth\":2},\"zaxis\":{\"backgroundcolor\":\"#E5ECF6\",\"gridcolor\":\"white\",\"linecolor\":\"white\",\"showbackground\":true,\"ticks\":\"\",\"zerolinecolor\":\"white\",\"gridwidth\":2}},\"shapedefaults\":{\"line\":{\"color\":\"#2a3f5f\"}},\"annotationdefaults\":{\"arrowcolor\":\"#2a3f5f\",\"arrowhead\":0,\"arrowwidth\":1},\"geo\":{\"bgcolor\":\"white\",\"landcolor\":\"#E5ECF6\",\"subunitcolor\":\"white\",\"showland\":true,\"showlakes\":true,\"lakecolor\":\"white\"},\"title\":{\"x\":0.05},\"mapbox\":{\"style\":\"light\"}}},\"xaxis\":{\"anchor\":\"y\",\"domain\":[0.0,1.0],\"title\":{\"text\":\"year\"}},\"yaxis\":{\"anchor\":\"x\",\"domain\":[0.0,1.0],\"title\":{\"text\":\"avg att\"},\"range\":[174.0,9552.0]},\"legend\":{\"title\":{\"text\":\"teamname\"},\"tracegroupgap\":0},\"title\":{\"text\":\"Clt Avg. Attendance vs. Other AAA Teams\"}},                        {\"responsive\": true}                    ).then(function(){\n",
       "                            \n",
       "var gd = document.getElementById('83d99dc4-c9cc-4e6f-ab46-3061324a43d7');\n",
       "var x = new MutationObserver(function (mutations, observer) {{\n",
       "        var display = window.getComputedStyle(gd).display;\n",
       "        if (!display || display === 'none') {{\n",
       "            console.log([gd, 'removed!']);\n",
       "            Plotly.purge(gd);\n",
       "            observer.disconnect();\n",
       "        }}\n",
       "}});\n",
       "\n",
       "// Listen for the removal of the full notebook cells\n",
       "var notebookContainer = gd.closest('#notebook-container');\n",
       "if (notebookContainer) {{\n",
       "    x.observe(notebookContainer, {childList: true});\n",
       "}}\n",
       "\n",
       "// Listen for the clearing of the current output cell\n",
       "var outputEl = gd.closest('.output');\n",
       "if (outputEl) {{\n",
       "    x.observe(outputEl, {childList: true});\n",
       "}}\n",
       "\n",
       "                        })                };                });            </script>        </div>"
      ]
     },
     "metadata": {},
     "output_type": "display_data"
    }
   ],
   "source": [
    "fig = px.line(both_attendance, x='year',y='avg att', color='teamname', title='Clt Avg. Attendance vs. Other AAA Teams')\n",
    "fig.update_yaxes(range=[min(minor_attendance['avg att']),max(minor_attendance['avg att'])])\n",
    "fig.show()"
   ]
  },
  {
   "cell_type": "code",
   "execution_count": 200,
   "id": "21badecf",
   "metadata": {
    "scrolled": true
   },
   "outputs": [
    {
     "data": {
      "text/html": [
       "<div>\n",
       "<style scoped>\n",
       "    .dataframe tbody tr th:only-of-type {\n",
       "        vertical-align: middle;\n",
       "    }\n",
       "\n",
       "    .dataframe tbody tr th {\n",
       "        vertical-align: top;\n",
       "    }\n",
       "\n",
       "    .dataframe thead th {\n",
       "        text-align: right;\n",
       "    }\n",
       "</style>\n",
       "<table border=\"1\" class=\"dataframe\">\n",
       "  <thead>\n",
       "    <tr style=\"text-align: right;\">\n",
       "      <th></th>\n",
       "      <th>year</th>\n",
       "      <th>Team</th>\n",
       "      <th>Attendance</th>\n",
       "      <th>Att Per Game</th>\n",
       "    </tr>\n",
       "  </thead>\n",
       "  <tbody>\n",
       "    <tr>\n",
       "      <th>14</th>\n",
       "      <td>2019</td>\n",
       "      <td>Miami Marlins</td>\n",
       "      <td>811302</td>\n",
       "      <td>10016</td>\n",
       "    </tr>\n",
       "    <tr>\n",
       "      <th>26</th>\n",
       "      <td>2019</td>\n",
       "      <td>Tampa Bay Rays</td>\n",
       "      <td>1178735</td>\n",
       "      <td>14552</td>\n",
       "    </tr>\n",
       "    <tr>\n",
       "      <th>2</th>\n",
       "      <td>2019</td>\n",
       "      <td>Baltimore Orioles</td>\n",
       "      <td>1307807</td>\n",
       "      <td>16146</td>\n",
       "    </tr>\n",
       "    <tr>\n",
       "      <th>11</th>\n",
       "      <td>2019</td>\n",
       "      <td>Kansas City Royals</td>\n",
       "      <td>1479659</td>\n",
       "      <td>18267</td>\n",
       "    </tr>\n",
       "    <tr>\n",
       "      <th>21</th>\n",
       "      <td>2019</td>\n",
       "      <td>Pittsburgh Pirates</td>\n",
       "      <td>1491439</td>\n",
       "      <td>18413</td>\n",
       "    </tr>\n",
       "    <tr>\n",
       "      <th>9</th>\n",
       "      <td>2019</td>\n",
       "      <td>Detroit Tigers</td>\n",
       "      <td>1501430</td>\n",
       "      <td>18536</td>\n",
       "    </tr>\n",
       "    <tr>\n",
       "      <th>5</th>\n",
       "      <td>2019</td>\n",
       "      <td>Chicago White Sox</td>\n",
       "      <td>1649775</td>\n",
       "      <td>20622</td>\n",
       "    </tr>\n",
       "    <tr>\n",
       "      <th>19</th>\n",
       "      <td>2019</td>\n",
       "      <td>Oakland Athletics</td>\n",
       "      <td>1670734</td>\n",
       "      <td>20626</td>\n",
       "    </tr>\n",
       "    <tr>\n",
       "      <th>7</th>\n",
       "      <td>2019</td>\n",
       "      <td>Cleveland Indians</td>\n",
       "      <td>1738642</td>\n",
       "      <td>21465</td>\n",
       "    </tr>\n",
       "    <tr>\n",
       "      <th>28</th>\n",
       "      <td>2019</td>\n",
       "      <td>Toronto Blue Jays</td>\n",
       "      <td>1750144</td>\n",
       "      <td>21607</td>\n",
       "    </tr>\n",
       "    <tr>\n",
       "      <th>23</th>\n",
       "      <td>2019</td>\n",
       "      <td>Seattle Mariners</td>\n",
       "      <td>1791109</td>\n",
       "      <td>22112</td>\n",
       "    </tr>\n",
       "    <tr>\n",
       "      <th>6</th>\n",
       "      <td>2019</td>\n",
       "      <td>Cincinnati Reds</td>\n",
       "      <td>1809075</td>\n",
       "      <td>22334</td>\n",
       "    </tr>\n",
       "    <tr>\n",
       "      <th>27</th>\n",
       "      <td>2019</td>\n",
       "      <td>Texas Rangers</td>\n",
       "      <td>2132994</td>\n",
       "      <td>26333</td>\n",
       "    </tr>\n",
       "    <tr>\n",
       "      <th>0</th>\n",
       "      <td>2019</td>\n",
       "      <td>Arizona Diamondbacks</td>\n",
       "      <td>2135510</td>\n",
       "      <td>26364</td>\n",
       "    </tr>\n",
       "    <tr>\n",
       "      <th>29</th>\n",
       "      <td>2019</td>\n",
       "      <td>Washington Nationals</td>\n",
       "      <td>2259781</td>\n",
       "      <td>27899</td>\n",
       "    </tr>\n",
       "    <tr>\n",
       "      <th>16</th>\n",
       "      <td>2019</td>\n",
       "      <td>Minnesota Twins</td>\n",
       "      <td>2303299</td>\n",
       "      <td>28436</td>\n",
       "    </tr>\n",
       "    <tr>\n",
       "      <th>22</th>\n",
       "      <td>2019</td>\n",
       "      <td>San Diego Padres</td>\n",
       "      <td>2396399</td>\n",
       "      <td>29585</td>\n",
       "    </tr>\n",
       "    <tr>\n",
       "      <th>17</th>\n",
       "      <td>2019</td>\n",
       "      <td>New York Mets</td>\n",
       "      <td>2442532</td>\n",
       "      <td>30155</td>\n",
       "    </tr>\n",
       "    <tr>\n",
       "      <th>1</th>\n",
       "      <td>2019</td>\n",
       "      <td>Atlanta Braves</td>\n",
       "      <td>2654920</td>\n",
       "      <td>32777</td>\n",
       "    </tr>\n",
       "    <tr>\n",
       "      <th>24</th>\n",
       "      <td>2019</td>\n",
       "      <td>San Francisco Giants</td>\n",
       "      <td>2707760</td>\n",
       "      <td>33429</td>\n",
       "    </tr>\n",
       "    <tr>\n",
       "      <th>20</th>\n",
       "      <td>2019</td>\n",
       "      <td>Philadelphia Phillies</td>\n",
       "      <td>2727421</td>\n",
       "      <td>33672</td>\n",
       "    </tr>\n",
       "    <tr>\n",
       "      <th>10</th>\n",
       "      <td>2019</td>\n",
       "      <td>Houston Astros</td>\n",
       "      <td>2857367</td>\n",
       "      <td>35276</td>\n",
       "    </tr>\n",
       "    <tr>\n",
       "      <th>3</th>\n",
       "      <td>2019</td>\n",
       "      <td>Boston Red Sox</td>\n",
       "      <td>2915502</td>\n",
       "      <td>35994</td>\n",
       "    </tr>\n",
       "    <tr>\n",
       "      <th>15</th>\n",
       "      <td>2019</td>\n",
       "      <td>Milwaukee Brewers</td>\n",
       "      <td>2923333</td>\n",
       "      <td>36091</td>\n",
       "    </tr>\n",
       "    <tr>\n",
       "      <th>8</th>\n",
       "      <td>2019</td>\n",
       "      <td>Colorado Rockies</td>\n",
       "      <td>2993244</td>\n",
       "      <td>36954</td>\n",
       "    </tr>\n",
       "    <tr>\n",
       "      <th>12</th>\n",
       "      <td>2019</td>\n",
       "      <td>Los Angeles Angels</td>\n",
       "      <td>3023012</td>\n",
       "      <td>37321</td>\n",
       "    </tr>\n",
       "    <tr>\n",
       "      <th>4</th>\n",
       "      <td>2019</td>\n",
       "      <td>Chicago Cubs</td>\n",
       "      <td>3094865</td>\n",
       "      <td>38208</td>\n",
       "    </tr>\n",
       "    <tr>\n",
       "      <th>18</th>\n",
       "      <td>2019</td>\n",
       "      <td>New York Yankees</td>\n",
       "      <td>3304404</td>\n",
       "      <td>40795</td>\n",
       "    </tr>\n",
       "    <tr>\n",
       "      <th>25</th>\n",
       "      <td>2019</td>\n",
       "      <td>St. Louis Cardinals</td>\n",
       "      <td>3480393</td>\n",
       "      <td>42968</td>\n",
       "    </tr>\n",
       "    <tr>\n",
       "      <th>13</th>\n",
       "      <td>2019</td>\n",
       "      <td>Los Angeles Dodgers</td>\n",
       "      <td>3974309</td>\n",
       "      <td>49066</td>\n",
       "    </tr>\n",
       "  </tbody>\n",
       "</table>\n",
       "</div>"
      ],
      "text/plain": [
       "    year                   Team  Attendance  Att Per Game\n",
       "14  2019          Miami Marlins      811302         10016\n",
       "26  2019         Tampa Bay Rays     1178735         14552\n",
       "2   2019      Baltimore Orioles     1307807         16146\n",
       "11  2019     Kansas City Royals     1479659         18267\n",
       "21  2019     Pittsburgh Pirates     1491439         18413\n",
       "9   2019         Detroit Tigers     1501430         18536\n",
       "5   2019      Chicago White Sox     1649775         20622\n",
       "19  2019      Oakland Athletics     1670734         20626\n",
       "7   2019      Cleveland Indians     1738642         21465\n",
       "28  2019      Toronto Blue Jays     1750144         21607\n",
       "23  2019       Seattle Mariners     1791109         22112\n",
       "6   2019        Cincinnati Reds     1809075         22334\n",
       "27  2019          Texas Rangers     2132994         26333\n",
       "0   2019   Arizona Diamondbacks     2135510         26364\n",
       "29  2019   Washington Nationals     2259781         27899\n",
       "16  2019        Minnesota Twins     2303299         28436\n",
       "22  2019       San Diego Padres     2396399         29585\n",
       "17  2019          New York Mets     2442532         30155\n",
       "1   2019         Atlanta Braves     2654920         32777\n",
       "24  2019   San Francisco Giants     2707760         33429\n",
       "20  2019  Philadelphia Phillies     2727421         33672\n",
       "10  2019         Houston Astros     2857367         35276\n",
       "3   2019         Boston Red Sox     2915502         35994\n",
       "15  2019      Milwaukee Brewers     2923333         36091\n",
       "8   2019       Colorado Rockies     2993244         36954\n",
       "12  2019     Los Angeles Angels     3023012         37321\n",
       "4   2019           Chicago Cubs     3094865         38208\n",
       "18  2019       New York Yankees     3304404         40795\n",
       "25  2019    St. Louis Cardinals     3480393         42968\n",
       "13  2019    Los Angeles Dodgers     3974309         49066"
      ]
     },
     "execution_count": 200,
     "metadata": {},
     "output_type": "execute_result"
    }
   ],
   "source": [
    "mlb_att_14 = pd.read_html('https://www.baseball-reference.com/leagues/majors/2014-misc.shtml')[0]\n",
    "mlb_att_14['year'] = '2014'\n",
    "mlb_att_15 = pd.read_html('https://www.baseball-reference.com/leagues/majors/2015-misc.shtml')[0]\n",
    "mlb_att_15['year'] = '2015'\n",
    "mlb_att_16 = pd.read_html('https://www.baseball-reference.com/leagues/majors/2016-misc.shtml')[0]\n",
    "mlb_att_16['year'] = '2016'\n",
    "mlb_att_17 = pd.read_html('https://www.baseball-reference.com/leagues/majors/2017-misc.shtml')[0]\n",
    "mlb_att_17['year'] = '2017'\n",
    "mlb_att_18 = pd.read_html('https://www.baseball-reference.com/leagues/majors/2018-misc.shtml')[0]\n",
    "mlb_att_18['year'] = '2018'\n",
    "mlb_att_19 = pd.read_html('https://www.baseball-reference.com/leagues/majors/2019-misc.shtml')[0]\n",
    "mlb_att_19['year'] = '2019'\n",
    "frames = [mlb_att_14, mlb_att_15, mlb_att_16, mlb_att_17, mlb_att_18, mlb_att_19]\n",
    "mlb_att = pd.concat(frames)\n",
    "mlb_att = mlb_att[['year','Tm', 'Attendance','Attend/G']]\n",
    "mlb_att.rename(columns={'Attend/G': 'Att Per Game', 'Tm': 'Team'}, inplace=True)\n",
    "\n",
    "mlb_att['Att Per Game'] = pd.to_numeric(mlb_att['Att Per Game'], errors='coerce')\n",
    "mlb_att['Attendance'] = pd.to_numeric(mlb_att['Attendance'], errors='coerce')\n",
    "mlb_att.loc[mlb_att['year']=='2019'].sort_values(by='Att Per Game')"
   ]
  },
  {
   "cell_type": "code",
   "execution_count": 146,
   "id": "7fea643c",
   "metadata": {},
   "outputs": [
    {
     "data": {
      "application/vnd.plotly.v1+json": {
       "config": {
        "plotlyServerURL": "https://plot.ly"
       },
       "data": [
        {
         "hovertemplate": "Team=Arizona Diamondbacks<br>year=%{x}<br>Att Per Game=%{y}<extra></extra>",
         "legendgroup": "Arizona Diamondbacks",
         "line": {
          "color": "#636efa",
          "dash": "solid"
         },
         "marker": {
          "symbol": "circle"
         },
         "mode": "lines",
         "name": "Arizona Diamondbacks",
         "orientation": "v",
         "showlegend": true,
         "type": "scatter",
         "x": [
          "2014",
          "2015",
          "2016",
          "2017",
          "2018",
          "2019"
         ],
         "xaxis": "x",
         "y": [
          25602,
          25681,
          25138,
          26350,
          27688,
          26364
         ],
         "yaxis": "y"
        },
        {
         "hovertemplate": "Team=Atlanta Braves<br>year=%{x}<br>Att Per Game=%{y}<extra></extra>",
         "legendgroup": "Atlanta Braves",
         "line": {
          "color": "#EF553B",
          "dash": "solid"
         },
         "marker": {
          "symbol": "circle"
         },
         "mode": "lines",
         "name": "Atlanta Braves",
         "orientation": "v",
         "showlegend": true,
         "type": "scatter",
         "x": [
          "2014",
          "2015",
          "2016",
          "2017",
          "2018",
          "2019"
         ],
         "xaxis": "x",
         "y": [
          29065,
          24709,
          24950,
          30929,
          31553,
          32777
         ],
         "yaxis": "y"
        },
        {
         "hovertemplate": "Team=Baltimore Orioles<br>year=%{x}<br>Att Per Game=%{y}<extra></extra>",
         "legendgroup": "Baltimore Orioles",
         "line": {
          "color": "#00cc96",
          "dash": "solid"
         },
         "marker": {
          "symbol": "circle"
         },
         "mode": "lines",
         "name": "Baltimore Orioles",
         "orientation": "v",
         "showlegend": true,
         "type": "scatter",
         "x": [
          "2014",
          "2015",
          "2016",
          "2017",
          "2018",
          "2019"
         ],
         "xaxis": "x",
         "y": [
          30426,
          29246,
          26819,
          25042,
          19311,
          16146
         ],
         "yaxis": "y"
        },
        {
         "hovertemplate": "Team=Boston Red Sox<br>year=%{x}<br>Att Per Game=%{y}<extra></extra>",
         "legendgroup": "Boston Red Sox",
         "line": {
          "color": "#ab63fa",
          "dash": "solid"
         },
         "marker": {
          "symbol": "circle"
         },
         "mode": "lines",
         "name": "Boston Red Sox",
         "orientation": "v",
         "showlegend": true,
         "type": "scatter",
         "x": [
          "2014",
          "2015",
          "2016",
          "2017",
          "2018",
          "2019"
         ],
         "xaxis": "x",
         "y": [
          36495,
          35564,
          36487,
          36021,
          35748,
          35994
         ],
         "yaxis": "y"
        },
        {
         "hovertemplate": "Team=Chicago Cubs<br>year=%{x}<br>Att Per Game=%{y}<extra></extra>",
         "legendgroup": "Chicago Cubs",
         "line": {
          "color": "#FFA15A",
          "dash": "solid"
         },
         "marker": {
          "symbol": "circle"
         },
         "mode": "lines",
         "name": "Chicago Cubs",
         "orientation": "v",
         "showlegend": true,
         "type": "scatter",
         "x": [
          "2014",
          "2015",
          "2016",
          "2017",
          "2018",
          "2019"
         ],
         "xaxis": "x",
         "y": [
          32742,
          36039,
          39906,
          39501,
          38794,
          38208
         ],
         "yaxis": "y"
        },
        {
         "hovertemplate": "Team=Chicago White Sox<br>year=%{x}<br>Att Per Game=%{y}<extra></extra>",
         "legendgroup": "Chicago White Sox",
         "line": {
          "color": "#19d3f3",
          "dash": "solid"
         },
         "marker": {
          "symbol": "circle"
         },
         "mode": "lines",
         "name": "Chicago White Sox",
         "orientation": "v",
         "showlegend": true,
         "type": "scatter",
         "x": [
          "2014",
          "2015",
          "2016",
          "2017",
          "2018",
          "2019"
         ],
         "xaxis": "x",
         "y": [
          20381,
          21677,
          21559,
          20117,
          19862,
          20622
         ],
         "yaxis": "y"
        },
        {
         "hovertemplate": "Team=Cincinnati Reds<br>year=%{x}<br>Att Per Game=%{y}<extra></extra>",
         "legendgroup": "Cincinnati Reds",
         "line": {
          "color": "#FF6692",
          "dash": "solid"
         },
         "marker": {
          "symbol": "circle"
         },
         "mode": "lines",
         "name": "Cincinnati Reds",
         "orientation": "v",
         "showlegend": true,
         "type": "scatter",
         "x": [
          "2014",
          "2015",
          "2016",
          "2017",
          "2018",
          "2019"
         ],
         "xaxis": "x",
         "y": [
          30576,
          29870,
          23384,
          22678,
          20116,
          22334
         ],
         "yaxis": "y"
        },
        {
         "hovertemplate": "Team=Cleveland Indians<br>year=%{x}<br>Att Per Game=%{y}<extra></extra>",
         "legendgroup": "Cleveland Indians",
         "line": {
          "color": "#B6E880",
          "dash": "solid"
         },
         "marker": {
          "symbol": "circle"
         },
         "mode": "lines",
         "name": "Cleveland Indians",
         "orientation": "v",
         "showlegend": true,
         "type": "scatter",
         "x": [
          "2014",
          "2015",
          "2016",
          "2017",
          "2018",
          "2019"
         ],
         "xaxis": "x",
         "y": [
          17746,
          17361,
          19650,
          25286,
          23786,
          21465
         ],
         "yaxis": "y"
        },
        {
         "hovertemplate": "Team=Colorado Rockies<br>year=%{x}<br>Att Per Game=%{y}<extra></extra>",
         "legendgroup": "Colorado Rockies",
         "line": {
          "color": "#FF97FF",
          "dash": "solid"
         },
         "marker": {
          "symbol": "circle"
         },
         "mode": "lines",
         "name": "Colorado Rockies",
         "orientation": "v",
         "showlegend": true,
         "type": "scatter",
         "x": [
          "2014",
          "2015",
          "2016",
          "2017",
          "2018",
          "2019"
         ],
         "xaxis": "x",
         "y": [
          33090,
          30948,
          32130,
          36465,
          37233,
          36954
         ],
         "yaxis": "y"
        },
        {
         "hovertemplate": "Team=Detroit Tigers<br>year=%{x}<br>Att Per Game=%{y}<extra></extra>",
         "legendgroup": "Detroit Tigers",
         "line": {
          "color": "#FECB52",
          "dash": "solid"
         },
         "marker": {
          "symbol": "circle"
         },
         "mode": "lines",
         "name": "Detroit Tigers",
         "orientation": "v",
         "showlegend": true,
         "type": "scatter",
         "x": [
          "2014",
          "2015",
          "2016",
          "2017",
          "2018",
          "2019"
         ],
         "xaxis": "x",
         "y": [
          36015,
          33655,
          31173,
          28662,
          22926,
          18536
         ],
         "yaxis": "y"
        },
        {
         "hovertemplate": "Team=Houston Astros<br>year=%{x}<br>Att Per Game=%{y}<extra></extra>",
         "legendgroup": "Houston Astros",
         "line": {
          "color": "#636efa",
          "dash": "solid"
         },
         "marker": {
          "symbol": "circle"
         },
         "mode": "lines",
         "name": "Houston Astros",
         "orientation": "v",
         "showlegend": true,
         "type": "scatter",
         "x": [
          "2014",
          "2015",
          "2016",
          "2017",
          "2018",
          "2019"
         ],
         "xaxis": "x",
         "y": [
          21628,
          26587,
          28477,
          29675,
          36797,
          35276
         ],
         "yaxis": "y"
        },
        {
         "hovertemplate": "Team=Kansas City Royals<br>year=%{x}<br>Att Per Game=%{y}<extra></extra>",
         "legendgroup": "Kansas City Royals",
         "line": {
          "color": "#EF553B",
          "dash": "solid"
         },
         "marker": {
          "symbol": "circle"
         },
         "mode": "lines",
         "name": "Kansas City Royals",
         "orientation": "v",
         "showlegend": true,
         "type": "scatter",
         "x": [
          "2014",
          "2015",
          "2016",
          "2017",
          "2018",
          "2019"
         ],
         "xaxis": "x",
         "y": [
          24154,
          33439,
          31577,
          27412,
          20557,
          18267
         ],
         "yaxis": "y"
        },
        {
         "hovertemplate": "Team=Los Angeles Angels of Anaheim<br>year=%{x}<br>Att Per Game=%{y}<extra></extra>",
         "legendgroup": "Los Angeles Angels of Anaheim",
         "line": {
          "color": "#00cc96",
          "dash": "solid"
         },
         "marker": {
          "symbol": "circle"
         },
         "mode": "lines",
         "name": "Los Angeles Angels of Anaheim",
         "orientation": "v",
         "showlegend": true,
         "type": "scatter",
         "x": [
          "2014",
          "2015"
         ],
         "xaxis": "x",
         "y": [
          38221,
          37195
         ],
         "yaxis": "y"
        },
        {
         "hovertemplate": "Team=Los Angeles Dodgers<br>year=%{x}<br>Att Per Game=%{y}<extra></extra>",
         "legendgroup": "Los Angeles Dodgers",
         "line": {
          "color": "#ab63fa",
          "dash": "solid"
         },
         "marker": {
          "symbol": "circle"
         },
         "mode": "lines",
         "name": "Los Angeles Dodgers",
         "orientation": "v",
         "showlegend": true,
         "type": "scatter",
         "x": [
          "2014",
          "2015",
          "2016",
          "2017",
          "2018",
          "2019"
         ],
         "xaxis": "x",
         "y": [
          46696,
          46479,
          45720,
          46492,
          47043,
          49066
         ],
         "yaxis": "y"
        },
        {
         "hovertemplate": "Team=Miami Marlins<br>year=%{x}<br>Att Per Game=%{y}<extra></extra>",
         "legendgroup": "Miami Marlins",
         "line": {
          "color": "#FFA15A",
          "dash": "solid"
         },
         "marker": {
          "symbol": "circle"
         },
         "mode": "lines",
         "name": "Miami Marlins",
         "orientation": "v",
         "showlegend": true,
         "type": "scatter",
         "x": [
          "2014",
          "2015",
          "2016",
          "2017",
          "2018",
          "2019"
         ],
         "xaxis": "x",
         "y": [
          21386,
          21633,
          21405,
          20295,
          10014,
          10016
         ],
         "yaxis": "y"
        },
        {
         "hovertemplate": "Team=Milwaukee Brewers<br>year=%{x}<br>Att Per Game=%{y}<extra></extra>",
         "legendgroup": "Milwaukee Brewers",
         "line": {
          "color": "#19d3f3",
          "dash": "solid"
         },
         "marker": {
          "symbol": "circle"
         },
         "mode": "lines",
         "name": "Milwaukee Brewers",
         "orientation": "v",
         "showlegend": true,
         "type": "scatter",
         "x": [
          "2014",
          "2015",
          "2016",
          "2017",
          "2018",
          "2019"
         ],
         "xaxis": "x",
         "y": [
          34536,
          31390,
          28575,
          31282,
          35196,
          36091
         ],
         "yaxis": "y"
        },
        {
         "hovertemplate": "Team=Minnesota Twins<br>year=%{x}<br>Att Per Game=%{y}<extra></extra>",
         "legendgroup": "Minnesota Twins",
         "line": {
          "color": "#FF6692",
          "dash": "solid"
         },
         "marker": {
          "symbol": "circle"
         },
         "mode": "lines",
         "name": "Minnesota Twins",
         "orientation": "v",
         "showlegend": true,
         "type": "scatter",
         "x": [
          "2014",
          "2015",
          "2016",
          "2017",
          "2018",
          "2019"
         ],
         "xaxis": "x",
         "y": [
          27785,
          27408,
          24246,
          25324,
          24188,
          28436
         ],
         "yaxis": "y"
        },
        {
         "hovertemplate": "Team=New York Mets<br>year=%{x}<br>Att Per Game=%{y}<extra></extra>",
         "legendgroup": "New York Mets",
         "line": {
          "color": "#B6E880",
          "dash": "solid"
         },
         "marker": {
          "symbol": "circle"
         },
         "mode": "lines",
         "name": "New York Mets",
         "orientation": "v",
         "showlegend": true,
         "type": "scatter",
         "x": [
          "2014",
          "2015",
          "2016",
          "2017",
          "2018",
          "2019"
         ],
         "xaxis": "x",
         "y": [
          26528,
          31725,
          34440,
          30378,
          27469,
          30155
         ],
         "yaxis": "y"
        },
        {
         "hovertemplate": "Team=New York Yankees<br>year=%{x}<br>Att Per Game=%{y}<extra></extra>",
         "legendgroup": "New York Yankees",
         "line": {
          "color": "#FF97FF",
          "dash": "solid"
         },
         "marker": {
          "symbol": "circle"
         },
         "mode": "lines",
         "name": "New York Yankees",
         "orientation": "v",
         "showlegend": true,
         "type": "scatter",
         "x": [
          "2014",
          "2015",
          "2016",
          "2017",
          "2018",
          "2019"
         ],
         "xaxis": "x",
         "y": [
          41995,
          39430,
          37820,
          38950,
          42998,
          40795
         ],
         "yaxis": "y"
        },
        {
         "hovertemplate": "Team=Oakland Athletics<br>year=%{x}<br>Att Per Game=%{y}<extra></extra>",
         "legendgroup": "Oakland Athletics",
         "line": {
          "color": "#FECB52",
          "dash": "solid"
         },
         "marker": {
          "symbol": "circle"
         },
         "mode": "lines",
         "name": "Oakland Athletics",
         "orientation": "v",
         "showlegend": true,
         "type": "scatter",
         "x": [
          "2014",
          "2015",
          "2016",
          "2017",
          "2018",
          "2019"
         ],
         "xaxis": "x",
         "y": [
          24736,
          21829,
          18784,
          18219,
          19427,
          20626
         ],
         "yaxis": "y"
        },
        {
         "hovertemplate": "Team=Philadelphia Phillies<br>year=%{x}<br>Att Per Game=%{y}<extra></extra>",
         "legendgroup": "Philadelphia Phillies",
         "line": {
          "color": "#636efa",
          "dash": "solid"
         },
         "marker": {
          "symbol": "circle"
         },
         "mode": "lines",
         "name": "Philadelphia Phillies",
         "orientation": "v",
         "showlegend": true,
         "type": "scatter",
         "x": [
          "2014",
          "2015",
          "2016",
          "2017",
          "2018",
          "2019"
         ],
         "xaxis": "x",
         "y": [
          29924,
          22606,
          23644,
          23523,
          26644,
          33672
         ],
         "yaxis": "y"
        },
        {
         "hovertemplate": "Team=Pittsburgh Pirates<br>year=%{x}<br>Att Per Game=%{y}<extra></extra>",
         "legendgroup": "Pittsburgh Pirates",
         "line": {
          "color": "#EF553B",
          "dash": "solid"
         },
         "marker": {
          "symbol": "circle"
         },
         "mode": "lines",
         "name": "Pittsburgh Pirates",
         "orientation": "v",
         "showlegend": true,
         "type": "scatter",
         "x": [
          "2014",
          "2015",
          "2016",
          "2017",
          "2018",
          "2019"
         ],
         "xaxis": "x",
         "y": [
          30155,
          30847,
          27768,
          23697,
          18316,
          18413
         ],
         "yaxis": "y"
        },
        {
         "hovertemplate": "Team=San Diego Padres<br>year=%{x}<br>Att Per Game=%{y}<extra></extra>",
         "legendgroup": "San Diego Padres",
         "line": {
          "color": "#00cc96",
          "dash": "solid"
         },
         "marker": {
          "symbol": "circle"
         },
         "mode": "lines",
         "name": "San Diego Padres",
         "orientation": "v",
         "showlegend": true,
         "type": "scatter",
         "x": [
          "2014",
          "2015",
          "2016",
          "2017",
          "2018",
          "2019"
         ],
         "xaxis": "x",
         "y": [
          27103,
          30367,
          29030,
          26401,
          26772,
          29585
         ],
         "yaxis": "y"
        },
        {
         "hovertemplate": "Team=Seattle Mariners<br>year=%{x}<br>Att Per Game=%{y}<extra></extra>",
         "legendgroup": "Seattle Mariners",
         "line": {
          "color": "#ab63fa",
          "dash": "solid"
         },
         "marker": {
          "symbol": "circle"
         },
         "mode": "lines",
         "name": "Seattle Mariners",
         "orientation": "v",
         "showlegend": true,
         "type": "scatter",
         "x": [
          "2014",
          "2015",
          "2016",
          "2017",
          "2018",
          "2019"
         ],
         "xaxis": "x",
         "y": [
          25486,
          27081,
          27999,
          26364,
          28389,
          22112
         ],
         "yaxis": "y"
        },
        {
         "hovertemplate": "Team=San Francisco Giants<br>year=%{x}<br>Att Per Game=%{y}<extra></extra>",
         "legendgroup": "San Francisco Giants",
         "line": {
          "color": "#FFA15A",
          "dash": "solid"
         },
         "marker": {
          "symbol": "circle"
         },
         "mode": "lines",
         "name": "San Francisco Giants",
         "orientation": "v",
         "showlegend": true,
         "type": "scatter",
         "x": [
          "2014",
          "2015",
          "2016",
          "2017",
          "2018",
          "2019"
         ],
         "xaxis": "x",
         "y": [
          41589,
          41678,
          41546,
          40786,
          38965,
          33429
         ],
         "yaxis": "y"
        },
        {
         "hovertemplate": "Team=St. Louis Cardinals<br>year=%{x}<br>Att Per Game=%{y}<extra></extra>",
         "legendgroup": "St. Louis Cardinals",
         "line": {
          "color": "#19d3f3",
          "dash": "solid"
         },
         "marker": {
          "symbol": "circle"
         },
         "mode": "lines",
         "name": "St. Louis Cardinals",
         "orientation": "v",
         "showlegend": true,
         "type": "scatter",
         "x": [
          "2014",
          "2015",
          "2016",
          "2017",
          "2018",
          "2019"
         ],
         "xaxis": "x",
         "y": [
          43712,
          43468,
          42525,
          42572,
          42020,
          42968
         ],
         "yaxis": "y"
        },
        {
         "hovertemplate": "Team=Tampa Bay Rays<br>year=%{x}<br>Att Per Game=%{y}<extra></extra>",
         "legendgroup": "Tampa Bay Rays",
         "line": {
          "color": "#FF6692",
          "dash": "solid"
         },
         "marker": {
          "symbol": "circle"
         },
         "mode": "lines",
         "name": "Tampa Bay Rays",
         "orientation": "v",
         "showlegend": true,
         "type": "scatter",
         "x": [
          "2014",
          "2015",
          "2016",
          "2017",
          "2018",
          "2019"
         ],
         "xaxis": "x",
         "y": [
          17858,
          15322,
          15879,
          15477,
          14259,
          14552
         ],
         "yaxis": "y"
        },
        {
         "hovertemplate": "Team=Texas Rangers<br>year=%{x}<br>Att Per Game=%{y}<extra></extra>",
         "legendgroup": "Texas Rangers",
         "line": {
          "color": "#B6E880",
          "dash": "solid"
         },
         "marker": {
          "symbol": "circle"
         },
         "mode": "lines",
         "name": "Texas Rangers",
         "orientation": "v",
         "showlegend": true,
         "type": "scatter",
         "x": [
          "2014",
          "2015",
          "2016",
          "2017",
          "2018",
          "2019"
         ],
         "xaxis": "x",
         "y": [
          33565,
          30764,
          33462,
          30960,
          26014,
          26333
         ],
         "yaxis": "y"
        },
        {
         "hovertemplate": "Team=Toronto Blue Jays<br>year=%{x}<br>Att Per Game=%{y}<extra></extra>",
         "legendgroup": "Toronto Blue Jays",
         "line": {
          "color": "#FF97FF",
          "dash": "solid"
         },
         "marker": {
          "symbol": "circle"
         },
         "mode": "lines",
         "name": "Toronto Blue Jays",
         "orientation": "v",
         "showlegend": true,
         "type": "scatter",
         "x": [
          "2014",
          "2015",
          "2016",
          "2017",
          "2018",
          "2019"
         ],
         "xaxis": "x",
         "y": [
          29327,
          34505,
          41878,
          39554,
          28707,
          21607
         ],
         "yaxis": "y"
        },
        {
         "hovertemplate": "Team=Washington Nationals<br>year=%{x}<br>Att Per Game=%{y}<extra></extra>",
         "legendgroup": "Washington Nationals",
         "line": {
          "color": "#FECB52",
          "dash": "solid"
         },
         "marker": {
          "symbol": "circle"
         },
         "mode": "lines",
         "name": "Washington Nationals",
         "orientation": "v",
         "showlegend": true,
         "type": "scatter",
         "x": [
          "2014",
          "2015",
          "2016",
          "2017",
          "2018",
          "2019"
         ],
         "xaxis": "x",
         "y": [
          31844,
          32344,
          30641,
          31173,
          31230,
          27899
         ],
         "yaxis": "y"
        },
        {
         "hovertemplate": "Team=Los Angeles Angels<br>year=%{x}<br>Att Per Game=%{y}<extra></extra>",
         "legendgroup": "Los Angeles Angels",
         "line": {
          "color": "#636efa",
          "dash": "solid"
         },
         "marker": {
          "symbol": "circle"
         },
         "mode": "lines",
         "name": "Los Angeles Angels",
         "orientation": "v",
         "showlegend": true,
         "type": "scatter",
         "x": [
          "2016",
          "2017",
          "2018",
          "2019"
         ],
         "xaxis": "x",
         "y": [
          37236,
          37279,
          37287,
          37321
         ],
         "yaxis": "y"
        }
       ],
       "layout": {
        "legend": {
         "title": {
          "text": "Team"
         },
         "tracegroupgap": 0
        },
        "template": {
         "data": {
          "bar": [
           {
            "error_x": {
             "color": "#2a3f5f"
            },
            "error_y": {
             "color": "#2a3f5f"
            },
            "marker": {
             "line": {
              "color": "#E5ECF6",
              "width": 0.5
             },
             "pattern": {
              "fillmode": "overlay",
              "size": 10,
              "solidity": 0.2
             }
            },
            "type": "bar"
           }
          ],
          "barpolar": [
           {
            "marker": {
             "line": {
              "color": "#E5ECF6",
              "width": 0.5
             },
             "pattern": {
              "fillmode": "overlay",
              "size": 10,
              "solidity": 0.2
             }
            },
            "type": "barpolar"
           }
          ],
          "carpet": [
           {
            "aaxis": {
             "endlinecolor": "#2a3f5f",
             "gridcolor": "white",
             "linecolor": "white",
             "minorgridcolor": "white",
             "startlinecolor": "#2a3f5f"
            },
            "baxis": {
             "endlinecolor": "#2a3f5f",
             "gridcolor": "white",
             "linecolor": "white",
             "minorgridcolor": "white",
             "startlinecolor": "#2a3f5f"
            },
            "type": "carpet"
           }
          ],
          "choropleth": [
           {
            "colorbar": {
             "outlinewidth": 0,
             "ticks": ""
            },
            "type": "choropleth"
           }
          ],
          "contour": [
           {
            "colorbar": {
             "outlinewidth": 0,
             "ticks": ""
            },
            "colorscale": [
             [
              0,
              "#0d0887"
             ],
             [
              0.1111111111111111,
              "#46039f"
             ],
             [
              0.2222222222222222,
              "#7201a8"
             ],
             [
              0.3333333333333333,
              "#9c179e"
             ],
             [
              0.4444444444444444,
              "#bd3786"
             ],
             [
              0.5555555555555556,
              "#d8576b"
             ],
             [
              0.6666666666666666,
              "#ed7953"
             ],
             [
              0.7777777777777778,
              "#fb9f3a"
             ],
             [
              0.8888888888888888,
              "#fdca26"
             ],
             [
              1,
              "#f0f921"
             ]
            ],
            "type": "contour"
           }
          ],
          "contourcarpet": [
           {
            "colorbar": {
             "outlinewidth": 0,
             "ticks": ""
            },
            "type": "contourcarpet"
           }
          ],
          "heatmap": [
           {
            "colorbar": {
             "outlinewidth": 0,
             "ticks": ""
            },
            "colorscale": [
             [
              0,
              "#0d0887"
             ],
             [
              0.1111111111111111,
              "#46039f"
             ],
             [
              0.2222222222222222,
              "#7201a8"
             ],
             [
              0.3333333333333333,
              "#9c179e"
             ],
             [
              0.4444444444444444,
              "#bd3786"
             ],
             [
              0.5555555555555556,
              "#d8576b"
             ],
             [
              0.6666666666666666,
              "#ed7953"
             ],
             [
              0.7777777777777778,
              "#fb9f3a"
             ],
             [
              0.8888888888888888,
              "#fdca26"
             ],
             [
              1,
              "#f0f921"
             ]
            ],
            "type": "heatmap"
           }
          ],
          "heatmapgl": [
           {
            "colorbar": {
             "outlinewidth": 0,
             "ticks": ""
            },
            "colorscale": [
             [
              0,
              "#0d0887"
             ],
             [
              0.1111111111111111,
              "#46039f"
             ],
             [
              0.2222222222222222,
              "#7201a8"
             ],
             [
              0.3333333333333333,
              "#9c179e"
             ],
             [
              0.4444444444444444,
              "#bd3786"
             ],
             [
              0.5555555555555556,
              "#d8576b"
             ],
             [
              0.6666666666666666,
              "#ed7953"
             ],
             [
              0.7777777777777778,
              "#fb9f3a"
             ],
             [
              0.8888888888888888,
              "#fdca26"
             ],
             [
              1,
              "#f0f921"
             ]
            ],
            "type": "heatmapgl"
           }
          ],
          "histogram": [
           {
            "marker": {
             "pattern": {
              "fillmode": "overlay",
              "size": 10,
              "solidity": 0.2
             }
            },
            "type": "histogram"
           }
          ],
          "histogram2d": [
           {
            "colorbar": {
             "outlinewidth": 0,
             "ticks": ""
            },
            "colorscale": [
             [
              0,
              "#0d0887"
             ],
             [
              0.1111111111111111,
              "#46039f"
             ],
             [
              0.2222222222222222,
              "#7201a8"
             ],
             [
              0.3333333333333333,
              "#9c179e"
             ],
             [
              0.4444444444444444,
              "#bd3786"
             ],
             [
              0.5555555555555556,
              "#d8576b"
             ],
             [
              0.6666666666666666,
              "#ed7953"
             ],
             [
              0.7777777777777778,
              "#fb9f3a"
             ],
             [
              0.8888888888888888,
              "#fdca26"
             ],
             [
              1,
              "#f0f921"
             ]
            ],
            "type": "histogram2d"
           }
          ],
          "histogram2dcontour": [
           {
            "colorbar": {
             "outlinewidth": 0,
             "ticks": ""
            },
            "colorscale": [
             [
              0,
              "#0d0887"
             ],
             [
              0.1111111111111111,
              "#46039f"
             ],
             [
              0.2222222222222222,
              "#7201a8"
             ],
             [
              0.3333333333333333,
              "#9c179e"
             ],
             [
              0.4444444444444444,
              "#bd3786"
             ],
             [
              0.5555555555555556,
              "#d8576b"
             ],
             [
              0.6666666666666666,
              "#ed7953"
             ],
             [
              0.7777777777777778,
              "#fb9f3a"
             ],
             [
              0.8888888888888888,
              "#fdca26"
             ],
             [
              1,
              "#f0f921"
             ]
            ],
            "type": "histogram2dcontour"
           }
          ],
          "mesh3d": [
           {
            "colorbar": {
             "outlinewidth": 0,
             "ticks": ""
            },
            "type": "mesh3d"
           }
          ],
          "parcoords": [
           {
            "line": {
             "colorbar": {
              "outlinewidth": 0,
              "ticks": ""
             }
            },
            "type": "parcoords"
           }
          ],
          "pie": [
           {
            "automargin": true,
            "type": "pie"
           }
          ],
          "scatter": [
           {
            "fillpattern": {
             "fillmode": "overlay",
             "size": 10,
             "solidity": 0.2
            },
            "type": "scatter"
           }
          ],
          "scatter3d": [
           {
            "line": {
             "colorbar": {
              "outlinewidth": 0,
              "ticks": ""
             }
            },
            "marker": {
             "colorbar": {
              "outlinewidth": 0,
              "ticks": ""
             }
            },
            "type": "scatter3d"
           }
          ],
          "scattercarpet": [
           {
            "marker": {
             "colorbar": {
              "outlinewidth": 0,
              "ticks": ""
             }
            },
            "type": "scattercarpet"
           }
          ],
          "scattergeo": [
           {
            "marker": {
             "colorbar": {
              "outlinewidth": 0,
              "ticks": ""
             }
            },
            "type": "scattergeo"
           }
          ],
          "scattergl": [
           {
            "marker": {
             "colorbar": {
              "outlinewidth": 0,
              "ticks": ""
             }
            },
            "type": "scattergl"
           }
          ],
          "scattermapbox": [
           {
            "marker": {
             "colorbar": {
              "outlinewidth": 0,
              "ticks": ""
             }
            },
            "type": "scattermapbox"
           }
          ],
          "scatterpolar": [
           {
            "marker": {
             "colorbar": {
              "outlinewidth": 0,
              "ticks": ""
             }
            },
            "type": "scatterpolar"
           }
          ],
          "scatterpolargl": [
           {
            "marker": {
             "colorbar": {
              "outlinewidth": 0,
              "ticks": ""
             }
            },
            "type": "scatterpolargl"
           }
          ],
          "scatterternary": [
           {
            "marker": {
             "colorbar": {
              "outlinewidth": 0,
              "ticks": ""
             }
            },
            "type": "scatterternary"
           }
          ],
          "surface": [
           {
            "colorbar": {
             "outlinewidth": 0,
             "ticks": ""
            },
            "colorscale": [
             [
              0,
              "#0d0887"
             ],
             [
              0.1111111111111111,
              "#46039f"
             ],
             [
              0.2222222222222222,
              "#7201a8"
             ],
             [
              0.3333333333333333,
              "#9c179e"
             ],
             [
              0.4444444444444444,
              "#bd3786"
             ],
             [
              0.5555555555555556,
              "#d8576b"
             ],
             [
              0.6666666666666666,
              "#ed7953"
             ],
             [
              0.7777777777777778,
              "#fb9f3a"
             ],
             [
              0.8888888888888888,
              "#fdca26"
             ],
             [
              1,
              "#f0f921"
             ]
            ],
            "type": "surface"
           }
          ],
          "table": [
           {
            "cells": {
             "fill": {
              "color": "#EBF0F8"
             },
             "line": {
              "color": "white"
             }
            },
            "header": {
             "fill": {
              "color": "#C8D4E3"
             },
             "line": {
              "color": "white"
             }
            },
            "type": "table"
           }
          ]
         },
         "layout": {
          "annotationdefaults": {
           "arrowcolor": "#2a3f5f",
           "arrowhead": 0,
           "arrowwidth": 1
          },
          "autotypenumbers": "strict",
          "coloraxis": {
           "colorbar": {
            "outlinewidth": 0,
            "ticks": ""
           }
          },
          "colorscale": {
           "diverging": [
            [
             0,
             "#8e0152"
            ],
            [
             0.1,
             "#c51b7d"
            ],
            [
             0.2,
             "#de77ae"
            ],
            [
             0.3,
             "#f1b6da"
            ],
            [
             0.4,
             "#fde0ef"
            ],
            [
             0.5,
             "#f7f7f7"
            ],
            [
             0.6,
             "#e6f5d0"
            ],
            [
             0.7,
             "#b8e186"
            ],
            [
             0.8,
             "#7fbc41"
            ],
            [
             0.9,
             "#4d9221"
            ],
            [
             1,
             "#276419"
            ]
           ],
           "sequential": [
            [
             0,
             "#0d0887"
            ],
            [
             0.1111111111111111,
             "#46039f"
            ],
            [
             0.2222222222222222,
             "#7201a8"
            ],
            [
             0.3333333333333333,
             "#9c179e"
            ],
            [
             0.4444444444444444,
             "#bd3786"
            ],
            [
             0.5555555555555556,
             "#d8576b"
            ],
            [
             0.6666666666666666,
             "#ed7953"
            ],
            [
             0.7777777777777778,
             "#fb9f3a"
            ],
            [
             0.8888888888888888,
             "#fdca26"
            ],
            [
             1,
             "#f0f921"
            ]
           ],
           "sequentialminus": [
            [
             0,
             "#0d0887"
            ],
            [
             0.1111111111111111,
             "#46039f"
            ],
            [
             0.2222222222222222,
             "#7201a8"
            ],
            [
             0.3333333333333333,
             "#9c179e"
            ],
            [
             0.4444444444444444,
             "#bd3786"
            ],
            [
             0.5555555555555556,
             "#d8576b"
            ],
            [
             0.6666666666666666,
             "#ed7953"
            ],
            [
             0.7777777777777778,
             "#fb9f3a"
            ],
            [
             0.8888888888888888,
             "#fdca26"
            ],
            [
             1,
             "#f0f921"
            ]
           ]
          },
          "colorway": [
           "#636efa",
           "#EF553B",
           "#00cc96",
           "#ab63fa",
           "#FFA15A",
           "#19d3f3",
           "#FF6692",
           "#B6E880",
           "#FF97FF",
           "#FECB52"
          ],
          "font": {
           "color": "#2a3f5f"
          },
          "geo": {
           "bgcolor": "white",
           "lakecolor": "white",
           "landcolor": "#E5ECF6",
           "showlakes": true,
           "showland": true,
           "subunitcolor": "white"
          },
          "hoverlabel": {
           "align": "left"
          },
          "hovermode": "closest",
          "mapbox": {
           "style": "light"
          },
          "paper_bgcolor": "white",
          "plot_bgcolor": "#E5ECF6",
          "polar": {
           "angularaxis": {
            "gridcolor": "white",
            "linecolor": "white",
            "ticks": ""
           },
           "bgcolor": "#E5ECF6",
           "radialaxis": {
            "gridcolor": "white",
            "linecolor": "white",
            "ticks": ""
           }
          },
          "scene": {
           "xaxis": {
            "backgroundcolor": "#E5ECF6",
            "gridcolor": "white",
            "gridwidth": 2,
            "linecolor": "white",
            "showbackground": true,
            "ticks": "",
            "zerolinecolor": "white"
           },
           "yaxis": {
            "backgroundcolor": "#E5ECF6",
            "gridcolor": "white",
            "gridwidth": 2,
            "linecolor": "white",
            "showbackground": true,
            "ticks": "",
            "zerolinecolor": "white"
           },
           "zaxis": {
            "backgroundcolor": "#E5ECF6",
            "gridcolor": "white",
            "gridwidth": 2,
            "linecolor": "white",
            "showbackground": true,
            "ticks": "",
            "zerolinecolor": "white"
           }
          },
          "shapedefaults": {
           "line": {
            "color": "#2a3f5f"
           }
          },
          "ternary": {
           "aaxis": {
            "gridcolor": "white",
            "linecolor": "white",
            "ticks": ""
           },
           "baxis": {
            "gridcolor": "white",
            "linecolor": "white",
            "ticks": ""
           },
           "bgcolor": "#E5ECF6",
           "caxis": {
            "gridcolor": "white",
            "linecolor": "white",
            "ticks": ""
           }
          },
          "title": {
           "x": 0.05
          },
          "xaxis": {
           "automargin": true,
           "gridcolor": "white",
           "linecolor": "white",
           "ticks": "",
           "title": {
            "standoff": 15
           },
           "zerolinecolor": "white",
           "zerolinewidth": 2
          },
          "yaxis": {
           "automargin": true,
           "gridcolor": "white",
           "linecolor": "white",
           "ticks": "",
           "title": {
            "standoff": 15
           },
           "zerolinecolor": "white",
           "zerolinewidth": 2
          }
         }
        },
        "title": {
         "text": "MLB Attendance by Year for each Team"
        },
        "xaxis": {
         "anchor": "y",
         "domain": [
          0,
          1
         ],
         "title": {
          "text": "year"
         }
        },
        "yaxis": {
         "anchor": "x",
         "domain": [
          0,
          1
         ],
         "title": {
          "text": "Att Per Game"
         }
        }
       }
      },
      "text/html": [
       "<div>                            <div id=\"a58904ce-e1c8-4fea-9cbe-30e621375576\" class=\"plotly-graph-div\" style=\"height:525px; width:100%;\"></div>            <script type=\"text/javascript\">                require([\"plotly\"], function(Plotly) {                    window.PLOTLYENV=window.PLOTLYENV || {};                                    if (document.getElementById(\"a58904ce-e1c8-4fea-9cbe-30e621375576\")) {                    Plotly.newPlot(                        \"a58904ce-e1c8-4fea-9cbe-30e621375576\",                        [{\"hovertemplate\":\"Team=Arizona Diamondbacks<br>year=%{x}<br>Att Per Game=%{y}<extra></extra>\",\"legendgroup\":\"Arizona Diamondbacks\",\"line\":{\"color\":\"#636efa\",\"dash\":\"solid\"},\"marker\":{\"symbol\":\"circle\"},\"mode\":\"lines\",\"name\":\"Arizona Diamondbacks\",\"orientation\":\"v\",\"showlegend\":true,\"x\":[\"2014\",\"2015\",\"2016\",\"2017\",\"2018\",\"2019\"],\"xaxis\":\"x\",\"y\":[25602,25681,25138,26350,27688,26364],\"yaxis\":\"y\",\"type\":\"scatter\"},{\"hovertemplate\":\"Team=Atlanta Braves<br>year=%{x}<br>Att Per Game=%{y}<extra></extra>\",\"legendgroup\":\"Atlanta Braves\",\"line\":{\"color\":\"#EF553B\",\"dash\":\"solid\"},\"marker\":{\"symbol\":\"circle\"},\"mode\":\"lines\",\"name\":\"Atlanta Braves\",\"orientation\":\"v\",\"showlegend\":true,\"x\":[\"2014\",\"2015\",\"2016\",\"2017\",\"2018\",\"2019\"],\"xaxis\":\"x\",\"y\":[29065,24709,24950,30929,31553,32777],\"yaxis\":\"y\",\"type\":\"scatter\"},{\"hovertemplate\":\"Team=Baltimore Orioles<br>year=%{x}<br>Att Per Game=%{y}<extra></extra>\",\"legendgroup\":\"Baltimore Orioles\",\"line\":{\"color\":\"#00cc96\",\"dash\":\"solid\"},\"marker\":{\"symbol\":\"circle\"},\"mode\":\"lines\",\"name\":\"Baltimore Orioles\",\"orientation\":\"v\",\"showlegend\":true,\"x\":[\"2014\",\"2015\",\"2016\",\"2017\",\"2018\",\"2019\"],\"xaxis\":\"x\",\"y\":[30426,29246,26819,25042,19311,16146],\"yaxis\":\"y\",\"type\":\"scatter\"},{\"hovertemplate\":\"Team=Boston Red Sox<br>year=%{x}<br>Att Per Game=%{y}<extra></extra>\",\"legendgroup\":\"Boston Red Sox\",\"line\":{\"color\":\"#ab63fa\",\"dash\":\"solid\"},\"marker\":{\"symbol\":\"circle\"},\"mode\":\"lines\",\"name\":\"Boston Red Sox\",\"orientation\":\"v\",\"showlegend\":true,\"x\":[\"2014\",\"2015\",\"2016\",\"2017\",\"2018\",\"2019\"],\"xaxis\":\"x\",\"y\":[36495,35564,36487,36021,35748,35994],\"yaxis\":\"y\",\"type\":\"scatter\"},{\"hovertemplate\":\"Team=Chicago Cubs<br>year=%{x}<br>Att Per Game=%{y}<extra></extra>\",\"legendgroup\":\"Chicago Cubs\",\"line\":{\"color\":\"#FFA15A\",\"dash\":\"solid\"},\"marker\":{\"symbol\":\"circle\"},\"mode\":\"lines\",\"name\":\"Chicago Cubs\",\"orientation\":\"v\",\"showlegend\":true,\"x\":[\"2014\",\"2015\",\"2016\",\"2017\",\"2018\",\"2019\"],\"xaxis\":\"x\",\"y\":[32742,36039,39906,39501,38794,38208],\"yaxis\":\"y\",\"type\":\"scatter\"},{\"hovertemplate\":\"Team=Chicago White Sox<br>year=%{x}<br>Att Per Game=%{y}<extra></extra>\",\"legendgroup\":\"Chicago White Sox\",\"line\":{\"color\":\"#19d3f3\",\"dash\":\"solid\"},\"marker\":{\"symbol\":\"circle\"},\"mode\":\"lines\",\"name\":\"Chicago White Sox\",\"orientation\":\"v\",\"showlegend\":true,\"x\":[\"2014\",\"2015\",\"2016\",\"2017\",\"2018\",\"2019\"],\"xaxis\":\"x\",\"y\":[20381,21677,21559,20117,19862,20622],\"yaxis\":\"y\",\"type\":\"scatter\"},{\"hovertemplate\":\"Team=Cincinnati Reds<br>year=%{x}<br>Att Per Game=%{y}<extra></extra>\",\"legendgroup\":\"Cincinnati Reds\",\"line\":{\"color\":\"#FF6692\",\"dash\":\"solid\"},\"marker\":{\"symbol\":\"circle\"},\"mode\":\"lines\",\"name\":\"Cincinnati Reds\",\"orientation\":\"v\",\"showlegend\":true,\"x\":[\"2014\",\"2015\",\"2016\",\"2017\",\"2018\",\"2019\"],\"xaxis\":\"x\",\"y\":[30576,29870,23384,22678,20116,22334],\"yaxis\":\"y\",\"type\":\"scatter\"},{\"hovertemplate\":\"Team=Cleveland Indians<br>year=%{x}<br>Att Per Game=%{y}<extra></extra>\",\"legendgroup\":\"Cleveland Indians\",\"line\":{\"color\":\"#B6E880\",\"dash\":\"solid\"},\"marker\":{\"symbol\":\"circle\"},\"mode\":\"lines\",\"name\":\"Cleveland Indians\",\"orientation\":\"v\",\"showlegend\":true,\"x\":[\"2014\",\"2015\",\"2016\",\"2017\",\"2018\",\"2019\"],\"xaxis\":\"x\",\"y\":[17746,17361,19650,25286,23786,21465],\"yaxis\":\"y\",\"type\":\"scatter\"},{\"hovertemplate\":\"Team=Colorado Rockies<br>year=%{x}<br>Att Per Game=%{y}<extra></extra>\",\"legendgroup\":\"Colorado Rockies\",\"line\":{\"color\":\"#FF97FF\",\"dash\":\"solid\"},\"marker\":{\"symbol\":\"circle\"},\"mode\":\"lines\",\"name\":\"Colorado Rockies\",\"orientation\":\"v\",\"showlegend\":true,\"x\":[\"2014\",\"2015\",\"2016\",\"2017\",\"2018\",\"2019\"],\"xaxis\":\"x\",\"y\":[33090,30948,32130,36465,37233,36954],\"yaxis\":\"y\",\"type\":\"scatter\"},{\"hovertemplate\":\"Team=Detroit Tigers<br>year=%{x}<br>Att Per Game=%{y}<extra></extra>\",\"legendgroup\":\"Detroit Tigers\",\"line\":{\"color\":\"#FECB52\",\"dash\":\"solid\"},\"marker\":{\"symbol\":\"circle\"},\"mode\":\"lines\",\"name\":\"Detroit Tigers\",\"orientation\":\"v\",\"showlegend\":true,\"x\":[\"2014\",\"2015\",\"2016\",\"2017\",\"2018\",\"2019\"],\"xaxis\":\"x\",\"y\":[36015,33655,31173,28662,22926,18536],\"yaxis\":\"y\",\"type\":\"scatter\"},{\"hovertemplate\":\"Team=Houston Astros<br>year=%{x}<br>Att Per Game=%{y}<extra></extra>\",\"legendgroup\":\"Houston Astros\",\"line\":{\"color\":\"#636efa\",\"dash\":\"solid\"},\"marker\":{\"symbol\":\"circle\"},\"mode\":\"lines\",\"name\":\"Houston Astros\",\"orientation\":\"v\",\"showlegend\":true,\"x\":[\"2014\",\"2015\",\"2016\",\"2017\",\"2018\",\"2019\"],\"xaxis\":\"x\",\"y\":[21628,26587,28477,29675,36797,35276],\"yaxis\":\"y\",\"type\":\"scatter\"},{\"hovertemplate\":\"Team=Kansas City Royals<br>year=%{x}<br>Att Per Game=%{y}<extra></extra>\",\"legendgroup\":\"Kansas City Royals\",\"line\":{\"color\":\"#EF553B\",\"dash\":\"solid\"},\"marker\":{\"symbol\":\"circle\"},\"mode\":\"lines\",\"name\":\"Kansas City Royals\",\"orientation\":\"v\",\"showlegend\":true,\"x\":[\"2014\",\"2015\",\"2016\",\"2017\",\"2018\",\"2019\"],\"xaxis\":\"x\",\"y\":[24154,33439,31577,27412,20557,18267],\"yaxis\":\"y\",\"type\":\"scatter\"},{\"hovertemplate\":\"Team=Los Angeles Angels of Anaheim<br>year=%{x}<br>Att Per Game=%{y}<extra></extra>\",\"legendgroup\":\"Los Angeles Angels of Anaheim\",\"line\":{\"color\":\"#00cc96\",\"dash\":\"solid\"},\"marker\":{\"symbol\":\"circle\"},\"mode\":\"lines\",\"name\":\"Los Angeles Angels of Anaheim\",\"orientation\":\"v\",\"showlegend\":true,\"x\":[\"2014\",\"2015\"],\"xaxis\":\"x\",\"y\":[38221,37195],\"yaxis\":\"y\",\"type\":\"scatter\"},{\"hovertemplate\":\"Team=Los Angeles Dodgers<br>year=%{x}<br>Att Per Game=%{y}<extra></extra>\",\"legendgroup\":\"Los Angeles Dodgers\",\"line\":{\"color\":\"#ab63fa\",\"dash\":\"solid\"},\"marker\":{\"symbol\":\"circle\"},\"mode\":\"lines\",\"name\":\"Los Angeles Dodgers\",\"orientation\":\"v\",\"showlegend\":true,\"x\":[\"2014\",\"2015\",\"2016\",\"2017\",\"2018\",\"2019\"],\"xaxis\":\"x\",\"y\":[46696,46479,45720,46492,47043,49066],\"yaxis\":\"y\",\"type\":\"scatter\"},{\"hovertemplate\":\"Team=Miami Marlins<br>year=%{x}<br>Att Per Game=%{y}<extra></extra>\",\"legendgroup\":\"Miami Marlins\",\"line\":{\"color\":\"#FFA15A\",\"dash\":\"solid\"},\"marker\":{\"symbol\":\"circle\"},\"mode\":\"lines\",\"name\":\"Miami Marlins\",\"orientation\":\"v\",\"showlegend\":true,\"x\":[\"2014\",\"2015\",\"2016\",\"2017\",\"2018\",\"2019\"],\"xaxis\":\"x\",\"y\":[21386,21633,21405,20295,10014,10016],\"yaxis\":\"y\",\"type\":\"scatter\"},{\"hovertemplate\":\"Team=Milwaukee Brewers<br>year=%{x}<br>Att Per Game=%{y}<extra></extra>\",\"legendgroup\":\"Milwaukee Brewers\",\"line\":{\"color\":\"#19d3f3\",\"dash\":\"solid\"},\"marker\":{\"symbol\":\"circle\"},\"mode\":\"lines\",\"name\":\"Milwaukee Brewers\",\"orientation\":\"v\",\"showlegend\":true,\"x\":[\"2014\",\"2015\",\"2016\",\"2017\",\"2018\",\"2019\"],\"xaxis\":\"x\",\"y\":[34536,31390,28575,31282,35196,36091],\"yaxis\":\"y\",\"type\":\"scatter\"},{\"hovertemplate\":\"Team=Minnesota Twins<br>year=%{x}<br>Att Per Game=%{y}<extra></extra>\",\"legendgroup\":\"Minnesota Twins\",\"line\":{\"color\":\"#FF6692\",\"dash\":\"solid\"},\"marker\":{\"symbol\":\"circle\"},\"mode\":\"lines\",\"name\":\"Minnesota Twins\",\"orientation\":\"v\",\"showlegend\":true,\"x\":[\"2014\",\"2015\",\"2016\",\"2017\",\"2018\",\"2019\"],\"xaxis\":\"x\",\"y\":[27785,27408,24246,25324,24188,28436],\"yaxis\":\"y\",\"type\":\"scatter\"},{\"hovertemplate\":\"Team=New York Mets<br>year=%{x}<br>Att Per Game=%{y}<extra></extra>\",\"legendgroup\":\"New York Mets\",\"line\":{\"color\":\"#B6E880\",\"dash\":\"solid\"},\"marker\":{\"symbol\":\"circle\"},\"mode\":\"lines\",\"name\":\"New York Mets\",\"orientation\":\"v\",\"showlegend\":true,\"x\":[\"2014\",\"2015\",\"2016\",\"2017\",\"2018\",\"2019\"],\"xaxis\":\"x\",\"y\":[26528,31725,34440,30378,27469,30155],\"yaxis\":\"y\",\"type\":\"scatter\"},{\"hovertemplate\":\"Team=New York Yankees<br>year=%{x}<br>Att Per Game=%{y}<extra></extra>\",\"legendgroup\":\"New York Yankees\",\"line\":{\"color\":\"#FF97FF\",\"dash\":\"solid\"},\"marker\":{\"symbol\":\"circle\"},\"mode\":\"lines\",\"name\":\"New York Yankees\",\"orientation\":\"v\",\"showlegend\":true,\"x\":[\"2014\",\"2015\",\"2016\",\"2017\",\"2018\",\"2019\"],\"xaxis\":\"x\",\"y\":[41995,39430,37820,38950,42998,40795],\"yaxis\":\"y\",\"type\":\"scatter\"},{\"hovertemplate\":\"Team=Oakland Athletics<br>year=%{x}<br>Att Per Game=%{y}<extra></extra>\",\"legendgroup\":\"Oakland Athletics\",\"line\":{\"color\":\"#FECB52\",\"dash\":\"solid\"},\"marker\":{\"symbol\":\"circle\"},\"mode\":\"lines\",\"name\":\"Oakland Athletics\",\"orientation\":\"v\",\"showlegend\":true,\"x\":[\"2014\",\"2015\",\"2016\",\"2017\",\"2018\",\"2019\"],\"xaxis\":\"x\",\"y\":[24736,21829,18784,18219,19427,20626],\"yaxis\":\"y\",\"type\":\"scatter\"},{\"hovertemplate\":\"Team=Philadelphia Phillies<br>year=%{x}<br>Att Per Game=%{y}<extra></extra>\",\"legendgroup\":\"Philadelphia Phillies\",\"line\":{\"color\":\"#636efa\",\"dash\":\"solid\"},\"marker\":{\"symbol\":\"circle\"},\"mode\":\"lines\",\"name\":\"Philadelphia Phillies\",\"orientation\":\"v\",\"showlegend\":true,\"x\":[\"2014\",\"2015\",\"2016\",\"2017\",\"2018\",\"2019\"],\"xaxis\":\"x\",\"y\":[29924,22606,23644,23523,26644,33672],\"yaxis\":\"y\",\"type\":\"scatter\"},{\"hovertemplate\":\"Team=Pittsburgh Pirates<br>year=%{x}<br>Att Per Game=%{y}<extra></extra>\",\"legendgroup\":\"Pittsburgh Pirates\",\"line\":{\"color\":\"#EF553B\",\"dash\":\"solid\"},\"marker\":{\"symbol\":\"circle\"},\"mode\":\"lines\",\"name\":\"Pittsburgh Pirates\",\"orientation\":\"v\",\"showlegend\":true,\"x\":[\"2014\",\"2015\",\"2016\",\"2017\",\"2018\",\"2019\"],\"xaxis\":\"x\",\"y\":[30155,30847,27768,23697,18316,18413],\"yaxis\":\"y\",\"type\":\"scatter\"},{\"hovertemplate\":\"Team=San Diego Padres<br>year=%{x}<br>Att Per Game=%{y}<extra></extra>\",\"legendgroup\":\"San Diego Padres\",\"line\":{\"color\":\"#00cc96\",\"dash\":\"solid\"},\"marker\":{\"symbol\":\"circle\"},\"mode\":\"lines\",\"name\":\"San Diego Padres\",\"orientation\":\"v\",\"showlegend\":true,\"x\":[\"2014\",\"2015\",\"2016\",\"2017\",\"2018\",\"2019\"],\"xaxis\":\"x\",\"y\":[27103,30367,29030,26401,26772,29585],\"yaxis\":\"y\",\"type\":\"scatter\"},{\"hovertemplate\":\"Team=Seattle Mariners<br>year=%{x}<br>Att Per Game=%{y}<extra></extra>\",\"legendgroup\":\"Seattle Mariners\",\"line\":{\"color\":\"#ab63fa\",\"dash\":\"solid\"},\"marker\":{\"symbol\":\"circle\"},\"mode\":\"lines\",\"name\":\"Seattle Mariners\",\"orientation\":\"v\",\"showlegend\":true,\"x\":[\"2014\",\"2015\",\"2016\",\"2017\",\"2018\",\"2019\"],\"xaxis\":\"x\",\"y\":[25486,27081,27999,26364,28389,22112],\"yaxis\":\"y\",\"type\":\"scatter\"},{\"hovertemplate\":\"Team=San Francisco Giants<br>year=%{x}<br>Att Per Game=%{y}<extra></extra>\",\"legendgroup\":\"San Francisco Giants\",\"line\":{\"color\":\"#FFA15A\",\"dash\":\"solid\"},\"marker\":{\"symbol\":\"circle\"},\"mode\":\"lines\",\"name\":\"San Francisco Giants\",\"orientation\":\"v\",\"showlegend\":true,\"x\":[\"2014\",\"2015\",\"2016\",\"2017\",\"2018\",\"2019\"],\"xaxis\":\"x\",\"y\":[41589,41678,41546,40786,38965,33429],\"yaxis\":\"y\",\"type\":\"scatter\"},{\"hovertemplate\":\"Team=St. Louis Cardinals<br>year=%{x}<br>Att Per Game=%{y}<extra></extra>\",\"legendgroup\":\"St. Louis Cardinals\",\"line\":{\"color\":\"#19d3f3\",\"dash\":\"solid\"},\"marker\":{\"symbol\":\"circle\"},\"mode\":\"lines\",\"name\":\"St. Louis Cardinals\",\"orientation\":\"v\",\"showlegend\":true,\"x\":[\"2014\",\"2015\",\"2016\",\"2017\",\"2018\",\"2019\"],\"xaxis\":\"x\",\"y\":[43712,43468,42525,42572,42020,42968],\"yaxis\":\"y\",\"type\":\"scatter\"},{\"hovertemplate\":\"Team=Tampa Bay Rays<br>year=%{x}<br>Att Per Game=%{y}<extra></extra>\",\"legendgroup\":\"Tampa Bay Rays\",\"line\":{\"color\":\"#FF6692\",\"dash\":\"solid\"},\"marker\":{\"symbol\":\"circle\"},\"mode\":\"lines\",\"name\":\"Tampa Bay Rays\",\"orientation\":\"v\",\"showlegend\":true,\"x\":[\"2014\",\"2015\",\"2016\",\"2017\",\"2018\",\"2019\"],\"xaxis\":\"x\",\"y\":[17858,15322,15879,15477,14259,14552],\"yaxis\":\"y\",\"type\":\"scatter\"},{\"hovertemplate\":\"Team=Texas Rangers<br>year=%{x}<br>Att Per Game=%{y}<extra></extra>\",\"legendgroup\":\"Texas Rangers\",\"line\":{\"color\":\"#B6E880\",\"dash\":\"solid\"},\"marker\":{\"symbol\":\"circle\"},\"mode\":\"lines\",\"name\":\"Texas Rangers\",\"orientation\":\"v\",\"showlegend\":true,\"x\":[\"2014\",\"2015\",\"2016\",\"2017\",\"2018\",\"2019\"],\"xaxis\":\"x\",\"y\":[33565,30764,33462,30960,26014,26333],\"yaxis\":\"y\",\"type\":\"scatter\"},{\"hovertemplate\":\"Team=Toronto Blue Jays<br>year=%{x}<br>Att Per Game=%{y}<extra></extra>\",\"legendgroup\":\"Toronto Blue Jays\",\"line\":{\"color\":\"#FF97FF\",\"dash\":\"solid\"},\"marker\":{\"symbol\":\"circle\"},\"mode\":\"lines\",\"name\":\"Toronto Blue Jays\",\"orientation\":\"v\",\"showlegend\":true,\"x\":[\"2014\",\"2015\",\"2016\",\"2017\",\"2018\",\"2019\"],\"xaxis\":\"x\",\"y\":[29327,34505,41878,39554,28707,21607],\"yaxis\":\"y\",\"type\":\"scatter\"},{\"hovertemplate\":\"Team=Washington Nationals<br>year=%{x}<br>Att Per Game=%{y}<extra></extra>\",\"legendgroup\":\"Washington Nationals\",\"line\":{\"color\":\"#FECB52\",\"dash\":\"solid\"},\"marker\":{\"symbol\":\"circle\"},\"mode\":\"lines\",\"name\":\"Washington Nationals\",\"orientation\":\"v\",\"showlegend\":true,\"x\":[\"2014\",\"2015\",\"2016\",\"2017\",\"2018\",\"2019\"],\"xaxis\":\"x\",\"y\":[31844,32344,30641,31173,31230,27899],\"yaxis\":\"y\",\"type\":\"scatter\"},{\"hovertemplate\":\"Team=Los Angeles Angels<br>year=%{x}<br>Att Per Game=%{y}<extra></extra>\",\"legendgroup\":\"Los Angeles Angels\",\"line\":{\"color\":\"#636efa\",\"dash\":\"solid\"},\"marker\":{\"symbol\":\"circle\"},\"mode\":\"lines\",\"name\":\"Los Angeles Angels\",\"orientation\":\"v\",\"showlegend\":true,\"x\":[\"2016\",\"2017\",\"2018\",\"2019\"],\"xaxis\":\"x\",\"y\":[37236,37279,37287,37321],\"yaxis\":\"y\",\"type\":\"scatter\"}],                        {\"template\":{\"data\":{\"histogram2dcontour\":[{\"type\":\"histogram2dcontour\",\"colorbar\":{\"outlinewidth\":0,\"ticks\":\"\"},\"colorscale\":[[0.0,\"#0d0887\"],[0.1111111111111111,\"#46039f\"],[0.2222222222222222,\"#7201a8\"],[0.3333333333333333,\"#9c179e\"],[0.4444444444444444,\"#bd3786\"],[0.5555555555555556,\"#d8576b\"],[0.6666666666666666,\"#ed7953\"],[0.7777777777777778,\"#fb9f3a\"],[0.8888888888888888,\"#fdca26\"],[1.0,\"#f0f921\"]]}],\"choropleth\":[{\"type\":\"choropleth\",\"colorbar\":{\"outlinewidth\":0,\"ticks\":\"\"}}],\"histogram2d\":[{\"type\":\"histogram2d\",\"colorbar\":{\"outlinewidth\":0,\"ticks\":\"\"},\"colorscale\":[[0.0,\"#0d0887\"],[0.1111111111111111,\"#46039f\"],[0.2222222222222222,\"#7201a8\"],[0.3333333333333333,\"#9c179e\"],[0.4444444444444444,\"#bd3786\"],[0.5555555555555556,\"#d8576b\"],[0.6666666666666666,\"#ed7953\"],[0.7777777777777778,\"#fb9f3a\"],[0.8888888888888888,\"#fdca26\"],[1.0,\"#f0f921\"]]}],\"heatmap\":[{\"type\":\"heatmap\",\"colorbar\":{\"outlinewidth\":0,\"ticks\":\"\"},\"colorscale\":[[0.0,\"#0d0887\"],[0.1111111111111111,\"#46039f\"],[0.2222222222222222,\"#7201a8\"],[0.3333333333333333,\"#9c179e\"],[0.4444444444444444,\"#bd3786\"],[0.5555555555555556,\"#d8576b\"],[0.6666666666666666,\"#ed7953\"],[0.7777777777777778,\"#fb9f3a\"],[0.8888888888888888,\"#fdca26\"],[1.0,\"#f0f921\"]]}],\"heatmapgl\":[{\"type\":\"heatmapgl\",\"colorbar\":{\"outlinewidth\":0,\"ticks\":\"\"},\"colorscale\":[[0.0,\"#0d0887\"],[0.1111111111111111,\"#46039f\"],[0.2222222222222222,\"#7201a8\"],[0.3333333333333333,\"#9c179e\"],[0.4444444444444444,\"#bd3786\"],[0.5555555555555556,\"#d8576b\"],[0.6666666666666666,\"#ed7953\"],[0.7777777777777778,\"#fb9f3a\"],[0.8888888888888888,\"#fdca26\"],[1.0,\"#f0f921\"]]}],\"contourcarpet\":[{\"type\":\"contourcarpet\",\"colorbar\":{\"outlinewidth\":0,\"ticks\":\"\"}}],\"contour\":[{\"type\":\"contour\",\"colorbar\":{\"outlinewidth\":0,\"ticks\":\"\"},\"colorscale\":[[0.0,\"#0d0887\"],[0.1111111111111111,\"#46039f\"],[0.2222222222222222,\"#7201a8\"],[0.3333333333333333,\"#9c179e\"],[0.4444444444444444,\"#bd3786\"],[0.5555555555555556,\"#d8576b\"],[0.6666666666666666,\"#ed7953\"],[0.7777777777777778,\"#fb9f3a\"],[0.8888888888888888,\"#fdca26\"],[1.0,\"#f0f921\"]]}],\"surface\":[{\"type\":\"surface\",\"colorbar\":{\"outlinewidth\":0,\"ticks\":\"\"},\"colorscale\":[[0.0,\"#0d0887\"],[0.1111111111111111,\"#46039f\"],[0.2222222222222222,\"#7201a8\"],[0.3333333333333333,\"#9c179e\"],[0.4444444444444444,\"#bd3786\"],[0.5555555555555556,\"#d8576b\"],[0.6666666666666666,\"#ed7953\"],[0.7777777777777778,\"#fb9f3a\"],[0.8888888888888888,\"#fdca26\"],[1.0,\"#f0f921\"]]}],\"mesh3d\":[{\"type\":\"mesh3d\",\"colorbar\":{\"outlinewidth\":0,\"ticks\":\"\"}}],\"scatter\":[{\"fillpattern\":{\"fillmode\":\"overlay\",\"size\":10,\"solidity\":0.2},\"type\":\"scatter\"}],\"parcoords\":[{\"type\":\"parcoords\",\"line\":{\"colorbar\":{\"outlinewidth\":0,\"ticks\":\"\"}}}],\"scatterpolargl\":[{\"type\":\"scatterpolargl\",\"marker\":{\"colorbar\":{\"outlinewidth\":0,\"ticks\":\"\"}}}],\"bar\":[{\"error_x\":{\"color\":\"#2a3f5f\"},\"error_y\":{\"color\":\"#2a3f5f\"},\"marker\":{\"line\":{\"color\":\"#E5ECF6\",\"width\":0.5},\"pattern\":{\"fillmode\":\"overlay\",\"size\":10,\"solidity\":0.2}},\"type\":\"bar\"}],\"scattergeo\":[{\"type\":\"scattergeo\",\"marker\":{\"colorbar\":{\"outlinewidth\":0,\"ticks\":\"\"}}}],\"scatterpolar\":[{\"type\":\"scatterpolar\",\"marker\":{\"colorbar\":{\"outlinewidth\":0,\"ticks\":\"\"}}}],\"histogram\":[{\"marker\":{\"pattern\":{\"fillmode\":\"overlay\",\"size\":10,\"solidity\":0.2}},\"type\":\"histogram\"}],\"scattergl\":[{\"type\":\"scattergl\",\"marker\":{\"colorbar\":{\"outlinewidth\":0,\"ticks\":\"\"}}}],\"scatter3d\":[{\"type\":\"scatter3d\",\"line\":{\"colorbar\":{\"outlinewidth\":0,\"ticks\":\"\"}},\"marker\":{\"colorbar\":{\"outlinewidth\":0,\"ticks\":\"\"}}}],\"scattermapbox\":[{\"type\":\"scattermapbox\",\"marker\":{\"colorbar\":{\"outlinewidth\":0,\"ticks\":\"\"}}}],\"scatterternary\":[{\"type\":\"scatterternary\",\"marker\":{\"colorbar\":{\"outlinewidth\":0,\"ticks\":\"\"}}}],\"scattercarpet\":[{\"type\":\"scattercarpet\",\"marker\":{\"colorbar\":{\"outlinewidth\":0,\"ticks\":\"\"}}}],\"carpet\":[{\"aaxis\":{\"endlinecolor\":\"#2a3f5f\",\"gridcolor\":\"white\",\"linecolor\":\"white\",\"minorgridcolor\":\"white\",\"startlinecolor\":\"#2a3f5f\"},\"baxis\":{\"endlinecolor\":\"#2a3f5f\",\"gridcolor\":\"white\",\"linecolor\":\"white\",\"minorgridcolor\":\"white\",\"startlinecolor\":\"#2a3f5f\"},\"type\":\"carpet\"}],\"table\":[{\"cells\":{\"fill\":{\"color\":\"#EBF0F8\"},\"line\":{\"color\":\"white\"}},\"header\":{\"fill\":{\"color\":\"#C8D4E3\"},\"line\":{\"color\":\"white\"}},\"type\":\"table\"}],\"barpolar\":[{\"marker\":{\"line\":{\"color\":\"#E5ECF6\",\"width\":0.5},\"pattern\":{\"fillmode\":\"overlay\",\"size\":10,\"solidity\":0.2}},\"type\":\"barpolar\"}],\"pie\":[{\"automargin\":true,\"type\":\"pie\"}]},\"layout\":{\"autotypenumbers\":\"strict\",\"colorway\":[\"#636efa\",\"#EF553B\",\"#00cc96\",\"#ab63fa\",\"#FFA15A\",\"#19d3f3\",\"#FF6692\",\"#B6E880\",\"#FF97FF\",\"#FECB52\"],\"font\":{\"color\":\"#2a3f5f\"},\"hovermode\":\"closest\",\"hoverlabel\":{\"align\":\"left\"},\"paper_bgcolor\":\"white\",\"plot_bgcolor\":\"#E5ECF6\",\"polar\":{\"bgcolor\":\"#E5ECF6\",\"angularaxis\":{\"gridcolor\":\"white\",\"linecolor\":\"white\",\"ticks\":\"\"},\"radialaxis\":{\"gridcolor\":\"white\",\"linecolor\":\"white\",\"ticks\":\"\"}},\"ternary\":{\"bgcolor\":\"#E5ECF6\",\"aaxis\":{\"gridcolor\":\"white\",\"linecolor\":\"white\",\"ticks\":\"\"},\"baxis\":{\"gridcolor\":\"white\",\"linecolor\":\"white\",\"ticks\":\"\"},\"caxis\":{\"gridcolor\":\"white\",\"linecolor\":\"white\",\"ticks\":\"\"}},\"coloraxis\":{\"colorbar\":{\"outlinewidth\":0,\"ticks\":\"\"}},\"colorscale\":{\"sequential\":[[0.0,\"#0d0887\"],[0.1111111111111111,\"#46039f\"],[0.2222222222222222,\"#7201a8\"],[0.3333333333333333,\"#9c179e\"],[0.4444444444444444,\"#bd3786\"],[0.5555555555555556,\"#d8576b\"],[0.6666666666666666,\"#ed7953\"],[0.7777777777777778,\"#fb9f3a\"],[0.8888888888888888,\"#fdca26\"],[1.0,\"#f0f921\"]],\"sequentialminus\":[[0.0,\"#0d0887\"],[0.1111111111111111,\"#46039f\"],[0.2222222222222222,\"#7201a8\"],[0.3333333333333333,\"#9c179e\"],[0.4444444444444444,\"#bd3786\"],[0.5555555555555556,\"#d8576b\"],[0.6666666666666666,\"#ed7953\"],[0.7777777777777778,\"#fb9f3a\"],[0.8888888888888888,\"#fdca26\"],[1.0,\"#f0f921\"]],\"diverging\":[[0,\"#8e0152\"],[0.1,\"#c51b7d\"],[0.2,\"#de77ae\"],[0.3,\"#f1b6da\"],[0.4,\"#fde0ef\"],[0.5,\"#f7f7f7\"],[0.6,\"#e6f5d0\"],[0.7,\"#b8e186\"],[0.8,\"#7fbc41\"],[0.9,\"#4d9221\"],[1,\"#276419\"]]},\"xaxis\":{\"gridcolor\":\"white\",\"linecolor\":\"white\",\"ticks\":\"\",\"title\":{\"standoff\":15},\"zerolinecolor\":\"white\",\"automargin\":true,\"zerolinewidth\":2},\"yaxis\":{\"gridcolor\":\"white\",\"linecolor\":\"white\",\"ticks\":\"\",\"title\":{\"standoff\":15},\"zerolinecolor\":\"white\",\"automargin\":true,\"zerolinewidth\":2},\"scene\":{\"xaxis\":{\"backgroundcolor\":\"#E5ECF6\",\"gridcolor\":\"white\",\"linecolor\":\"white\",\"showbackground\":true,\"ticks\":\"\",\"zerolinecolor\":\"white\",\"gridwidth\":2},\"yaxis\":{\"backgroundcolor\":\"#E5ECF6\",\"gridcolor\":\"white\",\"linecolor\":\"white\",\"showbackground\":true,\"ticks\":\"\",\"zerolinecolor\":\"white\",\"gridwidth\":2},\"zaxis\":{\"backgroundcolor\":\"#E5ECF6\",\"gridcolor\":\"white\",\"linecolor\":\"white\",\"showbackground\":true,\"ticks\":\"\",\"zerolinecolor\":\"white\",\"gridwidth\":2}},\"shapedefaults\":{\"line\":{\"color\":\"#2a3f5f\"}},\"annotationdefaults\":{\"arrowcolor\":\"#2a3f5f\",\"arrowhead\":0,\"arrowwidth\":1},\"geo\":{\"bgcolor\":\"white\",\"landcolor\":\"#E5ECF6\",\"subunitcolor\":\"white\",\"showland\":true,\"showlakes\":true,\"lakecolor\":\"white\"},\"title\":{\"x\":0.05},\"mapbox\":{\"style\":\"light\"}}},\"xaxis\":{\"anchor\":\"y\",\"domain\":[0.0,1.0],\"title\":{\"text\":\"year\"}},\"yaxis\":{\"anchor\":\"x\",\"domain\":[0.0,1.0],\"title\":{\"text\":\"Att Per Game\"}},\"legend\":{\"title\":{\"text\":\"Team\"},\"tracegroupgap\":0},\"title\":{\"text\":\"MLB Attendance by Year for each Team\"}},                        {\"responsive\": true}                    ).then(function(){\n",
       "                            \n",
       "var gd = document.getElementById('a58904ce-e1c8-4fea-9cbe-30e621375576');\n",
       "var x = new MutationObserver(function (mutations, observer) {{\n",
       "        var display = window.getComputedStyle(gd).display;\n",
       "        if (!display || display === 'none') {{\n",
       "            console.log([gd, 'removed!']);\n",
       "            Plotly.purge(gd);\n",
       "            observer.disconnect();\n",
       "        }}\n",
       "}});\n",
       "\n",
       "// Listen for the removal of the full notebook cells\n",
       "var notebookContainer = gd.closest('#notebook-container');\n",
       "if (notebookContainer) {{\n",
       "    x.observe(notebookContainer, {childList: true});\n",
       "}}\n",
       "\n",
       "// Listen for the clearing of the current output cell\n",
       "var outputEl = gd.closest('.output');\n",
       "if (outputEl) {{\n",
       "    x.observe(outputEl, {childList: true});\n",
       "}}\n",
       "\n",
       "                        })                };                });            </script>        </div>"
      ]
     },
     "metadata": {},
     "output_type": "display_data"
    }
   ],
   "source": [
    "# Plot MLB Attendance by Team by Year\n",
    "fig = px.line(mlb_att, x='year', y='Att Per Game', color='Team', title='MLB Attendance by Year for each Team')\n",
    "fig.show()"
   ]
  },
  {
   "cell_type": "markdown",
   "id": "05dfea3a",
   "metadata": {},
   "source": [
    "#### Notes on Plot Above\n",
    "* Lowest attendance per game are typically (between 2014-2019)\n",
    "    * Miami Marlins\n",
    "    * Tampa Bay Rays\n",
    "    * Cleveland Guardians/Indians\n",
    "    * Chicago White Sox\n",
    "    * Oakland Athletics\n",
    "    * Baltimore Orioles\n",
    "    * Detroit Tigers"
   ]
  },
  {
   "cell_type": "code",
   "execution_count": 165,
   "id": "26e33c08",
   "metadata": {
    "scrolled": true
   },
   "outputs": [
    {
     "data": {
      "text/html": [
       "<div>\n",
       "<style scoped>\n",
       "    .dataframe tbody tr th:only-of-type {\n",
       "        vertical-align: middle;\n",
       "    }\n",
       "\n",
       "    .dataframe tbody tr th {\n",
       "        vertical-align: top;\n",
       "    }\n",
       "\n",
       "    .dataframe thead th {\n",
       "        text-align: right;\n",
       "    }\n",
       "</style>\n",
       "<table border=\"1\" class=\"dataframe\">\n",
       "  <thead>\n",
       "    <tr style=\"text-align: right;\">\n",
       "      <th></th>\n",
       "      <th>year</th>\n",
       "      <th>Team</th>\n",
       "      <th>Att Per Game</th>\n",
       "    </tr>\n",
       "  </thead>\n",
       "  <tbody>\n",
       "    <tr>\n",
       "      <th>1</th>\n",
       "      <td>2014</td>\n",
       "      <td>Charlotte Knights</td>\n",
       "      <td>9552.0</td>\n",
       "    </tr>\n",
       "    <tr>\n",
       "      <th>1</th>\n",
       "      <td>2015</td>\n",
       "      <td>Charlotte Knights</td>\n",
       "      <td>9297.0</td>\n",
       "    </tr>\n",
       "    <tr>\n",
       "      <th>1</th>\n",
       "      <td>2016</td>\n",
       "      <td>Charlotte Knights</td>\n",
       "      <td>8725.0</td>\n",
       "    </tr>\n",
       "    <tr>\n",
       "      <th>1</th>\n",
       "      <td>2017</td>\n",
       "      <td>Charlotte Knights</td>\n",
       "      <td>8852.0</td>\n",
       "    </tr>\n",
       "    <tr>\n",
       "      <th>1</th>\n",
       "      <td>2018</td>\n",
       "      <td>Charlotte Knights</td>\n",
       "      <td>8916.0</td>\n",
       "    </tr>\n",
       "  </tbody>\n",
       "</table>\n",
       "</div>"
      ],
      "text/plain": [
       "   year               Team  Att Per Game\n",
       "1  2014  Charlotte Knights        9552.0\n",
       "1  2015  Charlotte Knights        9297.0\n",
       "1  2016  Charlotte Knights        8725.0\n",
       "1  2017  Charlotte Knights        8852.0\n",
       "1  2018  Charlotte Knights        8916.0"
      ]
     },
     "execution_count": 165,
     "metadata": {},
     "output_type": "execute_result"
    }
   ],
   "source": [
    "# Lowest Attendance Teams and Charlotte FC Attendance by Year\n",
    "low_teams = ['Miami Marlins', 'Tampa Bay Rays', 'Oakland Athletics', 'Baltimore Orioles', 'Pittsburg Pirates']\n",
    "low_mlb = mlb_att.loc[mlb_att['Team'].isin(low_teams)]\n",
    "low_mlb = low_mlb[['year', 'Team', 'Att Per Game']]\n",
    "clt = clt_attendance[['year', 'teamname', 'avg att']]\n",
    "clt = clt.rename(columns={'teamname': 'Team', 'avg att': 'Att Per Game'})\n",
    "clt.head()"
   ]
  },
  {
   "cell_type": "code",
   "execution_count": 166,
   "id": "027760da",
   "metadata": {
    "scrolled": true
   },
   "outputs": [
    {
     "data": {
      "text/html": [
       "<div>\n",
       "<style scoped>\n",
       "    .dataframe tbody tr th:only-of-type {\n",
       "        vertical-align: middle;\n",
       "    }\n",
       "\n",
       "    .dataframe tbody tr th {\n",
       "        vertical-align: top;\n",
       "    }\n",
       "\n",
       "    .dataframe thead th {\n",
       "        text-align: right;\n",
       "    }\n",
       "</style>\n",
       "<table border=\"1\" class=\"dataframe\">\n",
       "  <thead>\n",
       "    <tr style=\"text-align: right;\">\n",
       "      <th></th>\n",
       "      <th>year</th>\n",
       "      <th>Team</th>\n",
       "      <th>Att Per Game</th>\n",
       "    </tr>\n",
       "  </thead>\n",
       "  <tbody>\n",
       "    <tr>\n",
       "      <th>2</th>\n",
       "      <td>2014</td>\n",
       "      <td>Baltimore Orioles</td>\n",
       "      <td>30426</td>\n",
       "    </tr>\n",
       "    <tr>\n",
       "      <th>14</th>\n",
       "      <td>2014</td>\n",
       "      <td>Miami Marlins</td>\n",
       "      <td>21386</td>\n",
       "    </tr>\n",
       "    <tr>\n",
       "      <th>19</th>\n",
       "      <td>2014</td>\n",
       "      <td>Oakland Athletics</td>\n",
       "      <td>24736</td>\n",
       "    </tr>\n",
       "    <tr>\n",
       "      <th>26</th>\n",
       "      <td>2014</td>\n",
       "      <td>Tampa Bay Rays</td>\n",
       "      <td>17858</td>\n",
       "    </tr>\n",
       "    <tr>\n",
       "      <th>2</th>\n",
       "      <td>2015</td>\n",
       "      <td>Baltimore Orioles</td>\n",
       "      <td>29246</td>\n",
       "    </tr>\n",
       "  </tbody>\n",
       "</table>\n",
       "</div>"
      ],
      "text/plain": [
       "    year               Team  Att Per Game\n",
       "2   2014  Baltimore Orioles         30426\n",
       "14  2014      Miami Marlins         21386\n",
       "19  2014  Oakland Athletics         24736\n",
       "26  2014     Tampa Bay Rays         17858\n",
       "2   2015  Baltimore Orioles         29246"
      ]
     },
     "execution_count": 166,
     "metadata": {},
     "output_type": "execute_result"
    }
   ],
   "source": [
    "low_mlb.head()"
   ]
  },
  {
   "cell_type": "code",
   "execution_count": 167,
   "id": "69eb4d49",
   "metadata": {},
   "outputs": [
    {
     "data": {
      "text/html": [
       "<div>\n",
       "<style scoped>\n",
       "    .dataframe tbody tr th:only-of-type {\n",
       "        vertical-align: middle;\n",
       "    }\n",
       "\n",
       "    .dataframe tbody tr th {\n",
       "        vertical-align: top;\n",
       "    }\n",
       "\n",
       "    .dataframe thead th {\n",
       "        text-align: right;\n",
       "    }\n",
       "</style>\n",
       "<table border=\"1\" class=\"dataframe\">\n",
       "  <thead>\n",
       "    <tr style=\"text-align: right;\">\n",
       "      <th></th>\n",
       "      <th>year</th>\n",
       "      <th>Team</th>\n",
       "      <th>Att Per Game</th>\n",
       "    </tr>\n",
       "  </thead>\n",
       "  <tbody>\n",
       "    <tr>\n",
       "      <th>2</th>\n",
       "      <td>2014</td>\n",
       "      <td>Baltimore Orioles</td>\n",
       "      <td>30426.0</td>\n",
       "    </tr>\n",
       "    <tr>\n",
       "      <th>14</th>\n",
       "      <td>2014</td>\n",
       "      <td>Miami Marlins</td>\n",
       "      <td>21386.0</td>\n",
       "    </tr>\n",
       "    <tr>\n",
       "      <th>19</th>\n",
       "      <td>2014</td>\n",
       "      <td>Oakland Athletics</td>\n",
       "      <td>24736.0</td>\n",
       "    </tr>\n",
       "    <tr>\n",
       "      <th>26</th>\n",
       "      <td>2014</td>\n",
       "      <td>Tampa Bay Rays</td>\n",
       "      <td>17858.0</td>\n",
       "    </tr>\n",
       "    <tr>\n",
       "      <th>2</th>\n",
       "      <td>2015</td>\n",
       "      <td>Baltimore Orioles</td>\n",
       "      <td>29246.0</td>\n",
       "    </tr>\n",
       "  </tbody>\n",
       "</table>\n",
       "</div>"
      ],
      "text/plain": [
       "    year               Team  Att Per Game\n",
       "2   2014  Baltimore Orioles       30426.0\n",
       "14  2014      Miami Marlins       21386.0\n",
       "19  2014  Oakland Athletics       24736.0\n",
       "26  2014     Tampa Bay Rays       17858.0\n",
       "2   2015  Baltimore Orioles       29246.0"
      ]
     },
     "execution_count": 167,
     "metadata": {},
     "output_type": "execute_result"
    }
   ],
   "source": [
    "att_comp = pd.concat([low_mlb, clt])\n",
    "att_comp.head()"
   ]
  },
  {
   "cell_type": "code",
   "execution_count": 168,
   "id": "cd89a89d",
   "metadata": {},
   "outputs": [
    {
     "data": {
      "application/vnd.plotly.v1+json": {
       "config": {
        "plotlyServerURL": "https://plot.ly"
       },
       "data": [
        {
         "hovertemplate": "Team=Baltimore Orioles<br>year=%{x}<br>Att Per Game=%{y}<extra></extra>",
         "legendgroup": "Baltimore Orioles",
         "line": {
          "color": "#636efa",
          "dash": "solid"
         },
         "marker": {
          "symbol": "circle"
         },
         "mode": "lines",
         "name": "Baltimore Orioles",
         "orientation": "v",
         "showlegend": true,
         "type": "scatter",
         "x": [
          "2014",
          "2015",
          "2016",
          "2017",
          "2018",
          "2019"
         ],
         "xaxis": "x",
         "y": [
          30426,
          29246,
          26819,
          25042,
          19311,
          16146
         ],
         "yaxis": "y"
        },
        {
         "hovertemplate": "Team=Miami Marlins<br>year=%{x}<br>Att Per Game=%{y}<extra></extra>",
         "legendgroup": "Miami Marlins",
         "line": {
          "color": "#EF553B",
          "dash": "solid"
         },
         "marker": {
          "symbol": "circle"
         },
         "mode": "lines",
         "name": "Miami Marlins",
         "orientation": "v",
         "showlegend": true,
         "type": "scatter",
         "x": [
          "2014",
          "2015",
          "2016",
          "2017",
          "2018",
          "2019"
         ],
         "xaxis": "x",
         "y": [
          21386,
          21633,
          21405,
          20295,
          10014,
          10016
         ],
         "yaxis": "y"
        },
        {
         "hovertemplate": "Team=Oakland Athletics<br>year=%{x}<br>Att Per Game=%{y}<extra></extra>",
         "legendgroup": "Oakland Athletics",
         "line": {
          "color": "#00cc96",
          "dash": "solid"
         },
         "marker": {
          "symbol": "circle"
         },
         "mode": "lines",
         "name": "Oakland Athletics",
         "orientation": "v",
         "showlegend": true,
         "type": "scatter",
         "x": [
          "2014",
          "2015",
          "2016",
          "2017",
          "2018",
          "2019"
         ],
         "xaxis": "x",
         "y": [
          24736,
          21829,
          18784,
          18219,
          19427,
          20626
         ],
         "yaxis": "y"
        },
        {
         "hovertemplate": "Team=Tampa Bay Rays<br>year=%{x}<br>Att Per Game=%{y}<extra></extra>",
         "legendgroup": "Tampa Bay Rays",
         "line": {
          "color": "#ab63fa",
          "dash": "solid"
         },
         "marker": {
          "symbol": "circle"
         },
         "mode": "lines",
         "name": "Tampa Bay Rays",
         "orientation": "v",
         "showlegend": true,
         "type": "scatter",
         "x": [
          "2014",
          "2015",
          "2016",
          "2017",
          "2018",
          "2019"
         ],
         "xaxis": "x",
         "y": [
          17858,
          15322,
          15879,
          15477,
          14259,
          14552
         ],
         "yaxis": "y"
        },
        {
         "hovertemplate": "Team=Charlotte Knights<br>year=%{x}<br>Att Per Game=%{y}<extra></extra>",
         "legendgroup": "Charlotte Knights",
         "line": {
          "color": "#FFA15A",
          "dash": "solid"
         },
         "marker": {
          "symbol": "circle"
         },
         "mode": "lines",
         "name": "Charlotte Knights",
         "orientation": "v",
         "showlegend": true,
         "type": "scatter",
         "x": [
          "2014",
          "2015",
          "2016",
          "2017",
          "2018",
          "2019"
         ],
         "xaxis": "x",
         "y": [
          9552,
          9297,
          8725,
          8852,
          8916,
          8360
         ],
         "yaxis": "y"
        }
       ],
       "layout": {
        "legend": {
         "title": {
          "text": "Team"
         },
         "tracegroupgap": 0
        },
        "template": {
         "data": {
          "bar": [
           {
            "error_x": {
             "color": "#2a3f5f"
            },
            "error_y": {
             "color": "#2a3f5f"
            },
            "marker": {
             "line": {
              "color": "#E5ECF6",
              "width": 0.5
             },
             "pattern": {
              "fillmode": "overlay",
              "size": 10,
              "solidity": 0.2
             }
            },
            "type": "bar"
           }
          ],
          "barpolar": [
           {
            "marker": {
             "line": {
              "color": "#E5ECF6",
              "width": 0.5
             },
             "pattern": {
              "fillmode": "overlay",
              "size": 10,
              "solidity": 0.2
             }
            },
            "type": "barpolar"
           }
          ],
          "carpet": [
           {
            "aaxis": {
             "endlinecolor": "#2a3f5f",
             "gridcolor": "white",
             "linecolor": "white",
             "minorgridcolor": "white",
             "startlinecolor": "#2a3f5f"
            },
            "baxis": {
             "endlinecolor": "#2a3f5f",
             "gridcolor": "white",
             "linecolor": "white",
             "minorgridcolor": "white",
             "startlinecolor": "#2a3f5f"
            },
            "type": "carpet"
           }
          ],
          "choropleth": [
           {
            "colorbar": {
             "outlinewidth": 0,
             "ticks": ""
            },
            "type": "choropleth"
           }
          ],
          "contour": [
           {
            "colorbar": {
             "outlinewidth": 0,
             "ticks": ""
            },
            "colorscale": [
             [
              0,
              "#0d0887"
             ],
             [
              0.1111111111111111,
              "#46039f"
             ],
             [
              0.2222222222222222,
              "#7201a8"
             ],
             [
              0.3333333333333333,
              "#9c179e"
             ],
             [
              0.4444444444444444,
              "#bd3786"
             ],
             [
              0.5555555555555556,
              "#d8576b"
             ],
             [
              0.6666666666666666,
              "#ed7953"
             ],
             [
              0.7777777777777778,
              "#fb9f3a"
             ],
             [
              0.8888888888888888,
              "#fdca26"
             ],
             [
              1,
              "#f0f921"
             ]
            ],
            "type": "contour"
           }
          ],
          "contourcarpet": [
           {
            "colorbar": {
             "outlinewidth": 0,
             "ticks": ""
            },
            "type": "contourcarpet"
           }
          ],
          "heatmap": [
           {
            "colorbar": {
             "outlinewidth": 0,
             "ticks": ""
            },
            "colorscale": [
             [
              0,
              "#0d0887"
             ],
             [
              0.1111111111111111,
              "#46039f"
             ],
             [
              0.2222222222222222,
              "#7201a8"
             ],
             [
              0.3333333333333333,
              "#9c179e"
             ],
             [
              0.4444444444444444,
              "#bd3786"
             ],
             [
              0.5555555555555556,
              "#d8576b"
             ],
             [
              0.6666666666666666,
              "#ed7953"
             ],
             [
              0.7777777777777778,
              "#fb9f3a"
             ],
             [
              0.8888888888888888,
              "#fdca26"
             ],
             [
              1,
              "#f0f921"
             ]
            ],
            "type": "heatmap"
           }
          ],
          "heatmapgl": [
           {
            "colorbar": {
             "outlinewidth": 0,
             "ticks": ""
            },
            "colorscale": [
             [
              0,
              "#0d0887"
             ],
             [
              0.1111111111111111,
              "#46039f"
             ],
             [
              0.2222222222222222,
              "#7201a8"
             ],
             [
              0.3333333333333333,
              "#9c179e"
             ],
             [
              0.4444444444444444,
              "#bd3786"
             ],
             [
              0.5555555555555556,
              "#d8576b"
             ],
             [
              0.6666666666666666,
              "#ed7953"
             ],
             [
              0.7777777777777778,
              "#fb9f3a"
             ],
             [
              0.8888888888888888,
              "#fdca26"
             ],
             [
              1,
              "#f0f921"
             ]
            ],
            "type": "heatmapgl"
           }
          ],
          "histogram": [
           {
            "marker": {
             "pattern": {
              "fillmode": "overlay",
              "size": 10,
              "solidity": 0.2
             }
            },
            "type": "histogram"
           }
          ],
          "histogram2d": [
           {
            "colorbar": {
             "outlinewidth": 0,
             "ticks": ""
            },
            "colorscale": [
             [
              0,
              "#0d0887"
             ],
             [
              0.1111111111111111,
              "#46039f"
             ],
             [
              0.2222222222222222,
              "#7201a8"
             ],
             [
              0.3333333333333333,
              "#9c179e"
             ],
             [
              0.4444444444444444,
              "#bd3786"
             ],
             [
              0.5555555555555556,
              "#d8576b"
             ],
             [
              0.6666666666666666,
              "#ed7953"
             ],
             [
              0.7777777777777778,
              "#fb9f3a"
             ],
             [
              0.8888888888888888,
              "#fdca26"
             ],
             [
              1,
              "#f0f921"
             ]
            ],
            "type": "histogram2d"
           }
          ],
          "histogram2dcontour": [
           {
            "colorbar": {
             "outlinewidth": 0,
             "ticks": ""
            },
            "colorscale": [
             [
              0,
              "#0d0887"
             ],
             [
              0.1111111111111111,
              "#46039f"
             ],
             [
              0.2222222222222222,
              "#7201a8"
             ],
             [
              0.3333333333333333,
              "#9c179e"
             ],
             [
              0.4444444444444444,
              "#bd3786"
             ],
             [
              0.5555555555555556,
              "#d8576b"
             ],
             [
              0.6666666666666666,
              "#ed7953"
             ],
             [
              0.7777777777777778,
              "#fb9f3a"
             ],
             [
              0.8888888888888888,
              "#fdca26"
             ],
             [
              1,
              "#f0f921"
             ]
            ],
            "type": "histogram2dcontour"
           }
          ],
          "mesh3d": [
           {
            "colorbar": {
             "outlinewidth": 0,
             "ticks": ""
            },
            "type": "mesh3d"
           }
          ],
          "parcoords": [
           {
            "line": {
             "colorbar": {
              "outlinewidth": 0,
              "ticks": ""
             }
            },
            "type": "parcoords"
           }
          ],
          "pie": [
           {
            "automargin": true,
            "type": "pie"
           }
          ],
          "scatter": [
           {
            "fillpattern": {
             "fillmode": "overlay",
             "size": 10,
             "solidity": 0.2
            },
            "type": "scatter"
           }
          ],
          "scatter3d": [
           {
            "line": {
             "colorbar": {
              "outlinewidth": 0,
              "ticks": ""
             }
            },
            "marker": {
             "colorbar": {
              "outlinewidth": 0,
              "ticks": ""
             }
            },
            "type": "scatter3d"
           }
          ],
          "scattercarpet": [
           {
            "marker": {
             "colorbar": {
              "outlinewidth": 0,
              "ticks": ""
             }
            },
            "type": "scattercarpet"
           }
          ],
          "scattergeo": [
           {
            "marker": {
             "colorbar": {
              "outlinewidth": 0,
              "ticks": ""
             }
            },
            "type": "scattergeo"
           }
          ],
          "scattergl": [
           {
            "marker": {
             "colorbar": {
              "outlinewidth": 0,
              "ticks": ""
             }
            },
            "type": "scattergl"
           }
          ],
          "scattermapbox": [
           {
            "marker": {
             "colorbar": {
              "outlinewidth": 0,
              "ticks": ""
             }
            },
            "type": "scattermapbox"
           }
          ],
          "scatterpolar": [
           {
            "marker": {
             "colorbar": {
              "outlinewidth": 0,
              "ticks": ""
             }
            },
            "type": "scatterpolar"
           }
          ],
          "scatterpolargl": [
           {
            "marker": {
             "colorbar": {
              "outlinewidth": 0,
              "ticks": ""
             }
            },
            "type": "scatterpolargl"
           }
          ],
          "scatterternary": [
           {
            "marker": {
             "colorbar": {
              "outlinewidth": 0,
              "ticks": ""
             }
            },
            "type": "scatterternary"
           }
          ],
          "surface": [
           {
            "colorbar": {
             "outlinewidth": 0,
             "ticks": ""
            },
            "colorscale": [
             [
              0,
              "#0d0887"
             ],
             [
              0.1111111111111111,
              "#46039f"
             ],
             [
              0.2222222222222222,
              "#7201a8"
             ],
             [
              0.3333333333333333,
              "#9c179e"
             ],
             [
              0.4444444444444444,
              "#bd3786"
             ],
             [
              0.5555555555555556,
              "#d8576b"
             ],
             [
              0.6666666666666666,
              "#ed7953"
             ],
             [
              0.7777777777777778,
              "#fb9f3a"
             ],
             [
              0.8888888888888888,
              "#fdca26"
             ],
             [
              1,
              "#f0f921"
             ]
            ],
            "type": "surface"
           }
          ],
          "table": [
           {
            "cells": {
             "fill": {
              "color": "#EBF0F8"
             },
             "line": {
              "color": "white"
             }
            },
            "header": {
             "fill": {
              "color": "#C8D4E3"
             },
             "line": {
              "color": "white"
             }
            },
            "type": "table"
           }
          ]
         },
         "layout": {
          "annotationdefaults": {
           "arrowcolor": "#2a3f5f",
           "arrowhead": 0,
           "arrowwidth": 1
          },
          "autotypenumbers": "strict",
          "coloraxis": {
           "colorbar": {
            "outlinewidth": 0,
            "ticks": ""
           }
          },
          "colorscale": {
           "diverging": [
            [
             0,
             "#8e0152"
            ],
            [
             0.1,
             "#c51b7d"
            ],
            [
             0.2,
             "#de77ae"
            ],
            [
             0.3,
             "#f1b6da"
            ],
            [
             0.4,
             "#fde0ef"
            ],
            [
             0.5,
             "#f7f7f7"
            ],
            [
             0.6,
             "#e6f5d0"
            ],
            [
             0.7,
             "#b8e186"
            ],
            [
             0.8,
             "#7fbc41"
            ],
            [
             0.9,
             "#4d9221"
            ],
            [
             1,
             "#276419"
            ]
           ],
           "sequential": [
            [
             0,
             "#0d0887"
            ],
            [
             0.1111111111111111,
             "#46039f"
            ],
            [
             0.2222222222222222,
             "#7201a8"
            ],
            [
             0.3333333333333333,
             "#9c179e"
            ],
            [
             0.4444444444444444,
             "#bd3786"
            ],
            [
             0.5555555555555556,
             "#d8576b"
            ],
            [
             0.6666666666666666,
             "#ed7953"
            ],
            [
             0.7777777777777778,
             "#fb9f3a"
            ],
            [
             0.8888888888888888,
             "#fdca26"
            ],
            [
             1,
             "#f0f921"
            ]
           ],
           "sequentialminus": [
            [
             0,
             "#0d0887"
            ],
            [
             0.1111111111111111,
             "#46039f"
            ],
            [
             0.2222222222222222,
             "#7201a8"
            ],
            [
             0.3333333333333333,
             "#9c179e"
            ],
            [
             0.4444444444444444,
             "#bd3786"
            ],
            [
             0.5555555555555556,
             "#d8576b"
            ],
            [
             0.6666666666666666,
             "#ed7953"
            ],
            [
             0.7777777777777778,
             "#fb9f3a"
            ],
            [
             0.8888888888888888,
             "#fdca26"
            ],
            [
             1,
             "#f0f921"
            ]
           ]
          },
          "colorway": [
           "#636efa",
           "#EF553B",
           "#00cc96",
           "#ab63fa",
           "#FFA15A",
           "#19d3f3",
           "#FF6692",
           "#B6E880",
           "#FF97FF",
           "#FECB52"
          ],
          "font": {
           "color": "#2a3f5f"
          },
          "geo": {
           "bgcolor": "white",
           "lakecolor": "white",
           "landcolor": "#E5ECF6",
           "showlakes": true,
           "showland": true,
           "subunitcolor": "white"
          },
          "hoverlabel": {
           "align": "left"
          },
          "hovermode": "closest",
          "mapbox": {
           "style": "light"
          },
          "paper_bgcolor": "white",
          "plot_bgcolor": "#E5ECF6",
          "polar": {
           "angularaxis": {
            "gridcolor": "white",
            "linecolor": "white",
            "ticks": ""
           },
           "bgcolor": "#E5ECF6",
           "radialaxis": {
            "gridcolor": "white",
            "linecolor": "white",
            "ticks": ""
           }
          },
          "scene": {
           "xaxis": {
            "backgroundcolor": "#E5ECF6",
            "gridcolor": "white",
            "gridwidth": 2,
            "linecolor": "white",
            "showbackground": true,
            "ticks": "",
            "zerolinecolor": "white"
           },
           "yaxis": {
            "backgroundcolor": "#E5ECF6",
            "gridcolor": "white",
            "gridwidth": 2,
            "linecolor": "white",
            "showbackground": true,
            "ticks": "",
            "zerolinecolor": "white"
           },
           "zaxis": {
            "backgroundcolor": "#E5ECF6",
            "gridcolor": "white",
            "gridwidth": 2,
            "linecolor": "white",
            "showbackground": true,
            "ticks": "",
            "zerolinecolor": "white"
           }
          },
          "shapedefaults": {
           "line": {
            "color": "#2a3f5f"
           }
          },
          "ternary": {
           "aaxis": {
            "gridcolor": "white",
            "linecolor": "white",
            "ticks": ""
           },
           "baxis": {
            "gridcolor": "white",
            "linecolor": "white",
            "ticks": ""
           },
           "bgcolor": "#E5ECF6",
           "caxis": {
            "gridcolor": "white",
            "linecolor": "white",
            "ticks": ""
           }
          },
          "title": {
           "x": 0.05
          },
          "xaxis": {
           "automargin": true,
           "gridcolor": "white",
           "linecolor": "white",
           "ticks": "",
           "title": {
            "standoff": 15
           },
           "zerolinecolor": "white",
           "zerolinewidth": 2
          },
          "yaxis": {
           "automargin": true,
           "gridcolor": "white",
           "linecolor": "white",
           "ticks": "",
           "title": {
            "standoff": 15
           },
           "zerolinecolor": "white",
           "zerolinewidth": 2
          }
         }
        },
        "title": {
         "text": "Low MLB Attendance and CLT Knights"
        },
        "xaxis": {
         "anchor": "y",
         "domain": [
          0,
          1
         ],
         "title": {
          "text": "year"
         }
        },
        "yaxis": {
         "anchor": "x",
         "domain": [
          0,
          1
         ],
         "title": {
          "text": "Att Per Game"
         }
        }
       }
      },
      "text/html": [
       "<div>                            <div id=\"d9dfe598-b648-4012-ba93-df6d60612928\" class=\"plotly-graph-div\" style=\"height:525px; width:100%;\"></div>            <script type=\"text/javascript\">                require([\"plotly\"], function(Plotly) {                    window.PLOTLYENV=window.PLOTLYENV || {};                                    if (document.getElementById(\"d9dfe598-b648-4012-ba93-df6d60612928\")) {                    Plotly.newPlot(                        \"d9dfe598-b648-4012-ba93-df6d60612928\",                        [{\"hovertemplate\":\"Team=Baltimore Orioles<br>year=%{x}<br>Att Per Game=%{y}<extra></extra>\",\"legendgroup\":\"Baltimore Orioles\",\"line\":{\"color\":\"#636efa\",\"dash\":\"solid\"},\"marker\":{\"symbol\":\"circle\"},\"mode\":\"lines\",\"name\":\"Baltimore Orioles\",\"orientation\":\"v\",\"showlegend\":true,\"x\":[\"2014\",\"2015\",\"2016\",\"2017\",\"2018\",\"2019\"],\"xaxis\":\"x\",\"y\":[30426.0,29246.0,26819.0,25042.0,19311.0,16146.0],\"yaxis\":\"y\",\"type\":\"scatter\"},{\"hovertemplate\":\"Team=Miami Marlins<br>year=%{x}<br>Att Per Game=%{y}<extra></extra>\",\"legendgroup\":\"Miami Marlins\",\"line\":{\"color\":\"#EF553B\",\"dash\":\"solid\"},\"marker\":{\"symbol\":\"circle\"},\"mode\":\"lines\",\"name\":\"Miami Marlins\",\"orientation\":\"v\",\"showlegend\":true,\"x\":[\"2014\",\"2015\",\"2016\",\"2017\",\"2018\",\"2019\"],\"xaxis\":\"x\",\"y\":[21386.0,21633.0,21405.0,20295.0,10014.0,10016.0],\"yaxis\":\"y\",\"type\":\"scatter\"},{\"hovertemplate\":\"Team=Oakland Athletics<br>year=%{x}<br>Att Per Game=%{y}<extra></extra>\",\"legendgroup\":\"Oakland Athletics\",\"line\":{\"color\":\"#00cc96\",\"dash\":\"solid\"},\"marker\":{\"symbol\":\"circle\"},\"mode\":\"lines\",\"name\":\"Oakland Athletics\",\"orientation\":\"v\",\"showlegend\":true,\"x\":[\"2014\",\"2015\",\"2016\",\"2017\",\"2018\",\"2019\"],\"xaxis\":\"x\",\"y\":[24736.0,21829.0,18784.0,18219.0,19427.0,20626.0],\"yaxis\":\"y\",\"type\":\"scatter\"},{\"hovertemplate\":\"Team=Tampa Bay Rays<br>year=%{x}<br>Att Per Game=%{y}<extra></extra>\",\"legendgroup\":\"Tampa Bay Rays\",\"line\":{\"color\":\"#ab63fa\",\"dash\":\"solid\"},\"marker\":{\"symbol\":\"circle\"},\"mode\":\"lines\",\"name\":\"Tampa Bay Rays\",\"orientation\":\"v\",\"showlegend\":true,\"x\":[\"2014\",\"2015\",\"2016\",\"2017\",\"2018\",\"2019\"],\"xaxis\":\"x\",\"y\":[17858.0,15322.0,15879.0,15477.0,14259.0,14552.0],\"yaxis\":\"y\",\"type\":\"scatter\"},{\"hovertemplate\":\"Team=Charlotte Knights<br>year=%{x}<br>Att Per Game=%{y}<extra></extra>\",\"legendgroup\":\"Charlotte Knights\",\"line\":{\"color\":\"#FFA15A\",\"dash\":\"solid\"},\"marker\":{\"symbol\":\"circle\"},\"mode\":\"lines\",\"name\":\"Charlotte Knights\",\"orientation\":\"v\",\"showlegend\":true,\"x\":[\"2014\",\"2015\",\"2016\",\"2017\",\"2018\",\"2019\"],\"xaxis\":\"x\",\"y\":[9552.0,9297.0,8725.0,8852.0,8916.0,8360.0],\"yaxis\":\"y\",\"type\":\"scatter\"}],                        {\"template\":{\"data\":{\"histogram2dcontour\":[{\"type\":\"histogram2dcontour\",\"colorbar\":{\"outlinewidth\":0,\"ticks\":\"\"},\"colorscale\":[[0.0,\"#0d0887\"],[0.1111111111111111,\"#46039f\"],[0.2222222222222222,\"#7201a8\"],[0.3333333333333333,\"#9c179e\"],[0.4444444444444444,\"#bd3786\"],[0.5555555555555556,\"#d8576b\"],[0.6666666666666666,\"#ed7953\"],[0.7777777777777778,\"#fb9f3a\"],[0.8888888888888888,\"#fdca26\"],[1.0,\"#f0f921\"]]}],\"choropleth\":[{\"type\":\"choropleth\",\"colorbar\":{\"outlinewidth\":0,\"ticks\":\"\"}}],\"histogram2d\":[{\"type\":\"histogram2d\",\"colorbar\":{\"outlinewidth\":0,\"ticks\":\"\"},\"colorscale\":[[0.0,\"#0d0887\"],[0.1111111111111111,\"#46039f\"],[0.2222222222222222,\"#7201a8\"],[0.3333333333333333,\"#9c179e\"],[0.4444444444444444,\"#bd3786\"],[0.5555555555555556,\"#d8576b\"],[0.6666666666666666,\"#ed7953\"],[0.7777777777777778,\"#fb9f3a\"],[0.8888888888888888,\"#fdca26\"],[1.0,\"#f0f921\"]]}],\"heatmap\":[{\"type\":\"heatmap\",\"colorbar\":{\"outlinewidth\":0,\"ticks\":\"\"},\"colorscale\":[[0.0,\"#0d0887\"],[0.1111111111111111,\"#46039f\"],[0.2222222222222222,\"#7201a8\"],[0.3333333333333333,\"#9c179e\"],[0.4444444444444444,\"#bd3786\"],[0.5555555555555556,\"#d8576b\"],[0.6666666666666666,\"#ed7953\"],[0.7777777777777778,\"#fb9f3a\"],[0.8888888888888888,\"#fdca26\"],[1.0,\"#f0f921\"]]}],\"heatmapgl\":[{\"type\":\"heatmapgl\",\"colorbar\":{\"outlinewidth\":0,\"ticks\":\"\"},\"colorscale\":[[0.0,\"#0d0887\"],[0.1111111111111111,\"#46039f\"],[0.2222222222222222,\"#7201a8\"],[0.3333333333333333,\"#9c179e\"],[0.4444444444444444,\"#bd3786\"],[0.5555555555555556,\"#d8576b\"],[0.6666666666666666,\"#ed7953\"],[0.7777777777777778,\"#fb9f3a\"],[0.8888888888888888,\"#fdca26\"],[1.0,\"#f0f921\"]]}],\"contourcarpet\":[{\"type\":\"contourcarpet\",\"colorbar\":{\"outlinewidth\":0,\"ticks\":\"\"}}],\"contour\":[{\"type\":\"contour\",\"colorbar\":{\"outlinewidth\":0,\"ticks\":\"\"},\"colorscale\":[[0.0,\"#0d0887\"],[0.1111111111111111,\"#46039f\"],[0.2222222222222222,\"#7201a8\"],[0.3333333333333333,\"#9c179e\"],[0.4444444444444444,\"#bd3786\"],[0.5555555555555556,\"#d8576b\"],[0.6666666666666666,\"#ed7953\"],[0.7777777777777778,\"#fb9f3a\"],[0.8888888888888888,\"#fdca26\"],[1.0,\"#f0f921\"]]}],\"surface\":[{\"type\":\"surface\",\"colorbar\":{\"outlinewidth\":0,\"ticks\":\"\"},\"colorscale\":[[0.0,\"#0d0887\"],[0.1111111111111111,\"#46039f\"],[0.2222222222222222,\"#7201a8\"],[0.3333333333333333,\"#9c179e\"],[0.4444444444444444,\"#bd3786\"],[0.5555555555555556,\"#d8576b\"],[0.6666666666666666,\"#ed7953\"],[0.7777777777777778,\"#fb9f3a\"],[0.8888888888888888,\"#fdca26\"],[1.0,\"#f0f921\"]]}],\"mesh3d\":[{\"type\":\"mesh3d\",\"colorbar\":{\"outlinewidth\":0,\"ticks\":\"\"}}],\"scatter\":[{\"fillpattern\":{\"fillmode\":\"overlay\",\"size\":10,\"solidity\":0.2},\"type\":\"scatter\"}],\"parcoords\":[{\"type\":\"parcoords\",\"line\":{\"colorbar\":{\"outlinewidth\":0,\"ticks\":\"\"}}}],\"scatterpolargl\":[{\"type\":\"scatterpolargl\",\"marker\":{\"colorbar\":{\"outlinewidth\":0,\"ticks\":\"\"}}}],\"bar\":[{\"error_x\":{\"color\":\"#2a3f5f\"},\"error_y\":{\"color\":\"#2a3f5f\"},\"marker\":{\"line\":{\"color\":\"#E5ECF6\",\"width\":0.5},\"pattern\":{\"fillmode\":\"overlay\",\"size\":10,\"solidity\":0.2}},\"type\":\"bar\"}],\"scattergeo\":[{\"type\":\"scattergeo\",\"marker\":{\"colorbar\":{\"outlinewidth\":0,\"ticks\":\"\"}}}],\"scatterpolar\":[{\"type\":\"scatterpolar\",\"marker\":{\"colorbar\":{\"outlinewidth\":0,\"ticks\":\"\"}}}],\"histogram\":[{\"marker\":{\"pattern\":{\"fillmode\":\"overlay\",\"size\":10,\"solidity\":0.2}},\"type\":\"histogram\"}],\"scattergl\":[{\"type\":\"scattergl\",\"marker\":{\"colorbar\":{\"outlinewidth\":0,\"ticks\":\"\"}}}],\"scatter3d\":[{\"type\":\"scatter3d\",\"line\":{\"colorbar\":{\"outlinewidth\":0,\"ticks\":\"\"}},\"marker\":{\"colorbar\":{\"outlinewidth\":0,\"ticks\":\"\"}}}],\"scattermapbox\":[{\"type\":\"scattermapbox\",\"marker\":{\"colorbar\":{\"outlinewidth\":0,\"ticks\":\"\"}}}],\"scatterternary\":[{\"type\":\"scatterternary\",\"marker\":{\"colorbar\":{\"outlinewidth\":0,\"ticks\":\"\"}}}],\"scattercarpet\":[{\"type\":\"scattercarpet\",\"marker\":{\"colorbar\":{\"outlinewidth\":0,\"ticks\":\"\"}}}],\"carpet\":[{\"aaxis\":{\"endlinecolor\":\"#2a3f5f\",\"gridcolor\":\"white\",\"linecolor\":\"white\",\"minorgridcolor\":\"white\",\"startlinecolor\":\"#2a3f5f\"},\"baxis\":{\"endlinecolor\":\"#2a3f5f\",\"gridcolor\":\"white\",\"linecolor\":\"white\",\"minorgridcolor\":\"white\",\"startlinecolor\":\"#2a3f5f\"},\"type\":\"carpet\"}],\"table\":[{\"cells\":{\"fill\":{\"color\":\"#EBF0F8\"},\"line\":{\"color\":\"white\"}},\"header\":{\"fill\":{\"color\":\"#C8D4E3\"},\"line\":{\"color\":\"white\"}},\"type\":\"table\"}],\"barpolar\":[{\"marker\":{\"line\":{\"color\":\"#E5ECF6\",\"width\":0.5},\"pattern\":{\"fillmode\":\"overlay\",\"size\":10,\"solidity\":0.2}},\"type\":\"barpolar\"}],\"pie\":[{\"automargin\":true,\"type\":\"pie\"}]},\"layout\":{\"autotypenumbers\":\"strict\",\"colorway\":[\"#636efa\",\"#EF553B\",\"#00cc96\",\"#ab63fa\",\"#FFA15A\",\"#19d3f3\",\"#FF6692\",\"#B6E880\",\"#FF97FF\",\"#FECB52\"],\"font\":{\"color\":\"#2a3f5f\"},\"hovermode\":\"closest\",\"hoverlabel\":{\"align\":\"left\"},\"paper_bgcolor\":\"white\",\"plot_bgcolor\":\"#E5ECF6\",\"polar\":{\"bgcolor\":\"#E5ECF6\",\"angularaxis\":{\"gridcolor\":\"white\",\"linecolor\":\"white\",\"ticks\":\"\"},\"radialaxis\":{\"gridcolor\":\"white\",\"linecolor\":\"white\",\"ticks\":\"\"}},\"ternary\":{\"bgcolor\":\"#E5ECF6\",\"aaxis\":{\"gridcolor\":\"white\",\"linecolor\":\"white\",\"ticks\":\"\"},\"baxis\":{\"gridcolor\":\"white\",\"linecolor\":\"white\",\"ticks\":\"\"},\"caxis\":{\"gridcolor\":\"white\",\"linecolor\":\"white\",\"ticks\":\"\"}},\"coloraxis\":{\"colorbar\":{\"outlinewidth\":0,\"ticks\":\"\"}},\"colorscale\":{\"sequential\":[[0.0,\"#0d0887\"],[0.1111111111111111,\"#46039f\"],[0.2222222222222222,\"#7201a8\"],[0.3333333333333333,\"#9c179e\"],[0.4444444444444444,\"#bd3786\"],[0.5555555555555556,\"#d8576b\"],[0.6666666666666666,\"#ed7953\"],[0.7777777777777778,\"#fb9f3a\"],[0.8888888888888888,\"#fdca26\"],[1.0,\"#f0f921\"]],\"sequentialminus\":[[0.0,\"#0d0887\"],[0.1111111111111111,\"#46039f\"],[0.2222222222222222,\"#7201a8\"],[0.3333333333333333,\"#9c179e\"],[0.4444444444444444,\"#bd3786\"],[0.5555555555555556,\"#d8576b\"],[0.6666666666666666,\"#ed7953\"],[0.7777777777777778,\"#fb9f3a\"],[0.8888888888888888,\"#fdca26\"],[1.0,\"#f0f921\"]],\"diverging\":[[0,\"#8e0152\"],[0.1,\"#c51b7d\"],[0.2,\"#de77ae\"],[0.3,\"#f1b6da\"],[0.4,\"#fde0ef\"],[0.5,\"#f7f7f7\"],[0.6,\"#e6f5d0\"],[0.7,\"#b8e186\"],[0.8,\"#7fbc41\"],[0.9,\"#4d9221\"],[1,\"#276419\"]]},\"xaxis\":{\"gridcolor\":\"white\",\"linecolor\":\"white\",\"ticks\":\"\",\"title\":{\"standoff\":15},\"zerolinecolor\":\"white\",\"automargin\":true,\"zerolinewidth\":2},\"yaxis\":{\"gridcolor\":\"white\",\"linecolor\":\"white\",\"ticks\":\"\",\"title\":{\"standoff\":15},\"zerolinecolor\":\"white\",\"automargin\":true,\"zerolinewidth\":2},\"scene\":{\"xaxis\":{\"backgroundcolor\":\"#E5ECF6\",\"gridcolor\":\"white\",\"linecolor\":\"white\",\"showbackground\":true,\"ticks\":\"\",\"zerolinecolor\":\"white\",\"gridwidth\":2},\"yaxis\":{\"backgroundcolor\":\"#E5ECF6\",\"gridcolor\":\"white\",\"linecolor\":\"white\",\"showbackground\":true,\"ticks\":\"\",\"zerolinecolor\":\"white\",\"gridwidth\":2},\"zaxis\":{\"backgroundcolor\":\"#E5ECF6\",\"gridcolor\":\"white\",\"linecolor\":\"white\",\"showbackground\":true,\"ticks\":\"\",\"zerolinecolor\":\"white\",\"gridwidth\":2}},\"shapedefaults\":{\"line\":{\"color\":\"#2a3f5f\"}},\"annotationdefaults\":{\"arrowcolor\":\"#2a3f5f\",\"arrowhead\":0,\"arrowwidth\":1},\"geo\":{\"bgcolor\":\"white\",\"landcolor\":\"#E5ECF6\",\"subunitcolor\":\"white\",\"showland\":true,\"showlakes\":true,\"lakecolor\":\"white\"},\"title\":{\"x\":0.05},\"mapbox\":{\"style\":\"light\"}}},\"xaxis\":{\"anchor\":\"y\",\"domain\":[0.0,1.0],\"title\":{\"text\":\"year\"}},\"yaxis\":{\"anchor\":\"x\",\"domain\":[0.0,1.0],\"title\":{\"text\":\"Att Per Game\"}},\"legend\":{\"title\":{\"text\":\"Team\"},\"tracegroupgap\":0},\"title\":{\"text\":\"Low MLB Attendance and CLT Knights\"}},                        {\"responsive\": true}                    ).then(function(){\n",
       "                            \n",
       "var gd = document.getElementById('d9dfe598-b648-4012-ba93-df6d60612928');\n",
       "var x = new MutationObserver(function (mutations, observer) {{\n",
       "        var display = window.getComputedStyle(gd).display;\n",
       "        if (!display || display === 'none') {{\n",
       "            console.log([gd, 'removed!']);\n",
       "            Plotly.purge(gd);\n",
       "            observer.disconnect();\n",
       "        }}\n",
       "}});\n",
       "\n",
       "// Listen for the removal of the full notebook cells\n",
       "var notebookContainer = gd.closest('#notebook-container');\n",
       "if (notebookContainer) {{\n",
       "    x.observe(notebookContainer, {childList: true});\n",
       "}}\n",
       "\n",
       "// Listen for the clearing of the current output cell\n",
       "var outputEl = gd.closest('.output');\n",
       "if (outputEl) {{\n",
       "    x.observe(outputEl, {childList: true});\n",
       "}}\n",
       "\n",
       "                        })                };                });            </script>        </div>"
      ]
     },
     "metadata": {},
     "output_type": "display_data"
    }
   ],
   "source": [
    "# Plot MLB Attendance by Team by Year\n",
    "fig = px.line(att_comp, x='year', y='Att Per Game', color='Team', title='Low MLB Attendance and CLT Knights')\n",
    "fig.show()"
   ]
  },
  {
   "cell_type": "code",
   "execution_count": 169,
   "id": "e9def324",
   "metadata": {},
   "outputs": [
    {
     "name": "stderr",
     "output_type": "stream",
     "text": [
      "<ipython-input-169-99090c222a77>:5: FutureWarning:\n",
      "\n",
      "The default value of regex will change from True to False in a future version.\n",
      "\n"
     ]
    },
    {
     "data": {
      "text/html": [
       "<div>\n",
       "<style scoped>\n",
       "    .dataframe tbody tr th:only-of-type {\n",
       "        vertical-align: middle;\n",
       "    }\n",
       "\n",
       "    .dataframe tbody tr th {\n",
       "        vertical-align: top;\n",
       "    }\n",
       "\n",
       "    .dataframe thead th {\n",
       "        text-align: right;\n",
       "    }\n",
       "</style>\n",
       "<table border=\"1\" class=\"dataframe\">\n",
       "  <thead>\n",
       "    <tr style=\"text-align: right;\">\n",
       "      <th></th>\n",
       "      <th>#</th>\n",
       "      <th>Stadium</th>\n",
       "      <th>Capacity</th>\n",
       "      <th>City</th>\n",
       "      <th>State</th>\n",
       "      <th>Home Team(s)</th>\n",
       "      <th>League(s)</th>\n",
       "    </tr>\n",
       "  </thead>\n",
       "  <tbody>\n",
       "    <tr>\n",
       "      <th>0</th>\n",
       "      <td>1</td>\n",
       "      <td>Oakland Coliseum</td>\n",
       "      <td>56782</td>\n",
       "      <td>Oakland</td>\n",
       "      <td>California</td>\n",
       "      <td>Oakland Athletics</td>\n",
       "      <td>American League (MLB)</td>\n",
       "    </tr>\n",
       "    <tr>\n",
       "      <th>1</th>\n",
       "      <td>2</td>\n",
       "      <td>Dodger Stadium</td>\n",
       "      <td>56000</td>\n",
       "      <td>Los Angeles</td>\n",
       "      <td>California</td>\n",
       "      <td>Los Angeles Dodgers</td>\n",
       "      <td>National League (MLB)</td>\n",
       "    </tr>\n",
       "    <tr>\n",
       "      <th>2</th>\n",
       "      <td>3</td>\n",
       "      <td>Yankee Stadium</td>\n",
       "      <td>54251</td>\n",
       "      <td>New York City</td>\n",
       "      <td>New York</td>\n",
       "      <td>New York Yankees</td>\n",
       "      <td>American League (MLB)</td>\n",
       "    </tr>\n",
       "    <tr>\n",
       "      <th>3</th>\n",
       "      <td>4</td>\n",
       "      <td>Coors Field</td>\n",
       "      <td>50144</td>\n",
       "      <td>Denver</td>\n",
       "      <td>Colorado</td>\n",
       "      <td>Colorado Rockies</td>\n",
       "      <td>National League (MLB)</td>\n",
       "    </tr>\n",
       "    <tr>\n",
       "      <th>4</th>\n",
       "      <td>5</td>\n",
       "      <td>Chase Field</td>\n",
       "      <td>48686</td>\n",
       "      <td>Phoenix</td>\n",
       "      <td>Arizona</td>\n",
       "      <td>Arizona Diamondbacks</td>\n",
       "      <td>National League (MLB)</td>\n",
       "    </tr>\n",
       "  </tbody>\n",
       "</table>\n",
       "</div>"
      ],
      "text/plain": [
       "   #           Stadium  Capacity           City       State  \\\n",
       "0  1  Oakland Coliseum     56782        Oakland  California   \n",
       "1  2    Dodger Stadium     56000    Los Angeles  California   \n",
       "2  3    Yankee Stadium     54251  New York City    New York   \n",
       "3  4       Coors Field     50144         Denver    Colorado   \n",
       "4  5       Chase Field     48686        Phoenix     Arizona   \n",
       "\n",
       "           Home Team(s)              League(s)  \n",
       "0     Oakland Athletics  American League (MLB)  \n",
       "1   Los Angeles Dodgers  National League (MLB)  \n",
       "2      New York Yankees  American League (MLB)  \n",
       "3      Colorado Rockies  National League (MLB)  \n",
       "4  Arizona Diamondbacks  National League (MLB)  "
      ]
     },
     "execution_count": 169,
     "metadata": {},
     "output_type": "execute_result"
    }
   ],
   "source": [
    "# Import and select columns from stadium capacities\n",
    "capacities = pd.read_html('https://en.wikipedia.org/wiki/List_of_U.S._baseball_stadiums_by_capacity')[1]\n",
    "capacities = capacities[['#','Stadium','Capacity','City','State', 'Home Team(s)', 'League(s)']]\n",
    "# Fix Capacity numbers to be sortable floats\n",
    "capacities['Capacity'] = capacities['Capacity'].str.replace(r'\\[(.*?)\\]','')\n",
    "capacities['Capacity'] = capacities['Capacity'].str.replace(',','')\n",
    "capacities['Capacity'] = pd.to_numeric(capacities['Capacity'], errors='coerce')\n",
    "capacities.head()"
   ]
  },
  {
   "cell_type": "code",
   "execution_count": 179,
   "id": "fd64bf5a",
   "metadata": {},
   "outputs": [
    {
     "data": {
      "text/html": [
       "<div>\n",
       "<style scoped>\n",
       "    .dataframe tbody tr th:only-of-type {\n",
       "        vertical-align: middle;\n",
       "    }\n",
       "\n",
       "    .dataframe tbody tr th {\n",
       "        vertical-align: top;\n",
       "    }\n",
       "\n",
       "    .dataframe thead th {\n",
       "        text-align: right;\n",
       "    }\n",
       "</style>\n",
       "<table border=\"1\" class=\"dataframe\">\n",
       "  <thead>\n",
       "    <tr style=\"text-align: right;\">\n",
       "      <th></th>\n",
       "      <th>year</th>\n",
       "      <th>Team</th>\n",
       "      <th>Att Per Game</th>\n",
       "      <th>Capacity</th>\n",
       "      <th>Stadium</th>\n",
       "      <th>League(s)</th>\n",
       "      <th>Attendance/Capacity Ratio</th>\n",
       "    </tr>\n",
       "  </thead>\n",
       "  <tbody>\n",
       "    <tr>\n",
       "      <th>0</th>\n",
       "      <td>2014</td>\n",
       "      <td>Baltimore Orioles</td>\n",
       "      <td>30426.0</td>\n",
       "      <td>44970</td>\n",
       "      <td>Oriole Park at Camden Yards</td>\n",
       "      <td>American League (MLB)</td>\n",
       "      <td>0.676584</td>\n",
       "    </tr>\n",
       "    <tr>\n",
       "      <th>1</th>\n",
       "      <td>2015</td>\n",
       "      <td>Baltimore Orioles</td>\n",
       "      <td>29246.0</td>\n",
       "      <td>44970</td>\n",
       "      <td>Oriole Park at Camden Yards</td>\n",
       "      <td>American League (MLB)</td>\n",
       "      <td>0.650345</td>\n",
       "    </tr>\n",
       "    <tr>\n",
       "      <th>2</th>\n",
       "      <td>2016</td>\n",
       "      <td>Baltimore Orioles</td>\n",
       "      <td>26819.0</td>\n",
       "      <td>44970</td>\n",
       "      <td>Oriole Park at Camden Yards</td>\n",
       "      <td>American League (MLB)</td>\n",
       "      <td>0.596375</td>\n",
       "    </tr>\n",
       "    <tr>\n",
       "      <th>3</th>\n",
       "      <td>2017</td>\n",
       "      <td>Baltimore Orioles</td>\n",
       "      <td>25042.0</td>\n",
       "      <td>44970</td>\n",
       "      <td>Oriole Park at Camden Yards</td>\n",
       "      <td>American League (MLB)</td>\n",
       "      <td>0.556860</td>\n",
       "    </tr>\n",
       "    <tr>\n",
       "      <th>4</th>\n",
       "      <td>2018</td>\n",
       "      <td>Baltimore Orioles</td>\n",
       "      <td>19311.0</td>\n",
       "      <td>44970</td>\n",
       "      <td>Oriole Park at Camden Yards</td>\n",
       "      <td>American League (MLB)</td>\n",
       "      <td>0.429420</td>\n",
       "    </tr>\n",
       "  </tbody>\n",
       "</table>\n",
       "</div>"
      ],
      "text/plain": [
       "   year               Team  Att Per Game  Capacity  \\\n",
       "0  2014  Baltimore Orioles       30426.0     44970   \n",
       "1  2015  Baltimore Orioles       29246.0     44970   \n",
       "2  2016  Baltimore Orioles       26819.0     44970   \n",
       "3  2017  Baltimore Orioles       25042.0     44970   \n",
       "4  2018  Baltimore Orioles       19311.0     44970   \n",
       "\n",
       "                       Stadium              League(s)  \\\n",
       "0  Oriole Park at Camden Yards  American League (MLB)   \n",
       "1  Oriole Park at Camden Yards  American League (MLB)   \n",
       "2  Oriole Park at Camden Yards  American League (MLB)   \n",
       "3  Oriole Park at Camden Yards  American League (MLB)   \n",
       "4  Oriole Park at Camden Yards  American League (MLB)   \n",
       "\n",
       "   Attendance/Capacity Ratio  \n",
       "0                   0.676584  \n",
       "1                   0.650345  \n",
       "2                   0.596375  \n",
       "3                   0.556860  \n",
       "4                   0.429420  "
      ]
     },
     "execution_count": 179,
     "metadata": {},
     "output_type": "execute_result"
    }
   ],
   "source": [
    "# Merge Capacities with Attendances\n",
    "att_cap = att_comp.merge(capacities, left_on= 'Team', right_on='Home Team(s)')\n",
    "att_cap = att_cap[['year', 'Team', 'Att Per Game', 'Capacity', 'Stadium', 'League(s)']]\n",
    "att_cap['Attendance/Capacity Ratio'] = att_cap['Att Per Game']/att_cap['Capacity']\n",
    "att_cap.head()"
   ]
  },
  {
   "cell_type": "code",
   "execution_count": 180,
   "id": "43b74ff7",
   "metadata": {},
   "outputs": [
    {
     "data": {
      "application/vnd.plotly.v1+json": {
       "config": {
        "plotlyServerURL": "https://plot.ly"
       },
       "data": [
        {
         "hovertemplate": "Team=Baltimore Orioles<br>year=%{x}<br>Attendance/Capacity Ratio=%{y}<extra></extra>",
         "legendgroup": "Baltimore Orioles",
         "line": {
          "color": "#636efa",
          "dash": "solid"
         },
         "marker": {
          "symbol": "circle"
         },
         "mode": "lines",
         "name": "Baltimore Orioles",
         "orientation": "v",
         "showlegend": true,
         "type": "scatter",
         "x": [
          "2014",
          "2015",
          "2016",
          "2017",
          "2018",
          "2019"
         ],
         "xaxis": "x",
         "y": [
          0.676584389593062,
          0.6503446742272626,
          0.5963753613520124,
          0.5568601289748721,
          0.42941961307538357,
          0.3590393595730487
         ],
         "yaxis": "y"
        },
        {
         "hovertemplate": "Team=Miami Marlins<br>year=%{x}<br>Attendance/Capacity Ratio=%{y}<extra></extra>",
         "legendgroup": "Miami Marlins",
         "line": {
          "color": "#EF553B",
          "dash": "solid"
         },
         "marker": {
          "symbol": "circle"
         },
         "mode": "lines",
         "name": "Miami Marlins",
         "orientation": "v",
         "showlegend": true,
         "type": "scatter",
         "x": [
          "2014",
          "2015",
          "2016",
          "2017",
          "2018",
          "2019"
         ],
         "xaxis": "x",
         "y": [
          0.5711767533785589,
          0.5777736232038887,
          0.5716842049035842,
          0.5420383526521019,
          0.2674536616633727,
          0.26750707761337533
         ],
         "yaxis": "y"
        },
        {
         "hovertemplate": "Team=Oakland Athletics<br>year=%{x}<br>Attendance/Capacity Ratio=%{y}<extra></extra>",
         "legendgroup": "Oakland Athletics",
         "line": {
          "color": "#00cc96",
          "dash": "solid"
         },
         "marker": {
          "symbol": "circle"
         },
         "mode": "lines",
         "name": "Oakland Athletics",
         "orientation": "v",
         "showlegend": true,
         "type": "scatter",
         "x": [
          "2014",
          "2015",
          "2016",
          "2017",
          "2018",
          "2019"
         ],
         "xaxis": "x",
         "y": [
          0.4356310098270579,
          0.38443520834067135,
          0.33080905920890424,
          0.3208587228347011,
          0.342133070339192,
          0.3632489169102885
         ],
         "yaxis": "y"
        },
        {
         "hovertemplate": "Team=Tampa Bay Rays<br>year=%{x}<br>Attendance/Capacity Ratio=%{y}<extra></extra>",
         "legendgroup": "Tampa Bay Rays",
         "line": {
          "color": "#ab63fa",
          "dash": "solid"
         },
         "marker": {
          "symbol": "circle"
         },
         "mode": "lines",
         "name": "Tampa Bay Rays",
         "orientation": "v",
         "showlegend": true,
         "type": "scatter",
         "x": [
          "2014",
          "2015",
          "2016",
          "2017",
          "2018",
          "2019"
         ],
         "xaxis": "x",
         "y": [
          0.4178776178776179,
          0.35853515853515855,
          0.37156897156897156,
          0.3621621621621622,
          0.33366093366093363,
          0.3405171405171405
         ],
         "yaxis": "y"
        },
        {
         "hovertemplate": "Team=Charlotte Knights<br>year=%{x}<br>Attendance/Capacity Ratio=%{y}<extra></extra>",
         "legendgroup": "Charlotte Knights",
         "line": {
          "color": "#FFA15A",
          "dash": "solid"
         },
         "marker": {
          "symbol": "circle"
         },
         "mode": "lines",
         "name": "Charlotte Knights",
         "orientation": "v",
         "showlegend": true,
         "type": "scatter",
         "x": [
          "2014",
          "2015",
          "2016",
          "2017",
          "2018",
          "2019"
         ],
         "xaxis": "x",
         "y": [
          0.9364705882352942,
          0.9114705882352941,
          0.8553921568627451,
          0.8678431372549019,
          0.8741176470588236,
          0.8196078431372549
         ],
         "yaxis": "y"
        }
       ],
       "layout": {
        "legend": {
         "title": {
          "text": "Team"
         },
         "tracegroupgap": 0
        },
        "template": {
         "data": {
          "bar": [
           {
            "error_x": {
             "color": "#2a3f5f"
            },
            "error_y": {
             "color": "#2a3f5f"
            },
            "marker": {
             "line": {
              "color": "#E5ECF6",
              "width": 0.5
             },
             "pattern": {
              "fillmode": "overlay",
              "size": 10,
              "solidity": 0.2
             }
            },
            "type": "bar"
           }
          ],
          "barpolar": [
           {
            "marker": {
             "line": {
              "color": "#E5ECF6",
              "width": 0.5
             },
             "pattern": {
              "fillmode": "overlay",
              "size": 10,
              "solidity": 0.2
             }
            },
            "type": "barpolar"
           }
          ],
          "carpet": [
           {
            "aaxis": {
             "endlinecolor": "#2a3f5f",
             "gridcolor": "white",
             "linecolor": "white",
             "minorgridcolor": "white",
             "startlinecolor": "#2a3f5f"
            },
            "baxis": {
             "endlinecolor": "#2a3f5f",
             "gridcolor": "white",
             "linecolor": "white",
             "minorgridcolor": "white",
             "startlinecolor": "#2a3f5f"
            },
            "type": "carpet"
           }
          ],
          "choropleth": [
           {
            "colorbar": {
             "outlinewidth": 0,
             "ticks": ""
            },
            "type": "choropleth"
           }
          ],
          "contour": [
           {
            "colorbar": {
             "outlinewidth": 0,
             "ticks": ""
            },
            "colorscale": [
             [
              0,
              "#0d0887"
             ],
             [
              0.1111111111111111,
              "#46039f"
             ],
             [
              0.2222222222222222,
              "#7201a8"
             ],
             [
              0.3333333333333333,
              "#9c179e"
             ],
             [
              0.4444444444444444,
              "#bd3786"
             ],
             [
              0.5555555555555556,
              "#d8576b"
             ],
             [
              0.6666666666666666,
              "#ed7953"
             ],
             [
              0.7777777777777778,
              "#fb9f3a"
             ],
             [
              0.8888888888888888,
              "#fdca26"
             ],
             [
              1,
              "#f0f921"
             ]
            ],
            "type": "contour"
           }
          ],
          "contourcarpet": [
           {
            "colorbar": {
             "outlinewidth": 0,
             "ticks": ""
            },
            "type": "contourcarpet"
           }
          ],
          "heatmap": [
           {
            "colorbar": {
             "outlinewidth": 0,
             "ticks": ""
            },
            "colorscale": [
             [
              0,
              "#0d0887"
             ],
             [
              0.1111111111111111,
              "#46039f"
             ],
             [
              0.2222222222222222,
              "#7201a8"
             ],
             [
              0.3333333333333333,
              "#9c179e"
             ],
             [
              0.4444444444444444,
              "#bd3786"
             ],
             [
              0.5555555555555556,
              "#d8576b"
             ],
             [
              0.6666666666666666,
              "#ed7953"
             ],
             [
              0.7777777777777778,
              "#fb9f3a"
             ],
             [
              0.8888888888888888,
              "#fdca26"
             ],
             [
              1,
              "#f0f921"
             ]
            ],
            "type": "heatmap"
           }
          ],
          "heatmapgl": [
           {
            "colorbar": {
             "outlinewidth": 0,
             "ticks": ""
            },
            "colorscale": [
             [
              0,
              "#0d0887"
             ],
             [
              0.1111111111111111,
              "#46039f"
             ],
             [
              0.2222222222222222,
              "#7201a8"
             ],
             [
              0.3333333333333333,
              "#9c179e"
             ],
             [
              0.4444444444444444,
              "#bd3786"
             ],
             [
              0.5555555555555556,
              "#d8576b"
             ],
             [
              0.6666666666666666,
              "#ed7953"
             ],
             [
              0.7777777777777778,
              "#fb9f3a"
             ],
             [
              0.8888888888888888,
              "#fdca26"
             ],
             [
              1,
              "#f0f921"
             ]
            ],
            "type": "heatmapgl"
           }
          ],
          "histogram": [
           {
            "marker": {
             "pattern": {
              "fillmode": "overlay",
              "size": 10,
              "solidity": 0.2
             }
            },
            "type": "histogram"
           }
          ],
          "histogram2d": [
           {
            "colorbar": {
             "outlinewidth": 0,
             "ticks": ""
            },
            "colorscale": [
             [
              0,
              "#0d0887"
             ],
             [
              0.1111111111111111,
              "#46039f"
             ],
             [
              0.2222222222222222,
              "#7201a8"
             ],
             [
              0.3333333333333333,
              "#9c179e"
             ],
             [
              0.4444444444444444,
              "#bd3786"
             ],
             [
              0.5555555555555556,
              "#d8576b"
             ],
             [
              0.6666666666666666,
              "#ed7953"
             ],
             [
              0.7777777777777778,
              "#fb9f3a"
             ],
             [
              0.8888888888888888,
              "#fdca26"
             ],
             [
              1,
              "#f0f921"
             ]
            ],
            "type": "histogram2d"
           }
          ],
          "histogram2dcontour": [
           {
            "colorbar": {
             "outlinewidth": 0,
             "ticks": ""
            },
            "colorscale": [
             [
              0,
              "#0d0887"
             ],
             [
              0.1111111111111111,
              "#46039f"
             ],
             [
              0.2222222222222222,
              "#7201a8"
             ],
             [
              0.3333333333333333,
              "#9c179e"
             ],
             [
              0.4444444444444444,
              "#bd3786"
             ],
             [
              0.5555555555555556,
              "#d8576b"
             ],
             [
              0.6666666666666666,
              "#ed7953"
             ],
             [
              0.7777777777777778,
              "#fb9f3a"
             ],
             [
              0.8888888888888888,
              "#fdca26"
             ],
             [
              1,
              "#f0f921"
             ]
            ],
            "type": "histogram2dcontour"
           }
          ],
          "mesh3d": [
           {
            "colorbar": {
             "outlinewidth": 0,
             "ticks": ""
            },
            "type": "mesh3d"
           }
          ],
          "parcoords": [
           {
            "line": {
             "colorbar": {
              "outlinewidth": 0,
              "ticks": ""
             }
            },
            "type": "parcoords"
           }
          ],
          "pie": [
           {
            "automargin": true,
            "type": "pie"
           }
          ],
          "scatter": [
           {
            "fillpattern": {
             "fillmode": "overlay",
             "size": 10,
             "solidity": 0.2
            },
            "type": "scatter"
           }
          ],
          "scatter3d": [
           {
            "line": {
             "colorbar": {
              "outlinewidth": 0,
              "ticks": ""
             }
            },
            "marker": {
             "colorbar": {
              "outlinewidth": 0,
              "ticks": ""
             }
            },
            "type": "scatter3d"
           }
          ],
          "scattercarpet": [
           {
            "marker": {
             "colorbar": {
              "outlinewidth": 0,
              "ticks": ""
             }
            },
            "type": "scattercarpet"
           }
          ],
          "scattergeo": [
           {
            "marker": {
             "colorbar": {
              "outlinewidth": 0,
              "ticks": ""
             }
            },
            "type": "scattergeo"
           }
          ],
          "scattergl": [
           {
            "marker": {
             "colorbar": {
              "outlinewidth": 0,
              "ticks": ""
             }
            },
            "type": "scattergl"
           }
          ],
          "scattermapbox": [
           {
            "marker": {
             "colorbar": {
              "outlinewidth": 0,
              "ticks": ""
             }
            },
            "type": "scattermapbox"
           }
          ],
          "scatterpolar": [
           {
            "marker": {
             "colorbar": {
              "outlinewidth": 0,
              "ticks": ""
             }
            },
            "type": "scatterpolar"
           }
          ],
          "scatterpolargl": [
           {
            "marker": {
             "colorbar": {
              "outlinewidth": 0,
              "ticks": ""
             }
            },
            "type": "scatterpolargl"
           }
          ],
          "scatterternary": [
           {
            "marker": {
             "colorbar": {
              "outlinewidth": 0,
              "ticks": ""
             }
            },
            "type": "scatterternary"
           }
          ],
          "surface": [
           {
            "colorbar": {
             "outlinewidth": 0,
             "ticks": ""
            },
            "colorscale": [
             [
              0,
              "#0d0887"
             ],
             [
              0.1111111111111111,
              "#46039f"
             ],
             [
              0.2222222222222222,
              "#7201a8"
             ],
             [
              0.3333333333333333,
              "#9c179e"
             ],
             [
              0.4444444444444444,
              "#bd3786"
             ],
             [
              0.5555555555555556,
              "#d8576b"
             ],
             [
              0.6666666666666666,
              "#ed7953"
             ],
             [
              0.7777777777777778,
              "#fb9f3a"
             ],
             [
              0.8888888888888888,
              "#fdca26"
             ],
             [
              1,
              "#f0f921"
             ]
            ],
            "type": "surface"
           }
          ],
          "table": [
           {
            "cells": {
             "fill": {
              "color": "#EBF0F8"
             },
             "line": {
              "color": "white"
             }
            },
            "header": {
             "fill": {
              "color": "#C8D4E3"
             },
             "line": {
              "color": "white"
             }
            },
            "type": "table"
           }
          ]
         },
         "layout": {
          "annotationdefaults": {
           "arrowcolor": "#2a3f5f",
           "arrowhead": 0,
           "arrowwidth": 1
          },
          "autotypenumbers": "strict",
          "coloraxis": {
           "colorbar": {
            "outlinewidth": 0,
            "ticks": ""
           }
          },
          "colorscale": {
           "diverging": [
            [
             0,
             "#8e0152"
            ],
            [
             0.1,
             "#c51b7d"
            ],
            [
             0.2,
             "#de77ae"
            ],
            [
             0.3,
             "#f1b6da"
            ],
            [
             0.4,
             "#fde0ef"
            ],
            [
             0.5,
             "#f7f7f7"
            ],
            [
             0.6,
             "#e6f5d0"
            ],
            [
             0.7,
             "#b8e186"
            ],
            [
             0.8,
             "#7fbc41"
            ],
            [
             0.9,
             "#4d9221"
            ],
            [
             1,
             "#276419"
            ]
           ],
           "sequential": [
            [
             0,
             "#0d0887"
            ],
            [
             0.1111111111111111,
             "#46039f"
            ],
            [
             0.2222222222222222,
             "#7201a8"
            ],
            [
             0.3333333333333333,
             "#9c179e"
            ],
            [
             0.4444444444444444,
             "#bd3786"
            ],
            [
             0.5555555555555556,
             "#d8576b"
            ],
            [
             0.6666666666666666,
             "#ed7953"
            ],
            [
             0.7777777777777778,
             "#fb9f3a"
            ],
            [
             0.8888888888888888,
             "#fdca26"
            ],
            [
             1,
             "#f0f921"
            ]
           ],
           "sequentialminus": [
            [
             0,
             "#0d0887"
            ],
            [
             0.1111111111111111,
             "#46039f"
            ],
            [
             0.2222222222222222,
             "#7201a8"
            ],
            [
             0.3333333333333333,
             "#9c179e"
            ],
            [
             0.4444444444444444,
             "#bd3786"
            ],
            [
             0.5555555555555556,
             "#d8576b"
            ],
            [
             0.6666666666666666,
             "#ed7953"
            ],
            [
             0.7777777777777778,
             "#fb9f3a"
            ],
            [
             0.8888888888888888,
             "#fdca26"
            ],
            [
             1,
             "#f0f921"
            ]
           ]
          },
          "colorway": [
           "#636efa",
           "#EF553B",
           "#00cc96",
           "#ab63fa",
           "#FFA15A",
           "#19d3f3",
           "#FF6692",
           "#B6E880",
           "#FF97FF",
           "#FECB52"
          ],
          "font": {
           "color": "#2a3f5f"
          },
          "geo": {
           "bgcolor": "white",
           "lakecolor": "white",
           "landcolor": "#E5ECF6",
           "showlakes": true,
           "showland": true,
           "subunitcolor": "white"
          },
          "hoverlabel": {
           "align": "left"
          },
          "hovermode": "closest",
          "mapbox": {
           "style": "light"
          },
          "paper_bgcolor": "white",
          "plot_bgcolor": "#E5ECF6",
          "polar": {
           "angularaxis": {
            "gridcolor": "white",
            "linecolor": "white",
            "ticks": ""
           },
           "bgcolor": "#E5ECF6",
           "radialaxis": {
            "gridcolor": "white",
            "linecolor": "white",
            "ticks": ""
           }
          },
          "scene": {
           "xaxis": {
            "backgroundcolor": "#E5ECF6",
            "gridcolor": "white",
            "gridwidth": 2,
            "linecolor": "white",
            "showbackground": true,
            "ticks": "",
            "zerolinecolor": "white"
           },
           "yaxis": {
            "backgroundcolor": "#E5ECF6",
            "gridcolor": "white",
            "gridwidth": 2,
            "linecolor": "white",
            "showbackground": true,
            "ticks": "",
            "zerolinecolor": "white"
           },
           "zaxis": {
            "backgroundcolor": "#E5ECF6",
            "gridcolor": "white",
            "gridwidth": 2,
            "linecolor": "white",
            "showbackground": true,
            "ticks": "",
            "zerolinecolor": "white"
           }
          },
          "shapedefaults": {
           "line": {
            "color": "#2a3f5f"
           }
          },
          "ternary": {
           "aaxis": {
            "gridcolor": "white",
            "linecolor": "white",
            "ticks": ""
           },
           "baxis": {
            "gridcolor": "white",
            "linecolor": "white",
            "ticks": ""
           },
           "bgcolor": "#E5ECF6",
           "caxis": {
            "gridcolor": "white",
            "linecolor": "white",
            "ticks": ""
           }
          },
          "title": {
           "x": 0.05
          },
          "xaxis": {
           "automargin": true,
           "gridcolor": "white",
           "linecolor": "white",
           "ticks": "",
           "title": {
            "standoff": 15
           },
           "zerolinecolor": "white",
           "zerolinewidth": 2
          },
          "yaxis": {
           "automargin": true,
           "gridcolor": "white",
           "linecolor": "white",
           "ticks": "",
           "title": {
            "standoff": 15
           },
           "zerolinecolor": "white",
           "zerolinewidth": 2
          }
         }
        },
        "title": {
         "text": "Percentage of Stadium Filled for Each Team"
        },
        "xaxis": {
         "anchor": "y",
         "domain": [
          0,
          1
         ],
         "title": {
          "text": "year"
         }
        },
        "yaxis": {
         "anchor": "x",
         "domain": [
          0,
          1
         ],
         "title": {
          "text": "Attendance/Capacity Ratio"
         }
        }
       }
      },
      "text/html": [
       "<div>                            <div id=\"565c1b8c-0ebd-41d4-b557-f53a4cc07337\" class=\"plotly-graph-div\" style=\"height:525px; width:100%;\"></div>            <script type=\"text/javascript\">                require([\"plotly\"], function(Plotly) {                    window.PLOTLYENV=window.PLOTLYENV || {};                                    if (document.getElementById(\"565c1b8c-0ebd-41d4-b557-f53a4cc07337\")) {                    Plotly.newPlot(                        \"565c1b8c-0ebd-41d4-b557-f53a4cc07337\",                        [{\"hovertemplate\":\"Team=Baltimore Orioles<br>year=%{x}<br>Attendance/Capacity Ratio=%{y}<extra></extra>\",\"legendgroup\":\"Baltimore Orioles\",\"line\":{\"color\":\"#636efa\",\"dash\":\"solid\"},\"marker\":{\"symbol\":\"circle\"},\"mode\":\"lines\",\"name\":\"Baltimore Orioles\",\"orientation\":\"v\",\"showlegend\":true,\"x\":[\"2014\",\"2015\",\"2016\",\"2017\",\"2018\",\"2019\"],\"xaxis\":\"x\",\"y\":[0.676584389593062,0.6503446742272626,0.5963753613520124,0.5568601289748721,0.42941961307538357,0.3590393595730487],\"yaxis\":\"y\",\"type\":\"scatter\"},{\"hovertemplate\":\"Team=Miami Marlins<br>year=%{x}<br>Attendance/Capacity Ratio=%{y}<extra></extra>\",\"legendgroup\":\"Miami Marlins\",\"line\":{\"color\":\"#EF553B\",\"dash\":\"solid\"},\"marker\":{\"symbol\":\"circle\"},\"mode\":\"lines\",\"name\":\"Miami Marlins\",\"orientation\":\"v\",\"showlegend\":true,\"x\":[\"2014\",\"2015\",\"2016\",\"2017\",\"2018\",\"2019\"],\"xaxis\":\"x\",\"y\":[0.5711767533785589,0.5777736232038887,0.5716842049035842,0.5420383526521019,0.2674536616633727,0.26750707761337533],\"yaxis\":\"y\",\"type\":\"scatter\"},{\"hovertemplate\":\"Team=Oakland Athletics<br>year=%{x}<br>Attendance/Capacity Ratio=%{y}<extra></extra>\",\"legendgroup\":\"Oakland Athletics\",\"line\":{\"color\":\"#00cc96\",\"dash\":\"solid\"},\"marker\":{\"symbol\":\"circle\"},\"mode\":\"lines\",\"name\":\"Oakland Athletics\",\"orientation\":\"v\",\"showlegend\":true,\"x\":[\"2014\",\"2015\",\"2016\",\"2017\",\"2018\",\"2019\"],\"xaxis\":\"x\",\"y\":[0.4356310098270579,0.38443520834067135,0.33080905920890424,0.3208587228347011,0.342133070339192,0.3632489169102885],\"yaxis\":\"y\",\"type\":\"scatter\"},{\"hovertemplate\":\"Team=Tampa Bay Rays<br>year=%{x}<br>Attendance/Capacity Ratio=%{y}<extra></extra>\",\"legendgroup\":\"Tampa Bay Rays\",\"line\":{\"color\":\"#ab63fa\",\"dash\":\"solid\"},\"marker\":{\"symbol\":\"circle\"},\"mode\":\"lines\",\"name\":\"Tampa Bay Rays\",\"orientation\":\"v\",\"showlegend\":true,\"x\":[\"2014\",\"2015\",\"2016\",\"2017\",\"2018\",\"2019\"],\"xaxis\":\"x\",\"y\":[0.4178776178776179,0.35853515853515855,0.37156897156897156,0.3621621621621622,0.33366093366093363,0.3405171405171405],\"yaxis\":\"y\",\"type\":\"scatter\"},{\"hovertemplate\":\"Team=Charlotte Knights<br>year=%{x}<br>Attendance/Capacity Ratio=%{y}<extra></extra>\",\"legendgroup\":\"Charlotte Knights\",\"line\":{\"color\":\"#FFA15A\",\"dash\":\"solid\"},\"marker\":{\"symbol\":\"circle\"},\"mode\":\"lines\",\"name\":\"Charlotte Knights\",\"orientation\":\"v\",\"showlegend\":true,\"x\":[\"2014\",\"2015\",\"2016\",\"2017\",\"2018\",\"2019\"],\"xaxis\":\"x\",\"y\":[0.9364705882352942,0.9114705882352941,0.8553921568627451,0.8678431372549019,0.8741176470588236,0.8196078431372549],\"yaxis\":\"y\",\"type\":\"scatter\"}],                        {\"template\":{\"data\":{\"histogram2dcontour\":[{\"type\":\"histogram2dcontour\",\"colorbar\":{\"outlinewidth\":0,\"ticks\":\"\"},\"colorscale\":[[0.0,\"#0d0887\"],[0.1111111111111111,\"#46039f\"],[0.2222222222222222,\"#7201a8\"],[0.3333333333333333,\"#9c179e\"],[0.4444444444444444,\"#bd3786\"],[0.5555555555555556,\"#d8576b\"],[0.6666666666666666,\"#ed7953\"],[0.7777777777777778,\"#fb9f3a\"],[0.8888888888888888,\"#fdca26\"],[1.0,\"#f0f921\"]]}],\"choropleth\":[{\"type\":\"choropleth\",\"colorbar\":{\"outlinewidth\":0,\"ticks\":\"\"}}],\"histogram2d\":[{\"type\":\"histogram2d\",\"colorbar\":{\"outlinewidth\":0,\"ticks\":\"\"},\"colorscale\":[[0.0,\"#0d0887\"],[0.1111111111111111,\"#46039f\"],[0.2222222222222222,\"#7201a8\"],[0.3333333333333333,\"#9c179e\"],[0.4444444444444444,\"#bd3786\"],[0.5555555555555556,\"#d8576b\"],[0.6666666666666666,\"#ed7953\"],[0.7777777777777778,\"#fb9f3a\"],[0.8888888888888888,\"#fdca26\"],[1.0,\"#f0f921\"]]}],\"heatmap\":[{\"type\":\"heatmap\",\"colorbar\":{\"outlinewidth\":0,\"ticks\":\"\"},\"colorscale\":[[0.0,\"#0d0887\"],[0.1111111111111111,\"#46039f\"],[0.2222222222222222,\"#7201a8\"],[0.3333333333333333,\"#9c179e\"],[0.4444444444444444,\"#bd3786\"],[0.5555555555555556,\"#d8576b\"],[0.6666666666666666,\"#ed7953\"],[0.7777777777777778,\"#fb9f3a\"],[0.8888888888888888,\"#fdca26\"],[1.0,\"#f0f921\"]]}],\"heatmapgl\":[{\"type\":\"heatmapgl\",\"colorbar\":{\"outlinewidth\":0,\"ticks\":\"\"},\"colorscale\":[[0.0,\"#0d0887\"],[0.1111111111111111,\"#46039f\"],[0.2222222222222222,\"#7201a8\"],[0.3333333333333333,\"#9c179e\"],[0.4444444444444444,\"#bd3786\"],[0.5555555555555556,\"#d8576b\"],[0.6666666666666666,\"#ed7953\"],[0.7777777777777778,\"#fb9f3a\"],[0.8888888888888888,\"#fdca26\"],[1.0,\"#f0f921\"]]}],\"contourcarpet\":[{\"type\":\"contourcarpet\",\"colorbar\":{\"outlinewidth\":0,\"ticks\":\"\"}}],\"contour\":[{\"type\":\"contour\",\"colorbar\":{\"outlinewidth\":0,\"ticks\":\"\"},\"colorscale\":[[0.0,\"#0d0887\"],[0.1111111111111111,\"#46039f\"],[0.2222222222222222,\"#7201a8\"],[0.3333333333333333,\"#9c179e\"],[0.4444444444444444,\"#bd3786\"],[0.5555555555555556,\"#d8576b\"],[0.6666666666666666,\"#ed7953\"],[0.7777777777777778,\"#fb9f3a\"],[0.8888888888888888,\"#fdca26\"],[1.0,\"#f0f921\"]]}],\"surface\":[{\"type\":\"surface\",\"colorbar\":{\"outlinewidth\":0,\"ticks\":\"\"},\"colorscale\":[[0.0,\"#0d0887\"],[0.1111111111111111,\"#46039f\"],[0.2222222222222222,\"#7201a8\"],[0.3333333333333333,\"#9c179e\"],[0.4444444444444444,\"#bd3786\"],[0.5555555555555556,\"#d8576b\"],[0.6666666666666666,\"#ed7953\"],[0.7777777777777778,\"#fb9f3a\"],[0.8888888888888888,\"#fdca26\"],[1.0,\"#f0f921\"]]}],\"mesh3d\":[{\"type\":\"mesh3d\",\"colorbar\":{\"outlinewidth\":0,\"ticks\":\"\"}}],\"scatter\":[{\"fillpattern\":{\"fillmode\":\"overlay\",\"size\":10,\"solidity\":0.2},\"type\":\"scatter\"}],\"parcoords\":[{\"type\":\"parcoords\",\"line\":{\"colorbar\":{\"outlinewidth\":0,\"ticks\":\"\"}}}],\"scatterpolargl\":[{\"type\":\"scatterpolargl\",\"marker\":{\"colorbar\":{\"outlinewidth\":0,\"ticks\":\"\"}}}],\"bar\":[{\"error_x\":{\"color\":\"#2a3f5f\"},\"error_y\":{\"color\":\"#2a3f5f\"},\"marker\":{\"line\":{\"color\":\"#E5ECF6\",\"width\":0.5},\"pattern\":{\"fillmode\":\"overlay\",\"size\":10,\"solidity\":0.2}},\"type\":\"bar\"}],\"scattergeo\":[{\"type\":\"scattergeo\",\"marker\":{\"colorbar\":{\"outlinewidth\":0,\"ticks\":\"\"}}}],\"scatterpolar\":[{\"type\":\"scatterpolar\",\"marker\":{\"colorbar\":{\"outlinewidth\":0,\"ticks\":\"\"}}}],\"histogram\":[{\"marker\":{\"pattern\":{\"fillmode\":\"overlay\",\"size\":10,\"solidity\":0.2}},\"type\":\"histogram\"}],\"scattergl\":[{\"type\":\"scattergl\",\"marker\":{\"colorbar\":{\"outlinewidth\":0,\"ticks\":\"\"}}}],\"scatter3d\":[{\"type\":\"scatter3d\",\"line\":{\"colorbar\":{\"outlinewidth\":0,\"ticks\":\"\"}},\"marker\":{\"colorbar\":{\"outlinewidth\":0,\"ticks\":\"\"}}}],\"scattermapbox\":[{\"type\":\"scattermapbox\",\"marker\":{\"colorbar\":{\"outlinewidth\":0,\"ticks\":\"\"}}}],\"scatterternary\":[{\"type\":\"scatterternary\",\"marker\":{\"colorbar\":{\"outlinewidth\":0,\"ticks\":\"\"}}}],\"scattercarpet\":[{\"type\":\"scattercarpet\",\"marker\":{\"colorbar\":{\"outlinewidth\":0,\"ticks\":\"\"}}}],\"carpet\":[{\"aaxis\":{\"endlinecolor\":\"#2a3f5f\",\"gridcolor\":\"white\",\"linecolor\":\"white\",\"minorgridcolor\":\"white\",\"startlinecolor\":\"#2a3f5f\"},\"baxis\":{\"endlinecolor\":\"#2a3f5f\",\"gridcolor\":\"white\",\"linecolor\":\"white\",\"minorgridcolor\":\"white\",\"startlinecolor\":\"#2a3f5f\"},\"type\":\"carpet\"}],\"table\":[{\"cells\":{\"fill\":{\"color\":\"#EBF0F8\"},\"line\":{\"color\":\"white\"}},\"header\":{\"fill\":{\"color\":\"#C8D4E3\"},\"line\":{\"color\":\"white\"}},\"type\":\"table\"}],\"barpolar\":[{\"marker\":{\"line\":{\"color\":\"#E5ECF6\",\"width\":0.5},\"pattern\":{\"fillmode\":\"overlay\",\"size\":10,\"solidity\":0.2}},\"type\":\"barpolar\"}],\"pie\":[{\"automargin\":true,\"type\":\"pie\"}]},\"layout\":{\"autotypenumbers\":\"strict\",\"colorway\":[\"#636efa\",\"#EF553B\",\"#00cc96\",\"#ab63fa\",\"#FFA15A\",\"#19d3f3\",\"#FF6692\",\"#B6E880\",\"#FF97FF\",\"#FECB52\"],\"font\":{\"color\":\"#2a3f5f\"},\"hovermode\":\"closest\",\"hoverlabel\":{\"align\":\"left\"},\"paper_bgcolor\":\"white\",\"plot_bgcolor\":\"#E5ECF6\",\"polar\":{\"bgcolor\":\"#E5ECF6\",\"angularaxis\":{\"gridcolor\":\"white\",\"linecolor\":\"white\",\"ticks\":\"\"},\"radialaxis\":{\"gridcolor\":\"white\",\"linecolor\":\"white\",\"ticks\":\"\"}},\"ternary\":{\"bgcolor\":\"#E5ECF6\",\"aaxis\":{\"gridcolor\":\"white\",\"linecolor\":\"white\",\"ticks\":\"\"},\"baxis\":{\"gridcolor\":\"white\",\"linecolor\":\"white\",\"ticks\":\"\"},\"caxis\":{\"gridcolor\":\"white\",\"linecolor\":\"white\",\"ticks\":\"\"}},\"coloraxis\":{\"colorbar\":{\"outlinewidth\":0,\"ticks\":\"\"}},\"colorscale\":{\"sequential\":[[0.0,\"#0d0887\"],[0.1111111111111111,\"#46039f\"],[0.2222222222222222,\"#7201a8\"],[0.3333333333333333,\"#9c179e\"],[0.4444444444444444,\"#bd3786\"],[0.5555555555555556,\"#d8576b\"],[0.6666666666666666,\"#ed7953\"],[0.7777777777777778,\"#fb9f3a\"],[0.8888888888888888,\"#fdca26\"],[1.0,\"#f0f921\"]],\"sequentialminus\":[[0.0,\"#0d0887\"],[0.1111111111111111,\"#46039f\"],[0.2222222222222222,\"#7201a8\"],[0.3333333333333333,\"#9c179e\"],[0.4444444444444444,\"#bd3786\"],[0.5555555555555556,\"#d8576b\"],[0.6666666666666666,\"#ed7953\"],[0.7777777777777778,\"#fb9f3a\"],[0.8888888888888888,\"#fdca26\"],[1.0,\"#f0f921\"]],\"diverging\":[[0,\"#8e0152\"],[0.1,\"#c51b7d\"],[0.2,\"#de77ae\"],[0.3,\"#f1b6da\"],[0.4,\"#fde0ef\"],[0.5,\"#f7f7f7\"],[0.6,\"#e6f5d0\"],[0.7,\"#b8e186\"],[0.8,\"#7fbc41\"],[0.9,\"#4d9221\"],[1,\"#276419\"]]},\"xaxis\":{\"gridcolor\":\"white\",\"linecolor\":\"white\",\"ticks\":\"\",\"title\":{\"standoff\":15},\"zerolinecolor\":\"white\",\"automargin\":true,\"zerolinewidth\":2},\"yaxis\":{\"gridcolor\":\"white\",\"linecolor\":\"white\",\"ticks\":\"\",\"title\":{\"standoff\":15},\"zerolinecolor\":\"white\",\"automargin\":true,\"zerolinewidth\":2},\"scene\":{\"xaxis\":{\"backgroundcolor\":\"#E5ECF6\",\"gridcolor\":\"white\",\"linecolor\":\"white\",\"showbackground\":true,\"ticks\":\"\",\"zerolinecolor\":\"white\",\"gridwidth\":2},\"yaxis\":{\"backgroundcolor\":\"#E5ECF6\",\"gridcolor\":\"white\",\"linecolor\":\"white\",\"showbackground\":true,\"ticks\":\"\",\"zerolinecolor\":\"white\",\"gridwidth\":2},\"zaxis\":{\"backgroundcolor\":\"#E5ECF6\",\"gridcolor\":\"white\",\"linecolor\":\"white\",\"showbackground\":true,\"ticks\":\"\",\"zerolinecolor\":\"white\",\"gridwidth\":2}},\"shapedefaults\":{\"line\":{\"color\":\"#2a3f5f\"}},\"annotationdefaults\":{\"arrowcolor\":\"#2a3f5f\",\"arrowhead\":0,\"arrowwidth\":1},\"geo\":{\"bgcolor\":\"white\",\"landcolor\":\"#E5ECF6\",\"subunitcolor\":\"white\",\"showland\":true,\"showlakes\":true,\"lakecolor\":\"white\"},\"title\":{\"x\":0.05},\"mapbox\":{\"style\":\"light\"}}},\"xaxis\":{\"anchor\":\"y\",\"domain\":[0.0,1.0],\"title\":{\"text\":\"year\"}},\"yaxis\":{\"anchor\":\"x\",\"domain\":[0.0,1.0],\"title\":{\"text\":\"Attendance/Capacity Ratio\"}},\"legend\":{\"title\":{\"text\":\"Team\"},\"tracegroupgap\":0},\"title\":{\"text\":\"Percentage of Stadium Filled for Each Team\"}},                        {\"responsive\": true}                    ).then(function(){\n",
       "                            \n",
       "var gd = document.getElementById('565c1b8c-0ebd-41d4-b557-f53a4cc07337');\n",
       "var x = new MutationObserver(function (mutations, observer) {{\n",
       "        var display = window.getComputedStyle(gd).display;\n",
       "        if (!display || display === 'none') {{\n",
       "            console.log([gd, 'removed!']);\n",
       "            Plotly.purge(gd);\n",
       "            observer.disconnect();\n",
       "        }}\n",
       "}});\n",
       "\n",
       "// Listen for the removal of the full notebook cells\n",
       "var notebookContainer = gd.closest('#notebook-container');\n",
       "if (notebookContainer) {{\n",
       "    x.observe(notebookContainer, {childList: true});\n",
       "}}\n",
       "\n",
       "// Listen for the clearing of the current output cell\n",
       "var outputEl = gd.closest('.output');\n",
       "if (outputEl) {{\n",
       "    x.observe(outputEl, {childList: true});\n",
       "}}\n",
       "\n",
       "                        })                };                });            </script>        </div>"
      ]
     },
     "metadata": {},
     "output_type": "display_data"
    }
   ],
   "source": [
    "fig = px.line(att_cap, x='year', y='Attendance/Capacity Ratio', color='Team', title='Percentage of Stadium Filled for Each Team')\n",
    "fig.show()"
   ]
  },
  {
   "cell_type": "code",
   "execution_count": 170,
   "id": "d65538f3",
   "metadata": {},
   "outputs": [
    {
     "data": {
      "text/html": [
       "<div>\n",
       "<style scoped>\n",
       "    .dataframe tbody tr th:only-of-type {\n",
       "        vertical-align: middle;\n",
       "    }\n",
       "\n",
       "    .dataframe tbody tr th {\n",
       "        vertical-align: top;\n",
       "    }\n",
       "\n",
       "    .dataframe thead th {\n",
       "        text-align: right;\n",
       "    }\n",
       "</style>\n",
       "<table border=\"1\" class=\"dataframe\">\n",
       "  <thead>\n",
       "    <tr style=\"text-align: right;\">\n",
       "      <th></th>\n",
       "      <th>#</th>\n",
       "      <th>Stadium</th>\n",
       "      <th>Capacity</th>\n",
       "      <th>City</th>\n",
       "      <th>State</th>\n",
       "      <th>Home Team(s)</th>\n",
       "      <th>League(s)</th>\n",
       "    </tr>\n",
       "  </thead>\n",
       "  <tbody>\n",
       "    <tr>\n",
       "      <th>70</th>\n",
       "      <td>72</td>\n",
       "      <td>Truist Field</td>\n",
       "      <td>10200</td>\n",
       "      <td>Charlotte</td>\n",
       "      <td>North Carolina</td>\n",
       "      <td>Charlotte Knights</td>\n",
       "      <td>International League</td>\n",
       "    </tr>\n",
       "  </tbody>\n",
       "</table>\n",
       "</div>"
      ],
      "text/plain": [
       "     #       Stadium  Capacity       City           State       Home Team(s)  \\\n",
       "70  72  Truist Field     10200  Charlotte  North Carolina  Charlotte Knights   \n",
       "\n",
       "               League(s)  \n",
       "70  International League  "
      ]
     },
     "execution_count": 170,
     "metadata": {},
     "output_type": "execute_result"
    }
   ],
   "source": [
    "# Split capacities into MLB and Minor League\n",
    "mlb_capacities = capacities.loc[capacities['League(s)'].isin(['National League (MLB)','American League (MLB)'])]\n",
    "minor_capacities = capacities.loc[~capacities['League(s)'].isin(['National League (MLB)','American League (MLB)'])]\n",
    "minor_capacities.loc[minor_capacities['Home Team(s)']=='Charlotte Knights']"
   ]
  },
  {
   "cell_type": "code",
   "execution_count": 171,
   "id": "94d71a56",
   "metadata": {
    "scrolled": true
   },
   "outputs": [
    {
     "data": {
      "text/html": [
       "<div>\n",
       "<style scoped>\n",
       "    .dataframe tbody tr th:only-of-type {\n",
       "        vertical-align: middle;\n",
       "    }\n",
       "\n",
       "    .dataframe tbody tr th {\n",
       "        vertical-align: top;\n",
       "    }\n",
       "\n",
       "    .dataframe thead th {\n",
       "        text-align: right;\n",
       "    }\n",
       "</style>\n",
       "<table border=\"1\" class=\"dataframe\">\n",
       "  <thead>\n",
       "    <tr style=\"text-align: right;\">\n",
       "      <th></th>\n",
       "      <th>year</th>\n",
       "      <th>Team</th>\n",
       "      <th>Attendance</th>\n",
       "      <th>Att Per Game</th>\n",
       "      <th>#</th>\n",
       "      <th>Stadium</th>\n",
       "      <th>Capacity</th>\n",
       "      <th>City</th>\n",
       "      <th>State</th>\n",
       "      <th>Home Team(s)</th>\n",
       "      <th>League(s)</th>\n",
       "      <th>Attendance/Capacity</th>\n",
       "    </tr>\n",
       "  </thead>\n",
       "  <tbody>\n",
       "    <tr>\n",
       "      <th>76</th>\n",
       "      <td>2018</td>\n",
       "      <td>Miami Marlins</td>\n",
       "      <td>811104</td>\n",
       "      <td>10014</td>\n",
       "      <td>29</td>\n",
       "      <td>loanDepot park</td>\n",
       "      <td>37442</td>\n",
       "      <td>Miami</td>\n",
       "      <td>Florida</td>\n",
       "      <td>Miami Marlins</td>\n",
       "      <td>National League (MLB)</td>\n",
       "      <td>0.267454</td>\n",
       "    </tr>\n",
       "    <tr>\n",
       "      <th>77</th>\n",
       "      <td>2019</td>\n",
       "      <td>Miami Marlins</td>\n",
       "      <td>811302</td>\n",
       "      <td>10016</td>\n",
       "      <td>29</td>\n",
       "      <td>loanDepot park</td>\n",
       "      <td>37442</td>\n",
       "      <td>Miami</td>\n",
       "      <td>Florida</td>\n",
       "      <td>Miami Marlins</td>\n",
       "      <td>National League (MLB)</td>\n",
       "      <td>0.267507</td>\n",
       "    </tr>\n",
       "    <tr>\n",
       "      <th>105</th>\n",
       "      <td>2017</td>\n",
       "      <td>Oakland Athletics</td>\n",
       "      <td>1475721</td>\n",
       "      <td>18219</td>\n",
       "      <td>1</td>\n",
       "      <td>Oakland Coliseum</td>\n",
       "      <td>56782</td>\n",
       "      <td>Oakland</td>\n",
       "      <td>California</td>\n",
       "      <td>Oakland Athletics</td>\n",
       "      <td>American League (MLB)</td>\n",
       "      <td>0.320859</td>\n",
       "    </tr>\n",
       "    <tr>\n",
       "      <th>104</th>\n",
       "      <td>2016</td>\n",
       "      <td>Oakland Athletics</td>\n",
       "      <td>1521506</td>\n",
       "      <td>18784</td>\n",
       "      <td>1</td>\n",
       "      <td>Oakland Coliseum</td>\n",
       "      <td>56782</td>\n",
       "      <td>Oakland</td>\n",
       "      <td>California</td>\n",
       "      <td>Oakland Athletics</td>\n",
       "      <td>American League (MLB)</td>\n",
       "      <td>0.330809</td>\n",
       "    </tr>\n",
       "    <tr>\n",
       "      <th>148</th>\n",
       "      <td>2018</td>\n",
       "      <td>Tampa Bay Rays</td>\n",
       "      <td>1154973</td>\n",
       "      <td>14259</td>\n",
       "      <td>11</td>\n",
       "      <td>Tropicana Field</td>\n",
       "      <td>42735</td>\n",
       "      <td>St. Petersburg</td>\n",
       "      <td>Florida</td>\n",
       "      <td>Tampa Bay Rays</td>\n",
       "      <td>American League (MLB)</td>\n",
       "      <td>0.333661</td>\n",
       "    </tr>\n",
       "    <tr>\n",
       "      <th>...</th>\n",
       "      <td>...</td>\n",
       "      <td>...</td>\n",
       "      <td>...</td>\n",
       "      <td>...</td>\n",
       "      <td>...</td>\n",
       "      <td>...</td>\n",
       "      <td>...</td>\n",
       "      <td>...</td>\n",
       "      <td>...</td>\n",
       "      <td>...</td>\n",
       "      <td>...</td>\n",
       "      <td>...</td>\n",
       "    </tr>\n",
       "    <tr>\n",
       "      <th>18</th>\n",
       "      <td>2014</td>\n",
       "      <td>Boston Red Sox</td>\n",
       "      <td>2956089</td>\n",
       "      <td>36495</td>\n",
       "      <td>28</td>\n",
       "      <td>Fenway Park</td>\n",
       "      <td>37755</td>\n",
       "      <td>Boston</td>\n",
       "      <td>Massachusetts</td>\n",
       "      <td>Boston Red Sox</td>\n",
       "      <td>American League (MLB)</td>\n",
       "      <td>0.966627</td>\n",
       "    </tr>\n",
       "    <tr>\n",
       "      <th>135</th>\n",
       "      <td>2017</td>\n",
       "      <td>San Francisco Giants</td>\n",
       "      <td>3303652</td>\n",
       "      <td>40786</td>\n",
       "      <td>17</td>\n",
       "      <td>Oracle Park</td>\n",
       "      <td>41265</td>\n",
       "      <td>San Francisco</td>\n",
       "      <td>California</td>\n",
       "      <td>San Francisco Giants</td>\n",
       "      <td>National League (MLB)</td>\n",
       "      <td>0.988392</td>\n",
       "    </tr>\n",
       "    <tr>\n",
       "      <th>134</th>\n",
       "      <td>2016</td>\n",
       "      <td>San Francisco Giants</td>\n",
       "      <td>3365256</td>\n",
       "      <td>41546</td>\n",
       "      <td>17</td>\n",
       "      <td>Oracle Park</td>\n",
       "      <td>41265</td>\n",
       "      <td>San Francisco</td>\n",
       "      <td>California</td>\n",
       "      <td>San Francisco Giants</td>\n",
       "      <td>National League (MLB)</td>\n",
       "      <td>1.006810</td>\n",
       "    </tr>\n",
       "    <tr>\n",
       "      <th>132</th>\n",
       "      <td>2014</td>\n",
       "      <td>San Francisco Giants</td>\n",
       "      <td>3368697</td>\n",
       "      <td>41589</td>\n",
       "      <td>17</td>\n",
       "      <td>Oracle Park</td>\n",
       "      <td>41265</td>\n",
       "      <td>San Francisco</td>\n",
       "      <td>California</td>\n",
       "      <td>San Francisco Giants</td>\n",
       "      <td>National League (MLB)</td>\n",
       "      <td>1.007852</td>\n",
       "    </tr>\n",
       "    <tr>\n",
       "      <th>133</th>\n",
       "      <td>2015</td>\n",
       "      <td>San Francisco Giants</td>\n",
       "      <td>3375882</td>\n",
       "      <td>41678</td>\n",
       "      <td>17</td>\n",
       "      <td>Oracle Park</td>\n",
       "      <td>41265</td>\n",
       "      <td>San Francisco</td>\n",
       "      <td>California</td>\n",
       "      <td>San Francisco Giants</td>\n",
       "      <td>National League (MLB)</td>\n",
       "      <td>1.010008</td>\n",
       "    </tr>\n",
       "  </tbody>\n",
       "</table>\n",
       "<p>166 rows × 12 columns</p>\n",
       "</div>"
      ],
      "text/plain": [
       "     year                  Team  Attendance  Att Per Game   #  \\\n",
       "76   2018         Miami Marlins      811104         10014  29   \n",
       "77   2019         Miami Marlins      811302         10016  29   \n",
       "105  2017     Oakland Athletics     1475721         18219   1   \n",
       "104  2016     Oakland Athletics     1521506         18784   1   \n",
       "148  2018        Tampa Bay Rays     1154973         14259  11   \n",
       "..    ...                   ...         ...           ...  ..   \n",
       "18   2014        Boston Red Sox     2956089         36495  28   \n",
       "135  2017  San Francisco Giants     3303652         40786  17   \n",
       "134  2016  San Francisco Giants     3365256         41546  17   \n",
       "132  2014  San Francisco Giants     3368697         41589  17   \n",
       "133  2015  San Francisco Giants     3375882         41678  17   \n",
       "\n",
       "              Stadium  Capacity            City          State  \\\n",
       "76     loanDepot park     37442           Miami        Florida   \n",
       "77     loanDepot park     37442           Miami        Florida   \n",
       "105  Oakland Coliseum     56782         Oakland     California   \n",
       "104  Oakland Coliseum     56782         Oakland     California   \n",
       "148   Tropicana Field     42735  St. Petersburg        Florida   \n",
       "..                ...       ...             ...            ...   \n",
       "18        Fenway Park     37755          Boston  Massachusetts   \n",
       "135       Oracle Park     41265   San Francisco     California   \n",
       "134       Oracle Park     41265   San Francisco     California   \n",
       "132       Oracle Park     41265   San Francisco     California   \n",
       "133       Oracle Park     41265   San Francisco     California   \n",
       "\n",
       "             Home Team(s)              League(s)  Attendance/Capacity  \n",
       "76          Miami Marlins  National League (MLB)             0.267454  \n",
       "77          Miami Marlins  National League (MLB)             0.267507  \n",
       "105     Oakland Athletics  American League (MLB)             0.320859  \n",
       "104     Oakland Athletics  American League (MLB)             0.330809  \n",
       "148        Tampa Bay Rays  American League (MLB)             0.333661  \n",
       "..                    ...                    ...                  ...  \n",
       "18         Boston Red Sox  American League (MLB)             0.966627  \n",
       "135  San Francisco Giants  National League (MLB)             0.988392  \n",
       "134  San Francisco Giants  National League (MLB)             1.006810  \n",
       "132  San Francisco Giants  National League (MLB)             1.007852  \n",
       "133  San Francisco Giants  National League (MLB)             1.010008  \n",
       "\n",
       "[166 rows x 12 columns]"
      ]
     },
     "execution_count": 171,
     "metadata": {},
     "output_type": "execute_result"
    }
   ],
   "source": [
    "mlb_att_cap = mlb_att.merge(mlb_capacities, left_on='Team', right_on='Home Team(s)')\n",
    "mlb_att_cap['Attendance/Capacity'] = mlb_att_cap['Att Per Game']/mlb_att_cap['Capacity']\n",
    "mlb_att_cap.sort_values(by='Attendance/Capacity')"
   ]
  },
  {
   "cell_type": "code",
   "execution_count": 173,
   "id": "b11fd52f",
   "metadata": {
    "scrolled": true
   },
   "outputs": [
    {
     "data": {
      "text/html": [
       "<div>\n",
       "<style scoped>\n",
       "    .dataframe tbody tr th:only-of-type {\n",
       "        vertical-align: middle;\n",
       "    }\n",
       "\n",
       "    .dataframe tbody tr th {\n",
       "        vertical-align: top;\n",
       "    }\n",
       "\n",
       "    .dataframe thead th {\n",
       "        text-align: right;\n",
       "    }\n",
       "</style>\n",
       "<table border=\"1\" class=\"dataframe\">\n",
       "  <thead>\n",
       "    <tr style=\"text-align: right;\">\n",
       "      <th></th>\n",
       "      <th>year</th>\n",
       "      <th>teamname</th>\n",
       "      <th>mlb</th>\n",
       "      <th>leaguename</th>\n",
       "      <th>level</th>\n",
       "      <th>place</th>\n",
       "      <th>g</th>\n",
       "      <th>w</th>\n",
       "      <th>l</th>\n",
       "      <th>home</th>\n",
       "      <th>attend.</th>\n",
       "      <th>avg att</th>\n",
       "      <th>#</th>\n",
       "      <th>Stadium</th>\n",
       "      <th>Capacity</th>\n",
       "      <th>City</th>\n",
       "      <th>State</th>\n",
       "      <th>Home Team(s)</th>\n",
       "      <th>League(s)</th>\n",
       "      <th>Attendance/Capacity</th>\n",
       "    </tr>\n",
       "  </thead>\n",
       "  <tbody>\n",
       "    <tr>\n",
       "      <th>6</th>\n",
       "      <td>2014</td>\n",
       "      <td>Charlotte Knights</td>\n",
       "      <td>CHA</td>\n",
       "      <td>International League</td>\n",
       "      <td>AAA</td>\n",
       "      <td>Charlotte,North Carolina</td>\n",
       "      <td>144</td>\n",
       "      <td>63</td>\n",
       "      <td>81</td>\n",
       "      <td>72</td>\n",
       "      <td>687715.0</td>\n",
       "      <td>9552.0</td>\n",
       "      <td>72</td>\n",
       "      <td>Truist Field</td>\n",
       "      <td>10200</td>\n",
       "      <td>Charlotte</td>\n",
       "      <td>North Carolina</td>\n",
       "      <td>Charlotte Knights</td>\n",
       "      <td>International League</td>\n",
       "      <td>0.936471</td>\n",
       "    </tr>\n",
       "    <tr>\n",
       "      <th>599</th>\n",
       "      <td>2019</td>\n",
       "      <td>Las Vegas Aviators</td>\n",
       "      <td>OAK</td>\n",
       "      <td>Pacific Coast League</td>\n",
       "      <td>AAA</td>\n",
       "      <td>Las Vegas,Nevada</td>\n",
       "      <td>140</td>\n",
       "      <td>83</td>\n",
       "      <td>57</td>\n",
       "      <td>70</td>\n",
       "      <td>650934.0</td>\n",
       "      <td>9299.0</td>\n",
       "      <td>76</td>\n",
       "      <td>Las Vegas Ballpark</td>\n",
       "      <td>10000</td>\n",
       "      <td>Las Vegas</td>\n",
       "      <td>Nevada</td>\n",
       "      <td>Las Vegas Aviators</td>\n",
       "      <td>Pacific Coast League</td>\n",
       "      <td>0.929900</td>\n",
       "    </tr>\n",
       "    <tr>\n",
       "      <th>7</th>\n",
       "      <td>2015</td>\n",
       "      <td>Charlotte Knights</td>\n",
       "      <td>CHA</td>\n",
       "      <td>International League</td>\n",
       "      <td>AAA</td>\n",
       "      <td>Charlotte,North Carolina</td>\n",
       "      <td>144</td>\n",
       "      <td>74</td>\n",
       "      <td>70</td>\n",
       "      <td>72</td>\n",
       "      <td>669398.0</td>\n",
       "      <td>9297.0</td>\n",
       "      <td>72</td>\n",
       "      <td>Truist Field</td>\n",
       "      <td>10200</td>\n",
       "      <td>Charlotte</td>\n",
       "      <td>North Carolina</td>\n",
       "      <td>Charlotte Knights</td>\n",
       "      <td>International League</td>\n",
       "      <td>0.911471</td>\n",
       "    </tr>\n",
       "    <tr>\n",
       "      <th>10</th>\n",
       "      <td>2018</td>\n",
       "      <td>Charlotte Knights</td>\n",
       "      <td>CHA</td>\n",
       "      <td>International League</td>\n",
       "      <td>AAA</td>\n",
       "      <td>Charlotte,North Carolina</td>\n",
       "      <td>139</td>\n",
       "      <td>64</td>\n",
       "      <td>75</td>\n",
       "      <td>69</td>\n",
       "      <td>619639.0</td>\n",
       "      <td>8916.0</td>\n",
       "      <td>72</td>\n",
       "      <td>Truist Field</td>\n",
       "      <td>10200</td>\n",
       "      <td>Charlotte</td>\n",
       "      <td>North Carolina</td>\n",
       "      <td>Charlotte Knights</td>\n",
       "      <td>International League</td>\n",
       "      <td>0.874118</td>\n",
       "    </tr>\n",
       "    <tr>\n",
       "      <th>9</th>\n",
       "      <td>2017</td>\n",
       "      <td>Charlotte Knights</td>\n",
       "      <td>CHA</td>\n",
       "      <td>International League</td>\n",
       "      <td>AAA</td>\n",
       "      <td>Charlotte,North Carolina</td>\n",
       "      <td>142</td>\n",
       "      <td>61</td>\n",
       "      <td>81</td>\n",
       "      <td>71</td>\n",
       "      <td>628526.0</td>\n",
       "      <td>8852.0</td>\n",
       "      <td>72</td>\n",
       "      <td>Truist Field</td>\n",
       "      <td>10200</td>\n",
       "      <td>Charlotte</td>\n",
       "      <td>North Carolina</td>\n",
       "      <td>Charlotte Knights</td>\n",
       "      <td>International League</td>\n",
       "      <td>0.867843</td>\n",
       "    </tr>\n",
       "    <tr>\n",
       "      <th>...</th>\n",
       "      <td>...</td>\n",
       "      <td>...</td>\n",
       "      <td>...</td>\n",
       "      <td>...</td>\n",
       "      <td>...</td>\n",
       "      <td>...</td>\n",
       "      <td>...</td>\n",
       "      <td>...</td>\n",
       "      <td>...</td>\n",
       "      <td>...</td>\n",
       "      <td>...</td>\n",
       "      <td>...</td>\n",
       "      <td>...</td>\n",
       "      <td>...</td>\n",
       "      <td>...</td>\n",
       "      <td>...</td>\n",
       "      <td>...</td>\n",
       "      <td>...</td>\n",
       "      <td>...</td>\n",
       "      <td>...</td>\n",
       "    </tr>\n",
       "    <tr>\n",
       "      <th>598</th>\n",
       "      <td>2019</td>\n",
       "      <td>Syracuse Mets</td>\n",
       "      <td>NYN</td>\n",
       "      <td>International League</td>\n",
       "      <td>AAA</td>\n",
       "      <td>Syracuse,New York</td>\n",
       "      <td>141</td>\n",
       "      <td>75</td>\n",
       "      <td>66</td>\n",
       "      <td>70</td>\n",
       "      <td>327478.0</td>\n",
       "      <td>4645.0</td>\n",
       "      <td>54</td>\n",
       "      <td>NBT Bank Stadium</td>\n",
       "      <td>11117</td>\n",
       "      <td>Syracuse</td>\n",
       "      <td>New York</td>\n",
       "      <td>Syracuse Mets</td>\n",
       "      <td>International League</td>\n",
       "      <td>0.417829</td>\n",
       "    </tr>\n",
       "    <tr>\n",
       "      <th>40</th>\n",
       "      <td>2018</td>\n",
       "      <td>Norfolk Tides</td>\n",
       "      <td>BAL</td>\n",
       "      <td>International League</td>\n",
       "      <td>AAA</td>\n",
       "      <td>Norfolk,Virginia</td>\n",
       "      <td>140</td>\n",
       "      <td>69</td>\n",
       "      <td>71</td>\n",
       "      <td>70</td>\n",
       "      <td>341369.0</td>\n",
       "      <td>4877.0</td>\n",
       "      <td>50</td>\n",
       "      <td>Harbor Park</td>\n",
       "      <td>11856</td>\n",
       "      <td>Norfolk</td>\n",
       "      <td>Virginia</td>\n",
       "      <td>Norfolk Tides</td>\n",
       "      <td>International League</td>\n",
       "      <td>0.411353</td>\n",
       "    </tr>\n",
       "    <tr>\n",
       "      <th>85</th>\n",
       "      <td>2015</td>\n",
       "      <td>Memphis Redbirds</td>\n",
       "      <td>SLN</td>\n",
       "      <td>Pacific Coast League</td>\n",
       "      <td>AAA</td>\n",
       "      <td>Memphis,Tennessee</td>\n",
       "      <td>144</td>\n",
       "      <td>73</td>\n",
       "      <td>71</td>\n",
       "      <td>72</td>\n",
       "      <td>278579.0</td>\n",
       "      <td>3869.0</td>\n",
       "      <td>76</td>\n",
       "      <td>AutoZone Park</td>\n",
       "      <td>10000</td>\n",
       "      <td>Memphis</td>\n",
       "      <td>Tennessee</td>\n",
       "      <td>Memphis Redbirds</td>\n",
       "      <td>International League</td>\n",
       "      <td>0.386900</td>\n",
       "    </tr>\n",
       "    <tr>\n",
       "      <th>597</th>\n",
       "      <td>2019</td>\n",
       "      <td>Gwinnett Stripers</td>\n",
       "      <td>ATL</td>\n",
       "      <td>International League</td>\n",
       "      <td>AAA</td>\n",
       "      <td>Gwinnett,Georgia</td>\n",
       "      <td>139</td>\n",
       "      <td>80</td>\n",
       "      <td>59</td>\n",
       "      <td>69</td>\n",
       "      <td>212342.0</td>\n",
       "      <td>3055.0</td>\n",
       "      <td>67</td>\n",
       "      <td>Coolray Field</td>\n",
       "      <td>10427</td>\n",
       "      <td>Lawrenceville</td>\n",
       "      <td>Georgia</td>\n",
       "      <td>Gwinnett Stripers</td>\n",
       "      <td>International League</td>\n",
       "      <td>0.292989</td>\n",
       "    </tr>\n",
       "    <tr>\n",
       "      <th>596</th>\n",
       "      <td>2018</td>\n",
       "      <td>Gwinnett Stripers</td>\n",
       "      <td>ATL</td>\n",
       "      <td>International League</td>\n",
       "      <td>AAA</td>\n",
       "      <td>Gwinnett,Georgia</td>\n",
       "      <td>139</td>\n",
       "      <td>70</td>\n",
       "      <td>69</td>\n",
       "      <td>69</td>\n",
       "      <td>195955.0</td>\n",
       "      <td>2819.0</td>\n",
       "      <td>67</td>\n",
       "      <td>Coolray Field</td>\n",
       "      <td>10427</td>\n",
       "      <td>Lawrenceville</td>\n",
       "      <td>Georgia</td>\n",
       "      <td>Gwinnett Stripers</td>\n",
       "      <td>International League</td>\n",
       "      <td>0.270356</td>\n",
       "    </tr>\n",
       "  </tbody>\n",
       "</table>\n",
       "<p>136 rows × 20 columns</p>\n",
       "</div>"
      ],
      "text/plain": [
       "     year            teamname  mlb            leaguename level  \\\n",
       "6    2014   Charlotte Knights  CHA  International League   AAA   \n",
       "599  2019  Las Vegas Aviators  OAK  Pacific Coast League   AAA   \n",
       "7    2015   Charlotte Knights  CHA  International League   AAA   \n",
       "10   2018   Charlotte Knights  CHA  International League   AAA   \n",
       "9    2017   Charlotte Knights  CHA  International League   AAA   \n",
       "..    ...                 ...  ...                   ...   ...   \n",
       "598  2019       Syracuse Mets  NYN  International League   AAA   \n",
       "40   2018       Norfolk Tides  BAL  International League   AAA   \n",
       "85   2015    Memphis Redbirds  SLN  Pacific Coast League   AAA   \n",
       "597  2019   Gwinnett Stripers  ATL  International League   AAA   \n",
       "596  2018   Gwinnett Stripers  ATL  International League   AAA   \n",
       "\n",
       "                        place    g   w   l home   attend.  avg att   #  \\\n",
       "6    Charlotte,North Carolina  144  63  81   72  687715.0   9552.0  72   \n",
       "599          Las Vegas,Nevada  140  83  57   70  650934.0   9299.0  76   \n",
       "7    Charlotte,North Carolina  144  74  70   72  669398.0   9297.0  72   \n",
       "10   Charlotte,North Carolina  139  64  75   69  619639.0   8916.0  72   \n",
       "9    Charlotte,North Carolina  142  61  81   71  628526.0   8852.0  72   \n",
       "..                        ...  ...  ..  ..  ...       ...      ...  ..   \n",
       "598         Syracuse,New York  141  75  66   70  327478.0   4645.0  54   \n",
       "40           Norfolk,Virginia  140  69  71   70  341369.0   4877.0  50   \n",
       "85          Memphis,Tennessee  144  73  71   72  278579.0   3869.0  76   \n",
       "597          Gwinnett,Georgia  139  80  59   69  212342.0   3055.0  67   \n",
       "596          Gwinnett,Georgia  139  70  69   69  195955.0   2819.0  67   \n",
       "\n",
       "                Stadium  Capacity           City           State  \\\n",
       "6          Truist Field     10200      Charlotte  North Carolina   \n",
       "599  Las Vegas Ballpark     10000      Las Vegas          Nevada   \n",
       "7          Truist Field     10200      Charlotte  North Carolina   \n",
       "10         Truist Field     10200      Charlotte  North Carolina   \n",
       "9          Truist Field     10200      Charlotte  North Carolina   \n",
       "..                  ...       ...            ...             ...   \n",
       "598    NBT Bank Stadium     11117       Syracuse        New York   \n",
       "40          Harbor Park     11856        Norfolk        Virginia   \n",
       "85        AutoZone Park     10000        Memphis       Tennessee   \n",
       "597       Coolray Field     10427  Lawrenceville         Georgia   \n",
       "596       Coolray Field     10427  Lawrenceville         Georgia   \n",
       "\n",
       "           Home Team(s)             League(s)  Attendance/Capacity  \n",
       "6     Charlotte Knights  International League             0.936471  \n",
       "599  Las Vegas Aviators  Pacific Coast League             0.929900  \n",
       "7     Charlotte Knights  International League             0.911471  \n",
       "10    Charlotte Knights  International League             0.874118  \n",
       "9     Charlotte Knights  International League             0.867843  \n",
       "..                  ...                   ...                  ...  \n",
       "598       Syracuse Mets  International League             0.417829  \n",
       "40        Norfolk Tides  International League             0.411353  \n",
       "85     Memphis Redbirds  International League             0.386900  \n",
       "597   Gwinnett Stripers  International League             0.292989  \n",
       "596   Gwinnett Stripers  International League             0.270356  \n",
       "\n",
       "[136 rows x 20 columns]"
      ]
     },
     "execution_count": 173,
     "metadata": {},
     "output_type": "execute_result"
    }
   ],
   "source": [
    "minor_att_cap = minor_attendance.merge(minor_capacities, left_on='teamname', right_on='Home Team(s)')\n",
    "minor_att_cap.head()\n",
    "minor_att_cap = minor_att_cap.loc[minor_att_cap['level'].isin(['AAA'])]\n",
    "minor_att_cap['Attendance/Capacity'] = minor_att_cap['avg att']/minor_att_cap['Capacity']\n",
    "minor_att_cap.sort_values(by='Attendance/Capacity', ascending=False)"
   ]
  },
  {
   "cell_type": "code",
   "execution_count": null,
   "id": "df0e5ab8",
   "metadata": {},
   "outputs": [],
   "source": [
    "# Make data frame of Attendance with Capacities\n",
    "2`"
   ]
  },
  {
   "cell_type": "markdown",
   "id": "b4fde455",
   "metadata": {},
   "source": [
    "#### Cleaning Capacity Data\n",
    "- Fixing numbers, adding team id."
   ]
  }
 ],
 "metadata": {
  "kernelspec": {
   "display_name": "Python 3",
   "language": "python",
   "name": "python3"
  },
  "language_info": {
   "codemirror_mode": {
    "name": "ipython",
    "version": 3
   },
   "file_extension": ".py",
   "mimetype": "text/x-python",
   "name": "python",
   "nbconvert_exporter": "python",
   "pygments_lexer": "ipython3",
   "version": "3.8.8"
  }
 },
 "nbformat": 4,
 "nbformat_minor": 5
}
